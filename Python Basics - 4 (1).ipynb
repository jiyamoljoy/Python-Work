{
 "cells": [
  {
   "cell_type": "markdown",
   "id": "c07a65c3",
   "metadata": {},
   "source": [
    "# Complex data types."
   ]
  },
  {
   "cell_type": "markdown",
   "id": "afd8b878",
   "metadata": {},
   "source": [
    "## Lists"
   ]
  },
  {
   "cell_type": "markdown",
   "id": "19d441c0",
   "metadata": {},
   "source": [
    "Tuple,set and dicitionary afre the other collection data type is python.\n",
    "\n",
    "A list is ordered and changeabel.\n",
    "\n",
    "To declare a list we use the square brackets."
   ]
  },
  {
   "cell_type": "code",
   "execution_count": 20,
   "id": "0f66466a",
   "metadata": {},
   "outputs": [
    {
     "data": {
      "text/plain": [
       "[15, 25, 10, 30]"
      ]
     },
     "execution_count": 20,
     "metadata": {},
     "output_type": "execute_result"
    }
   ],
   "source": [
    "list = [20,15,25,10,30,5,'pinki','brownie']   \n",
    "#will get the values from index\n",
    "list[1:5]"
   ]
  },
  {
   "cell_type": "code",
   "execution_count": 21,
   "id": "16abc6e8",
   "metadata": {},
   "outputs": [
    {
     "data": {
      "text/plain": [
       "[25, 10, 30, 5]"
      ]
     },
     "execution_count": 21,
     "metadata": {},
     "output_type": "execute_result"
    }
   ],
   "source": [
    "list[2:6]"
   ]
  },
  {
   "cell_type": "code",
   "execution_count": 22,
   "id": "ec0c0110",
   "metadata": {},
   "outputs": [
    {
     "data": {
      "text/plain": [
       "[30, 5, 'pinki', 'brownie']"
      ]
     },
     "execution_count": 22,
     "metadata": {},
     "output_type": "execute_result"
    }
   ],
   "source": [
    "list[4:8]"
   ]
  },
  {
   "cell_type": "code",
   "execution_count": 23,
   "id": "d407160c",
   "metadata": {},
   "outputs": [
    {
     "data": {
      "text/plain": [
       "[20, 15, 25, 10, 30, 5, 'zimba', 'brownie']"
      ]
     },
     "execution_count": 23,
     "metadata": {},
     "output_type": "execute_result"
    }
   ],
   "source": [
    "#will replace the vlaue at the index 6.\n",
    "list[6]='zimba'\n",
    "list"
   ]
  },
  {
   "cell_type": "code",
   "execution_count": 24,
   "id": "7d8b54b2",
   "metadata": {},
   "outputs": [
    {
     "data": {
      "text/plain": [
       "[20, 15, 25, 10, 30, 5, 'jimmy', 'brownie']"
      ]
     },
     "execution_count": 24,
     "metadata": {},
     "output_type": "execute_result"
    }
   ],
   "source": [
    "list[6]='jimmy'\n",
    "list"
   ]
  },
  {
   "cell_type": "code",
   "execution_count": 25,
   "id": "c00e4e49",
   "metadata": {},
   "outputs": [
    {
     "data": {
      "text/plain": [
       "[20, 15, 25, 10, 30, 5, 'jimmy', 'brownie', 'blacky']"
      ]
     },
     "execution_count": 25,
     "metadata": {},
     "output_type": "execute_result"
    }
   ],
   "source": [
    "#will add the vlaue at the end of the list.\n",
    "list.append('blacky')\n",
    "list"
   ]
  },
  {
   "cell_type": "code",
   "execution_count": 26,
   "id": "2764e740",
   "metadata": {},
   "outputs": [
    {
     "data": {
      "text/plain": [
       "[20, 15, 25, 10, 'pekky', 30, 5, 'jimmy', 'brownie', 'blacky']"
      ]
     },
     "execution_count": 26,
     "metadata": {},
     "output_type": "execute_result"
    }
   ],
   "source": [
    "#will add the value at the index 4.\n",
    "list.insert(4,'pekky')\n",
    "list"
   ]
  },
  {
   "cell_type": "code",
   "execution_count": 27,
   "id": "cba9fba0",
   "metadata": {},
   "outputs": [
    {
     "data": {
      "text/plain": [
       "[20, 15, 25, 10, 'pekky', 30, 'pinki', 5, 'jimmy', 'brownie', 'blacky']"
      ]
     },
     "execution_count": 27,
     "metadata": {},
     "output_type": "execute_result"
    }
   ],
   "source": [
    "list.insert(6,'pinki')\n",
    "list"
   ]
  }
 ],
 "metadata": {
  "kernelspec": {
   "display_name": "Python 3 (ipykernel)",
   "language": "python",
   "name": "python3"
  },
  "language_info": {
   "codemirror_mode": {
    "name": "ipython",
    "version": 3
   },
   "file_extension": ".py",
   "mimetype": "text/x-python",
   "name": "python",
   "nbconvert_exporter": "python",
   "pygments_lexer": "ipython3",
   "version": "3.10.9"
  }
 },
 "nbformat": 4,
 "nbformat_minor": 5
}
