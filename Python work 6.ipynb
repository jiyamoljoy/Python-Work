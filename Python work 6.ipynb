{
 "cells": [
  {
   "cell_type": "markdown",
   "id": "cf6cda4e",
   "metadata": {},
   "source": [
    "# Sets"
   ]
  },
  {
   "cell_type": "markdown",
   "id": "b65dd09c",
   "metadata": {},
   "source": [
    "# A Set is a collection which is unordered"
   ]
  },
  {
   "cell_type": "markdown",
   "id": "21b30a3c",
   "metadata": {},
   "source": [
    "# To declare a set in python we use the curly brackets."
   ]
  },
  {
   "cell_type": "code",
   "execution_count": 59,
   "id": "036005b0",
   "metadata": {},
   "outputs": [
    {
     "name": "stdout",
     "output_type": "stream",
     "text": [
      "50\n",
      "20\n",
      "40\n",
      "10\n",
      "30\n"
     ]
    }
   ],
   "source": [
    "set={10,20,10,30,20,40,30,50,30}\n",
    "#will get all the values.\n",
    "for x in set:\n",
    " print(x)"
   ]
  },
  {
   "cell_type": "code",
   "execution_count": 60,
   "id": "b929835e",
   "metadata": {},
   "outputs": [
    {
     "name": "stdout",
     "output_type": "stream",
     "text": [
      "50\n",
      "20\n",
      "40\n",
      "10\n",
      "30\n"
     ]
    }
   ],
   "source": [
    "for x in set:\n",
    "    print(x)"
   ]
  },
  {
   "cell_type": "code",
   "execution_count": 61,
   "id": "c7dfd28b",
   "metadata": {},
   "outputs": [
    {
     "data": {
      "text/plain": [
       "True"
      ]
     },
     "execution_count": 61,
     "metadata": {},
     "output_type": "execute_result"
    }
   ],
   "source": [
    "20 in set\n",
    "#willreturn true if the value is in the set.\n"
   ]
  },
  {
   "cell_type": "code",
   "execution_count": 62,
   "id": "5ce2bfd1",
   "metadata": {},
   "outputs": [
    {
     "data": {
      "text/plain": [
       "False"
      ]
     },
     "execution_count": 62,
     "metadata": {},
     "output_type": "execute_result"
    }
   ],
   "source": [
    "100 in set"
   ]
  },
  {
   "cell_type": "code",
   "execution_count": 63,
   "id": "24d490ad",
   "metadata": {},
   "outputs": [
    {
     "data": {
      "text/plain": [
       "{10, 20, 30, 40, 50, 'pekky'}"
      ]
     },
     "execution_count": 63,
     "metadata": {},
     "output_type": "execute_result"
    }
   ],
   "source": [
    "#add a value in a set\n",
    "set.add ('pekky')\n",
    "set"
   ]
  },
  {
   "cell_type": "code",
   "execution_count": 64,
   "id": "ada75404",
   "metadata": {},
   "outputs": [
    {
     "data": {
      "text/plain": [
       "{10, 100, 20, 30, 40, 50, 'pekky'}"
      ]
     },
     "execution_count": 64,
     "metadata": {},
     "output_type": "execute_result"
    }
   ],
   "source": [
    "set.add(100)\n",
    "set"
   ]
  },
  {
   "cell_type": "code",
   "execution_count": 65,
   "id": "9b13e76d",
   "metadata": {},
   "outputs": [
    {
     "data": {
      "text/plain": [
       "True"
      ]
     },
     "execution_count": 65,
     "metadata": {},
     "output_type": "execute_result"
    }
   ],
   "source": [
    "100 in set"
   ]
  },
  {
   "cell_type": "code",
   "execution_count": 66,
   "id": "5bc66f57",
   "metadata": {},
   "outputs": [
    {
     "data": {
      "text/plain": [
       "{10, 20, 30, 40, 50, 100}"
      ]
     },
     "execution_count": 66,
     "metadata": {},
     "output_type": "execute_result"
    }
   ],
   "source": [
    "#to remove an item from a set\n",
    "set.remove('pekky')\n",
    "set"
   ]
  },
  {
   "cell_type": "code",
   "execution_count": 67,
   "id": "89817aa5",
   "metadata": {},
   "outputs": [
    {
     "data": {
      "text/plain": [
       "{10, 20, 30, 40, 50}"
      ]
     },
     "execution_count": 67,
     "metadata": {},
     "output_type": "execute_result"
    }
   ],
   "source": [
    "set.remove(100)\n",
    "set"
   ]
  },
  {
   "cell_type": "code",
   "execution_count": 68,
   "id": "c8e7c829",
   "metadata": {},
   "outputs": [
    {
     "data": {
      "text/plain": [
       "False"
      ]
     },
     "execution_count": 68,
     "metadata": {},
     "output_type": "execute_result"
    }
   ],
   "source": [
    "set1={5,10,20}\n",
    "set2= {10,20,30}\n",
    "set.issubset(set2)\n",
    "\n",
    "#to check subset or not\n"
   ]
  },
  {
   "cell_type": "code",
   "execution_count": 69,
   "id": "21b74f35",
   "metadata": {},
   "outputs": [
    {
     "data": {
      "text/plain": [
       "True"
      ]
     },
     "execution_count": 69,
     "metadata": {},
     "output_type": "execute_result"
    }
   ],
   "source": [
    "set1={10,20}\n",
    "set2={10,20,30}\n",
    "set1.issubset(set2)\n"
   ]
  },
  {
   "cell_type": "code",
   "execution_count": 70,
   "id": "9e371a96",
   "metadata": {},
   "outputs": [
    {
     "data": {
      "text/plain": [
       "{10, 20, 30}"
      ]
     },
     "execution_count": 70,
     "metadata": {},
     "output_type": "execute_result"
    }
   ],
   "source": [
    "#this will return a set with the union of the two sets.\n",
    "set1.union(set2)"
   ]
  },
  {
   "cell_type": "code",
   "execution_count": 71,
   "id": "0f5f40a7",
   "metadata": {},
   "outputs": [
    {
     "data": {
      "text/plain": [
       "{1, 2, 2.3, 4}"
      ]
     },
     "execution_count": 71,
     "metadata": {},
     "output_type": "execute_result"
    }
   ],
   "source": [
    "st1={4,2.3}\n",
    "st2={4,2,1}\n",
    "st1.union(st2)"
   ]
  }
 ],
 "metadata": {
  "kernelspec": {
   "display_name": "Python 3 (ipykernel)",
   "language": "python",
   "name": "python3"
  },
  "language_info": {
   "codemirror_mode": {
    "name": "ipython",
    "version": 3
   },
   "file_extension": ".py",
   "mimetype": "text/x-python",
   "name": "python",
   "nbconvert_exporter": "python",
   "pygments_lexer": "ipython3",
   "version": "3.10.9"
  }
 },
 "nbformat": 4,
 "nbformat_minor": 5
}
