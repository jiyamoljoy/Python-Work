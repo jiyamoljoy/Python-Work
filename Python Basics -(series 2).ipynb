{
 "cells": [
  {
   "cell_type": "markdown",
   "id": "b12b9104",
   "metadata": {},
   "source": [
    "## To Subtract 2 numbers"
   ]
  },
  {
   "cell_type": "raw",
   "id": "d3388b64",
   "metadata": {},
   "source": [
    "1st assign data into string\n",
    "input a number\n"
   ]
  },
  {
   "cell_type": "code",
   "execution_count": 3,
   "id": "384400e8",
   "metadata": {},
   "outputs": [
    {
     "data": {
      "text/plain": [
       "8"
      ]
     },
     "execution_count": 3,
     "metadata": {},
     "output_type": "execute_result"
    }
   ],
   "source": [
    "a=2\n",
    "b=10\n",
    "c=b-a\n",
    "c"
   ]
  },
  {
   "cell_type": "markdown",
   "id": "9602e95b",
   "metadata": {},
   "source": [
    "# or"
   ]
  },
  {
   "cell_type": "code",
   "execution_count": 4,
   "id": "5406a439",
   "metadata": {},
   "outputs": [
    {
     "name": "stdout",
     "output_type": "stream",
     "text": [
      "first number:10\n"
     ]
    }
   ],
   "source": [
    "num1=input('first number:')"
   ]
  },
  {
   "cell_type": "code",
   "execution_count": 5,
   "id": "eea7a80b",
   "metadata": {},
   "outputs": [
    {
     "name": "stdout",
     "output_type": "stream",
     "text": [
      "\n",
      "Second number:2\n"
     ]
    }
   ],
   "source": [
    "#back slash is given to come to next line\n",
    "num2=input('\\nSecond number:')"
   ]
  },
  {
   "cell_type": "code",
   "execution_count": 6,
   "id": "293fa811",
   "metadata": {},
   "outputs": [
    {
     "data": {
      "text/plain": [
       "8.0"
      ]
     },
     "execution_count": 6,
     "metadata": {},
     "output_type": "execute_result"
    }
   ],
   "source": [
    "#string converting to float\n",
    "sub=float(num1)-float(num2)\n",
    "sub\n",
    "    "
   ]
  },
  {
   "cell_type": "code",
   "execution_count": 7,
   "id": "127a861b",
   "metadata": {},
   "outputs": [
    {
     "name": "stdout",
     "output_type": "stream",
     "text": [
      "the subracted value of 10 and 2 is 8.0\n"
     ]
    }
   ],
   "source": [
    "#to convert float into string format we give .format\n",
    "#here inside the curly brackets we give the index numbers of each code\n",
    "\n",
    "print('the subracted value of {0} and {1} is {2}' .format(num1,num2,sub))"
   ]
  }
 ],
 "metadata": {
  "kernelspec": {
   "display_name": "Python 3 (ipykernel)",
   "language": "python",
   "name": "python3"
  },
  "language_info": {
   "codemirror_mode": {
    "name": "ipython",
    "version": 3
   },
   "file_extension": ".py",
   "mimetype": "text/x-python",
   "name": "python",
   "nbconvert_exporter": "python",
   "pygments_lexer": "ipython3",
   "version": "3.10.9"
  }
 },
 "nbformat": 4,
 "nbformat_minor": 5
}
