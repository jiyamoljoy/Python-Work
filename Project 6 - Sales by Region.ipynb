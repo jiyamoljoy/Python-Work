{
 "cells": [
  {
   "cell_type": "code",
   "execution_count": 6,
   "id": "19259e12",
   "metadata": {},
   "outputs": [],
   "source": [
    "import pandas as pd\n",
    "Sale = pd.read_excel('Sales by Region (1).xlsx')\n"
   ]
  },
  {
   "cell_type": "code",
   "execution_count": 36,
   "id": "ba02731f",
   "metadata": {},
   "outputs": [
    {
     "data": {
      "text/html": [
       "<div>\n",
       "<style scoped>\n",
       "    .dataframe tbody tr th:only-of-type {\n",
       "        vertical-align: middle;\n",
       "    }\n",
       "\n",
       "    .dataframe tbody tr th {\n",
       "        vertical-align: top;\n",
       "    }\n",
       "\n",
       "    .dataframe thead th {\n",
       "        text-align: right;\n",
       "    }\n",
       "</style>\n",
       "<table border=\"1\" class=\"dataframe\">\n",
       "  <thead>\n",
       "    <tr style=\"text-align: right;\">\n",
       "      <th></th>\n",
       "      <th>Order ID</th>\n",
       "      <th>Order Date</th>\n",
       "      <th>Product Name</th>\n",
       "      <th>Category</th>\n",
       "      <th>Quantity</th>\n",
       "      <th>Sales</th>\n",
       "      <th>Region</th>\n",
       "      <th>Customer</th>\n",
       "    </tr>\n",
       "  </thead>\n",
       "  <tbody>\n",
       "    <tr>\n",
       "      <th>0</th>\n",
       "      <td>BN-2011-7407039</td>\n",
       "      <td>2011-01-01</td>\n",
       "      <td>Enermax Note Cards, Premium</td>\n",
       "      <td>Office Supplies</td>\n",
       "      <td>3</td>\n",
       "      <td>45</td>\n",
       "      <td>North</td>\n",
       "      <td>Ruby Patel</td>\n",
       "    </tr>\n",
       "    <tr>\n",
       "      <th>1</th>\n",
       "      <td>AZ-2011-9050313</td>\n",
       "      <td>2011-01-03</td>\n",
       "      <td>Dania Corner Shelving, Traditional</td>\n",
       "      <td>Furniture</td>\n",
       "      <td>7</td>\n",
       "      <td>854</td>\n",
       "      <td>North</td>\n",
       "      <td>Summer Hayward</td>\n",
       "    </tr>\n",
       "    <tr>\n",
       "      <th>2</th>\n",
       "      <td>AZ-2011-6674300</td>\n",
       "      <td>2011-01-04</td>\n",
       "      <td>Binney &amp; Smith Sketch Pad, Easy-Erase</td>\n",
       "      <td>Office Supplies</td>\n",
       "      <td>3</td>\n",
       "      <td>140</td>\n",
       "      <td>Central</td>\n",
       "      <td>Devin Huddleston</td>\n",
       "    </tr>\n",
       "    <tr>\n",
       "      <th>3</th>\n",
       "      <td>BN-2011-2819714</td>\n",
       "      <td>2011-01-04</td>\n",
       "      <td>Boston Markers, Easy-Erase</td>\n",
       "      <td>Office Supplies</td>\n",
       "      <td>2</td>\n",
       "      <td>27</td>\n",
       "      <td>North</td>\n",
       "      <td>Mary Parker</td>\n",
       "    </tr>\n",
       "    <tr>\n",
       "      <th>4</th>\n",
       "      <td>AZ-2011-617423</td>\n",
       "      <td>2011-01-05</td>\n",
       "      <td>Binney &amp; Smith Pencil Sharpener, Water Color</td>\n",
       "      <td>Office Supplies</td>\n",
       "      <td>3</td>\n",
       "      <td>90</td>\n",
       "      <td>Central</td>\n",
       "      <td>Daniel Burke</td>\n",
       "    </tr>\n",
       "  </tbody>\n",
       "</table>\n",
       "</div>"
      ],
      "text/plain": [
       "          Order ID Order Date                                  Product Name  \\\n",
       "0  BN-2011-7407039 2011-01-01                   Enermax Note Cards, Premium   \n",
       "1  AZ-2011-9050313 2011-01-03            Dania Corner Shelving, Traditional   \n",
       "2  AZ-2011-6674300 2011-01-04         Binney & Smith Sketch Pad, Easy-Erase   \n",
       "3  BN-2011-2819714 2011-01-04                    Boston Markers, Easy-Erase   \n",
       "4   AZ-2011-617423 2011-01-05  Binney & Smith Pencil Sharpener, Water Color   \n",
       "\n",
       "          Category  Quantity  Sales   Region          Customer  \n",
       "0  Office Supplies         3     45    North        Ruby Patel  \n",
       "1        Furniture         7    854    North    Summer Hayward  \n",
       "2  Office Supplies         3    140  Central  Devin Huddleston  \n",
       "3  Office Supplies         2     27    North       Mary Parker  \n",
       "4  Office Supplies         3     90  Central      Daniel Burke  "
      ]
     },
     "execution_count": 36,
     "metadata": {},
     "output_type": "execute_result"
    }
   ],
   "source": [
    "Sale.head()"
   ]
  },
  {
   "cell_type": "code",
   "execution_count": 8,
   "id": "631be8a0",
   "metadata": {},
   "outputs": [
    {
     "data": {
      "text/html": [
       "<div>\n",
       "<style scoped>\n",
       "    .dataframe tbody tr th:only-of-type {\n",
       "        vertical-align: middle;\n",
       "    }\n",
       "\n",
       "    .dataframe tbody tr th {\n",
       "        vertical-align: top;\n",
       "    }\n",
       "\n",
       "    .dataframe thead th {\n",
       "        text-align: right;\n",
       "    }\n",
       "</style>\n",
       "<table border=\"1\" class=\"dataframe\">\n",
       "  <thead>\n",
       "    <tr style=\"text-align: right;\">\n",
       "      <th></th>\n",
       "      <th>Order ID</th>\n",
       "      <th>Order Date</th>\n",
       "      <th>Product Name</th>\n",
       "      <th>Category</th>\n",
       "      <th>Quantity</th>\n",
       "      <th>Sales</th>\n",
       "      <th>Region</th>\n",
       "      <th>Customer</th>\n",
       "    </tr>\n",
       "  </thead>\n",
       "  <tbody>\n",
       "    <tr>\n",
       "      <th>4112</th>\n",
       "      <td>AZ-2014-8174835</td>\n",
       "      <td>2014-12-31</td>\n",
       "      <td>Kleencut Shears, Serrated</td>\n",
       "      <td>Office Supplies</td>\n",
       "      <td>6</td>\n",
       "      <td>261</td>\n",
       "      <td>Central</td>\n",
       "      <td>Eloise Sykes</td>\n",
       "    </tr>\n",
       "    <tr>\n",
       "      <th>4113</th>\n",
       "      <td>AZ-2014-766953</td>\n",
       "      <td>2014-12-31</td>\n",
       "      <td>Ikea Stackable Bookrack, Traditional</td>\n",
       "      <td>Furniture</td>\n",
       "      <td>2</td>\n",
       "      <td>245</td>\n",
       "      <td>North</td>\n",
       "      <td>Jose Gambino</td>\n",
       "    </tr>\n",
       "    <tr>\n",
       "      <th>4114</th>\n",
       "      <td>AZ-2014-1412225</td>\n",
       "      <td>2014-12-31</td>\n",
       "      <td>Fellowes Shelving, Single Width</td>\n",
       "      <td>Office Supplies</td>\n",
       "      <td>5</td>\n",
       "      <td>289</td>\n",
       "      <td>North</td>\n",
       "      <td>Leon Barnes</td>\n",
       "    </tr>\n",
       "    <tr>\n",
       "      <th>4115</th>\n",
       "      <td>AZ-2014-7604524</td>\n",
       "      <td>2014-12-31</td>\n",
       "      <td>Wilson Jones Index Tab, Economy</td>\n",
       "      <td>Office Supplies</td>\n",
       "      <td>5</td>\n",
       "      <td>32</td>\n",
       "      <td>Central</td>\n",
       "      <td>Rebecca Chamberlain</td>\n",
       "    </tr>\n",
       "    <tr>\n",
       "      <th>4116</th>\n",
       "      <td>BN-2014-4140795</td>\n",
       "      <td>2014-12-31</td>\n",
       "      <td>BIC Pencil Sharpener, Fluorescent</td>\n",
       "      <td>Office Supplies</td>\n",
       "      <td>2</td>\n",
       "      <td>30</td>\n",
       "      <td>Central</td>\n",
       "      <td>Daniel Hamilton</td>\n",
       "    </tr>\n",
       "  </tbody>\n",
       "</table>\n",
       "</div>"
      ],
      "text/plain": [
       "             Order ID Order Date                          Product Name  \\\n",
       "4112  AZ-2014-8174835 2014-12-31             Kleencut Shears, Serrated   \n",
       "4113   AZ-2014-766953 2014-12-31  Ikea Stackable Bookrack, Traditional   \n",
       "4114  AZ-2014-1412225 2014-12-31       Fellowes Shelving, Single Width   \n",
       "4115  AZ-2014-7604524 2014-12-31       Wilson Jones Index Tab, Economy   \n",
       "4116  BN-2014-4140795 2014-12-31     BIC Pencil Sharpener, Fluorescent   \n",
       "\n",
       "             Category  Quantity  Sales   Region             Customer  \n",
       "4112  Office Supplies         6    261  Central         Eloise Sykes  \n",
       "4113        Furniture         2    245    North         Jose Gambino  \n",
       "4114  Office Supplies         5    289    North          Leon Barnes  \n",
       "4115  Office Supplies         5     32  Central  Rebecca Chamberlain  \n",
       "4116  Office Supplies         2     30  Central      Daniel Hamilton  "
      ]
     },
     "execution_count": 8,
     "metadata": {},
     "output_type": "execute_result"
    }
   ],
   "source": [
    "Sale.tail()"
   ]
  },
  {
   "cell_type": "code",
   "execution_count": 9,
   "id": "c57907bf",
   "metadata": {},
   "outputs": [
    {
     "name": "stdout",
     "output_type": "stream",
     "text": [
      "<class 'pandas.core.frame.DataFrame'>\n",
      "RangeIndex: 4117 entries, 0 to 4116\n",
      "Data columns (total 8 columns):\n",
      " #   Column        Non-Null Count  Dtype         \n",
      "---  ------        --------------  -----         \n",
      " 0   Order ID      4117 non-null   object        \n",
      " 1   Order Date    4117 non-null   datetime64[ns]\n",
      " 2   Product Name  4117 non-null   object        \n",
      " 3   Category      4117 non-null   object        \n",
      " 4   Quantity      4117 non-null   int64         \n",
      " 5   Sales         4117 non-null   int64         \n",
      " 6   Region        4117 non-null   object        \n",
      " 7   Customer      4117 non-null   object        \n",
      "dtypes: datetime64[ns](1), int64(2), object(5)\n",
      "memory usage: 257.4+ KB\n"
     ]
    }
   ],
   "source": [
    "Sale.info()"
   ]
  },
  {
   "cell_type": "markdown",
   "id": "a9b84d29",
   "metadata": {},
   "source": [
    "### 1. Find total Sales"
   ]
  },
  {
   "cell_type": "code",
   "execution_count": 10,
   "id": "c212e4de",
   "metadata": {},
   "outputs": [
    {
     "data": {
      "text/plain": [
       "1267690"
      ]
     },
     "execution_count": 10,
     "metadata": {},
     "output_type": "execute_result"
    }
   ],
   "source": [
    "x=Sale['Sales'].sum()\n",
    "x"
   ]
  },
  {
   "cell_type": "markdown",
   "id": "b0f9561a",
   "metadata": {},
   "source": [
    "### 2. Find total number of units sold"
   ]
  },
  {
   "cell_type": "code",
   "execution_count": 11,
   "id": "887b63dd",
   "metadata": {},
   "outputs": [
    {
     "data": {
      "text/plain": [
       "4117"
      ]
     },
     "execution_count": 11,
     "metadata": {},
     "output_type": "execute_result"
    }
   ],
   "source": [
    "x=Sale['Quantity'].value_counts().sum()\n",
    "x"
   ]
  },
  {
   "cell_type": "markdown",
   "id": "f99431cf",
   "metadata": {},
   "source": [
    "### 3. Find category wise sales"
   ]
  },
  {
   "cell_type": "code",
   "execution_count": 12,
   "id": "67119738",
   "metadata": {},
   "outputs": [
    {
     "name": "stderr",
     "output_type": "stream",
     "text": [
      "C:\\Users\\jiyam\\AppData\\Local\\Temp\\ipykernel_2724\\876759791.py:1: FutureWarning: The default value of numeric_only in DataFrameGroupBy.sum is deprecated. In a future version, numeric_only will default to False. Either specify numeric_only or select only columns which should be valid for the function.\n",
      "  x=Sale.groupby('Category').sum()['Sales']\n"
     ]
    },
    {
     "data": {
      "text/plain": [
       "Category\n",
       "Furniture          568595\n",
       "Office Supplies    421719\n",
       "Technology         277376\n",
       "Name: Sales, dtype: int64"
      ]
     },
     "execution_count": 12,
     "metadata": {},
     "output_type": "execute_result"
    }
   ],
   "source": [
    "x=Sale.groupby('Category').sum()['Sales']\n",
    "x"
   ]
  },
  {
   "cell_type": "markdown",
   "id": "ec9d3903",
   "metadata": {},
   "source": [
    "### 4. Find category wise units sold"
   ]
  },
  {
   "cell_type": "code",
   "execution_count": 13,
   "id": "c7212cb2",
   "metadata": {},
   "outputs": [
    {
     "name": "stderr",
     "output_type": "stream",
     "text": [
      "C:\\Users\\jiyam\\AppData\\Local\\Temp\\ipykernel_2724\\3507676810.py:1: FutureWarning: The default value of numeric_only in DataFrameGroupBy.sum is deprecated. In a future version, numeric_only will default to False. Either specify numeric_only or select only columns which should be valid for the function.\n",
      "  x=Sale.groupby('Category').sum()['Quantity']\n"
     ]
    },
    {
     "data": {
      "text/plain": [
       "Category\n",
       "Furniture          4017\n",
       "Office Supplies    9711\n",
       "Technology         1700\n",
       "Name: Quantity, dtype: int64"
      ]
     },
     "execution_count": 13,
     "metadata": {},
     "output_type": "execute_result"
    }
   ],
   "source": [
    "x=Sale.groupby('Category').sum()['Quantity']\n",
    "x"
   ]
  },
  {
   "cell_type": "markdown",
   "id": "0827a5a4",
   "metadata": {},
   "source": [
    "### 5. Find region wise sales"
   ]
  },
  {
   "cell_type": "code",
   "execution_count": 14,
   "id": "c3a69503",
   "metadata": {},
   "outputs": [
    {
     "name": "stderr",
     "output_type": "stream",
     "text": [
      "C:\\Users\\jiyam\\AppData\\Local\\Temp\\ipykernel_2724\\1657065129.py:1: FutureWarning: The default value of numeric_only in DataFrameGroupBy.sum is deprecated. In a future version, numeric_only will default to False. Either specify numeric_only or select only columns which should be valid for the function.\n",
      "  x=Sale.groupby('Region').sum()['Sales']\n"
     ]
    },
    {
     "data": {
      "text/plain": [
       "Region\n",
       "Central    698288\n",
       "North      289102\n",
       "South      280300\n",
       "Name: Sales, dtype: int64"
      ]
     },
     "execution_count": 14,
     "metadata": {},
     "output_type": "execute_result"
    }
   ],
   "source": [
    "x=Sale.groupby('Region').sum()['Sales']\n",
    "x"
   ]
  },
  {
   "cell_type": "markdown",
   "id": "2b30da15",
   "metadata": {},
   "source": [
    "### 6. Find region wise units sold"
   ]
  },
  {
   "cell_type": "code",
   "execution_count": 15,
   "id": "a0587cc5",
   "metadata": {},
   "outputs": [
    {
     "name": "stderr",
     "output_type": "stream",
     "text": [
      "C:\\Users\\jiyam\\AppData\\Local\\Temp\\ipykernel_2724\\2191744382.py:1: FutureWarning: The default value of numeric_only in DataFrameGroupBy.sum is deprecated. In a future version, numeric_only will default to False. Either specify numeric_only or select only columns which should be valid for the function.\n",
      "  x=Sale.groupby('Region').sum()['Quantity']\n"
     ]
    },
    {
     "data": {
      "text/plain": [
       "Region\n",
       "Central    8503\n",
       "North      3506\n",
       "South      3419\n",
       "Name: Quantity, dtype: int64"
      ]
     },
     "execution_count": 15,
     "metadata": {},
     "output_type": "execute_result"
    }
   ],
   "source": [
    "x=Sale.groupby('Region').sum()['Quantity']\n",
    "x"
   ]
  },
  {
   "cell_type": "markdown",
   "id": "698ee5df",
   "metadata": {},
   "source": [
    "### 7. Find customer wise sales"
   ]
  },
  {
   "cell_type": "code",
   "execution_count": 16,
   "id": "51917d06",
   "metadata": {},
   "outputs": [
    {
     "name": "stderr",
     "output_type": "stream",
     "text": [
      "C:\\Users\\jiyam\\AppData\\Local\\Temp\\ipykernel_2724\\2967695727.py:1: FutureWarning: The default value of numeric_only in DataFrameGroupBy.sum is deprecated. In a future version, numeric_only will default to False. Either specify numeric_only or select only columns which should be valid for the function.\n",
      "  x=Sale.groupby('Customer').sum()['Sales']\n"
     ]
    },
    {
     "data": {
      "text/plain": [
       "Customer\n",
       "Aaron Bootman       1635\n",
       "Aaron Cunningham     820\n",
       "Aaron Davey         1862\n",
       "Aaron Macrossan       81\n",
       "Abbie Perry          619\n",
       "                    ... \n",
       "Zara Loton          1570\n",
       "Zara Money           785\n",
       "Zoe Lanigan         2358\n",
       "Zoe Lowin            565\n",
       "Zona Meyer          2490\n",
       "Name: Sales, Length: 792, dtype: int64"
      ]
     },
     "execution_count": 16,
     "metadata": {},
     "output_type": "execute_result"
    }
   ],
   "source": [
    "x=Sale.groupby('Customer').sum()['Sales']\n",
    "x"
   ]
  },
  {
   "cell_type": "markdown",
   "id": "eca9ea21",
   "metadata": {},
   "source": [
    "### 8. find customer wise units sold"
   ]
  },
  {
   "cell_type": "code",
   "execution_count": 17,
   "id": "b00b2281",
   "metadata": {},
   "outputs": [
    {
     "name": "stderr",
     "output_type": "stream",
     "text": [
      "C:\\Users\\jiyam\\AppData\\Local\\Temp\\ipykernel_2724\\435244520.py:1: FutureWarning: The default value of numeric_only in DataFrameGroupBy.sum is deprecated. In a future version, numeric_only will default to False. Either specify numeric_only or select only columns which should be valid for the function.\n",
      "  x=Sale.groupby('Customer').sum()['Quantity']\n"
     ]
    },
    {
     "data": {
      "text/plain": [
       "Customer\n",
       "Aaron Bootman       37\n",
       "Aaron Cunningham    25\n",
       "Aaron Davey         22\n",
       "Aaron Macrossan      3\n",
       "Abbie Perry         11\n",
       "                    ..\n",
       "Zara Loton           8\n",
       "Zara Money          26\n",
       "Zoe Lanigan         16\n",
       "Zoe Lowin           14\n",
       "Zona Meyer          41\n",
       "Name: Quantity, Length: 792, dtype: int64"
      ]
     },
     "execution_count": 17,
     "metadata": {},
     "output_type": "execute_result"
    }
   ],
   "source": [
    "x=Sale.groupby('Customer').sum()['Quantity']\n",
    "x"
   ]
  },
  {
   "cell_type": "markdown",
   "id": "7b896dd5",
   "metadata": {},
   "source": [
    "### 9. Find date wise sales"
   ]
  },
  {
   "cell_type": "code",
   "execution_count": 18,
   "id": "fda4edeb",
   "metadata": {},
   "outputs": [
    {
     "name": "stderr",
     "output_type": "stream",
     "text": [
      "C:\\Users\\jiyam\\AppData\\Local\\Temp\\ipykernel_2724\\2390466483.py:1: FutureWarning: The default value of numeric_only in DataFrameGroupBy.sum is deprecated. In a future version, numeric_only will default to False. Either specify numeric_only or select only columns which should be valid for the function.\n",
      "  x=Sale.groupby('Order Date').sum()['Sales']\n"
     ]
    },
    {
     "data": {
      "text/plain": [
       "Order Date\n",
       "2011-01-01      45\n",
       "2011-01-03     854\n",
       "2011-01-04     167\n",
       "2011-01-05      90\n",
       "2011-01-07     155\n",
       "              ... \n",
       "2014-12-27    1718\n",
       "2014-12-28     135\n",
       "2014-12-29    2384\n",
       "2014-12-30     457\n",
       "2014-12-31    1414\n",
       "Name: Sales, Length: 1214, dtype: int64"
      ]
     },
     "execution_count": 18,
     "metadata": {},
     "output_type": "execute_result"
    }
   ],
   "source": [
    "x=Sale.groupby('Order Date').sum()['Sales']\n",
    "x"
   ]
  },
  {
   "cell_type": "markdown",
   "id": "7d2636fd",
   "metadata": {},
   "source": [
    "### 10. Find date wise units sold"
   ]
  },
  {
   "cell_type": "code",
   "execution_count": 19,
   "id": "be5f204c",
   "metadata": {},
   "outputs": [
    {
     "name": "stderr",
     "output_type": "stream",
     "text": [
      "C:\\Users\\jiyam\\AppData\\Local\\Temp\\ipykernel_2724\\333296659.py:1: FutureWarning: The default value of numeric_only in DataFrameGroupBy.sum is deprecated. In a future version, numeric_only will default to False. Either specify numeric_only or select only columns which should be valid for the function.\n",
      "  x=Sale.groupby('Order Date').sum()['Quantity']\n"
     ]
    },
    {
     "data": {
      "text/plain": [
       "Order Date\n",
       "2011-01-01     3\n",
       "2011-01-03     7\n",
       "2011-01-04     5\n",
       "2011-01-05     3\n",
       "2011-01-07     1\n",
       "              ..\n",
       "2014-12-27    14\n",
       "2014-12-28     5\n",
       "2014-12-29    32\n",
       "2014-12-30    13\n",
       "2014-12-31    23\n",
       "Name: Quantity, Length: 1214, dtype: int64"
      ]
     },
     "execution_count": 19,
     "metadata": {},
     "output_type": "execute_result"
    }
   ],
   "source": [
    "x=Sale.groupby('Order Date').sum()['Quantity']\n",
    "x"
   ]
  },
  {
   "cell_type": "markdown",
   "id": "1b95b664",
   "metadata": {},
   "source": [
    "### 11. Find total number of orders"
   ]
  },
  {
   "cell_type": "code",
   "execution_count": 20,
   "id": "f0b6e126",
   "metadata": {},
   "outputs": [
    {
     "data": {
      "text/plain": [
       "4117"
      ]
     },
     "execution_count": 20,
     "metadata": {},
     "output_type": "execute_result"
    }
   ],
   "source": [
    "x=Sale['Order Date'].count()\n",
    "x"
   ]
  },
  {
   "cell_type": "markdown",
   "id": "628d5d49",
   "metadata": {},
   "source": [
    "### 12. Find the Q1, Q2 and Q3 of Sales in a Box Plot\n",
    "       Give the Values of Q1, Q2, Q3"
   ]
  },
  {
   "cell_type": "code",
   "execution_count": 21,
   "id": "1defd5ef",
   "metadata": {},
   "outputs": [
    {
     "ename": "SyntaxError",
     "evalue": "incomplete input (1099815042.py, line 1)",
     "output_type": "error",
     "traceback": [
      "\u001b[1;36m  Cell \u001b[1;32mIn[21], line 1\u001b[1;36m\u001b[0m\n\u001b[1;33m    x.boxplot(by = 'Sales',\u001b[0m\n\u001b[1;37m                            ^\u001b[0m\n\u001b[1;31mSyntaxError\u001b[0m\u001b[1;31m:\u001b[0m incomplete input\n"
     ]
    }
   ],
   "source": [
    "x.boxplot(by = 'Sales', "
   ]
  },
  {
   "cell_type": "markdown",
   "id": "2d4a4958",
   "metadata": {},
   "source": [
    "### 13. Show the average sales of each region in Pie Chart"
   ]
  },
  {
   "cell_type": "code",
   "execution_count": 22,
   "id": "ea0d7119",
   "metadata": {},
   "outputs": [
    {
     "name": "stderr",
     "output_type": "stream",
     "text": [
      "C:\\Users\\jiyam\\AppData\\Local\\Temp\\ipykernel_2724\\2753026857.py:1: FutureWarning: The default value of numeric_only in DataFrameGroupBy.mean is deprecated. In a future version, numeric_only will default to False. Either specify numeric_only or select only columns which should be valid for the function.\n",
      "  x=Sale.groupby('Region').mean()['Sales'].plot(kind='pie')\n"
     ]
    },
    {
     "data": {
      "image/png": "[encoded data removed]",
      "text/plain": [
       "<Figure size 640x480 with 1 Axes>"
      ]
     },
     "metadata": {},
     "output_type": "display_data"
    }
   ],
   "source": [
    "x=Sale.groupby('Region').mean()['Sales'].plot(kind='pie')"
   ]
  },
  {
   "cell_type": "markdown",
   "id": "299eb17e",
   "metadata": {},
   "source": [
    "### 14. Show the Average sales of each category in Bar Chart"
   ]
  },
  {
   "cell_type": "code",
   "execution_count": 23,
   "id": "09749e4c",
   "metadata": {},
   "outputs": [
    {
     "name": "stderr",
     "output_type": "stream",
     "text": [
      "C:\\Users\\jiyam\\AppData\\Local\\Temp\\ipykernel_2724\\3849297441.py:1: FutureWarning: The default value of numeric_only in DataFrameGroupBy.mean is deprecated. In a future version, numeric_only will default to False. Either specify numeric_only or select only columns which should be valid for the function.\n",
      "  x=Sale.groupby('Category').mean()['Sales'].plot(kind='bar')\n"
     ]
    },
    {
     "data": {
      "image/png": "[encoded data removed]",
      "text/plain": [
       "<Figure size 640x480 with 1 Axes>"
      ]
     },
     "metadata": {},
     "output_type": "display_data"
    }
   ],
   "source": [
    "x=Sale.groupby('Category').mean()['Sales'].plot(kind='bar')\n"
   ]
  },
  {
   "cell_type": "markdown",
   "id": "8ca877d3",
   "metadata": {},
   "source": [
    "### 15. Find the maximum sales in each region"
   ]
  },
  {
   "cell_type": "code",
   "execution_count": 30,
   "id": "c1973ba4",
   "metadata": {},
   "outputs": [
    {
     "data": {
      "text/plain": [
       "Region\n",
       "Central    5729\n",
       "North      5725\n",
       "South      6517\n",
       "Name: Sales, dtype: int64"
      ]
     },
     "execution_count": 30,
     "metadata": {},
     "output_type": "execute_result"
    }
   ],
   "source": [
    "x=Sale.groupby('Region').max()['Sales']\n",
    "x"
   ]
  },
  {
   "cell_type": "markdown",
   "id": "1b5d3252",
   "metadata": {},
   "source": [
    "### 16. Find the minimum sales in each region"
   ]
  },
  {
   "cell_type": "code",
   "execution_count": 31,
   "id": "6ffb0ebc",
   "metadata": {},
   "outputs": [
    {
     "data": {
      "text/plain": [
       "Region\n",
       "Central    5\n",
       "North      3\n",
       "South      8\n",
       "Name: Sales, dtype: int64"
      ]
     },
     "execution_count": 31,
     "metadata": {},
     "output_type": "execute_result"
    }
   ],
   "source": [
    "x=Sale.groupby('Region').min()['Sales']\n",
    "x"
   ]
  },
  {
   "cell_type": "markdown",
   "id": "7488335e",
   "metadata": {},
   "source": [
    "### 17. Find average sales in each region"
   ]
  },
  {
   "cell_type": "code",
   "execution_count": 32,
   "id": "22128deb",
   "metadata": {},
   "outputs": [
    {
     "name": "stderr",
     "output_type": "stream",
     "text": [
      "C:\\Users\\jiyam\\AppData\\Local\\Temp\\ipykernel_2724\\2110073223.py:1: FutureWarning: The default value of numeric_only in DataFrameGroupBy.mean is deprecated. In a future version, numeric_only will default to False. Either specify numeric_only or select only columns which should be valid for the function.\n",
      "  x=Sale.groupby('Region').mean()['Sales']\n"
     ]
    },
    {
     "data": {
      "text/plain": [
       "Region\n",
       "Central    312.572963\n",
       "North      304.317895\n",
       "South      300.428725\n",
       "Name: Sales, dtype: float64"
      ]
     },
     "execution_count": 32,
     "metadata": {},
     "output_type": "execute_result"
    }
   ],
   "source": [
    "x=Sale.groupby('Region').mean()['Sales']\n",
    "x"
   ]
  },
  {
   "cell_type": "markdown",
   "id": "ab5661ab",
   "metadata": {},
   "source": [
    "### 18. Find maximum sales by each category"
   ]
  },
  {
   "cell_type": "code",
   "execution_count": 33,
   "id": "7beda5dd",
   "metadata": {},
   "outputs": [
    {
     "data": {
      "text/plain": [
       "Category\n",
       "Furniture          5729\n",
       "Office Supplies    6517\n",
       "Technology         5725\n",
       "Name: Sales, dtype: int64"
      ]
     },
     "execution_count": 33,
     "metadata": {},
     "output_type": "execute_result"
    }
   ],
   "source": [
    "x=Sale.groupby('Category').max()['Sales']\n",
    "x"
   ]
  },
  {
   "cell_type": "markdown",
   "id": "2fdac32b",
   "metadata": {},
   "source": [
    "### 19. Find minimum sales by each category"
   ]
  },
  {
   "cell_type": "code",
   "execution_count": 34,
   "id": "0145a33c",
   "metadata": {},
   "outputs": [
    {
     "data": {
      "text/plain": [
       "Category\n",
       "Furniture          11\n",
       "Office Supplies     3\n",
       "Technology         20\n",
       "Name: Sales, dtype: int64"
      ]
     },
     "execution_count": 34,
     "metadata": {},
     "output_type": "execute_result"
    }
   ],
   "source": [
    "x=Sale.groupby('Category').min()['Sales']\n",
    "x"
   ]
  },
  {
   "cell_type": "markdown",
   "id": "ae362ee6",
   "metadata": {},
   "source": [
    "### 20. Draw a Histogram using the Sales data"
   ]
  },
  {
   "cell_type": "code",
   "execution_count": 35,
   "id": "82781777",
   "metadata": {},
   "outputs": [
    {
     "data": {
      "image/png": "[encoded data removed]",
      "text/plain": [
       "<Figure size 640x480 with 1 Axes>"
      ]
     },
     "metadata": {},
     "output_type": "display_data"
    }
   ],
   "source": [
    "x=Sale.plot( y='Sales', kind='hist',bins=10);"
   ]
  },
  {
   "cell_type": "code",
   "execution_count": null,
   "id": "0154d005",
   "metadata": {},
   "outputs": [],
   "source": []
  }
 ],
 "metadata": {
  "kernelspec": {
   "display_name": "Python 3 (ipykernel)",
   "language": "python",
   "name": "python3"
  },
  "language_info": {
   "codemirror_mode": {
    "name": "ipython",
    "version": 3
   },
   "file_extension": ".py",
   "mimetype": "text/x-python",
   "name": "python",
   "nbconvert_exporter": "python",
   "pygments_lexer": "ipython3",
   "version": "3.10.9"
  }
 },
 "nbformat": 4,
 "nbformat_minor": 5
}
