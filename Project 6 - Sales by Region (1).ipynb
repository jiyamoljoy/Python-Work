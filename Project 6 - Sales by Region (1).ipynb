{
 "cells": [
  {
   "cell_type": "code",
   "execution_count": 2,
   "id": "19259e12",
   "metadata": {},
   "outputs": [],
   "source": [
    "import pandas as pd\n",
    "Sale = pd.read_excel('Sales by Region (1).xlsx')\n"
   ]
  },
  {
   "cell_type": "code",
   "execution_count": 3,
   "id": "ba02731f",
   "metadata": {},
   "outputs": [
    {
     "ename": "NameError",
     "evalue": "name 'Sales' is not defined",
     "output_type": "error",
     "traceback": [
      "\u001b[1;31m---------------------------------------------------------------------------\u001b[0m",
      "\u001b[1;31mNameError\u001b[0m                                 Traceback (most recent call last)",
      "Cell \u001b[1;32mIn[3], line 1\u001b[0m\n\u001b[1;32m----> 1\u001b[0m \u001b[43mSales\u001b[49m\u001b[38;5;241m.\u001b[39mhead()\n",
      "\u001b[1;31mNameError\u001b[0m: name 'Sales' is not defined"
     ]
    }
   ],
   "source": [
    "Sales.head()"
   ]
  },
  {
   "cell_type": "code",
   "execution_count": null,
   "id": "631be8a0",
   "metadata": {},
   "outputs": [],
   "source": [
    "Sale.tail()"
   ]
  },
  {
   "cell_type": "code",
   "execution_count": null,
   "id": "c57907bf",
   "metadata": {},
   "outputs": [],
   "source": [
    "Sale.info()"
   ]
  },
  {
   "cell_type": "markdown",
   "id": "a9b84d29",
   "metadata": {},
   "source": [
    "### 1. Find total Sales"
   ]
  },
  {
   "cell_type": "code",
   "execution_count": null,
   "id": "c212e4de",
   "metadata": {},
   "outputs": [],
   "source": [
    "x=Sale['Sales'].sum()\n",
    "x"
   ]
  },
  {
   "cell_type": "markdown",
   "id": "b0f9561a",
   "metadata": {},
   "source": [
    "### 2. Find total number of units sold"
   ]
  },
  {
   "cell_type": "code",
   "execution_count": null,
   "id": "887b63dd",
   "metadata": {},
   "outputs": [],
   "source": [
    "x=Sale['Quantity'].value_counts().sum()\n",
    "x"
   ]
  },
  {
   "cell_type": "markdown",
   "id": "f99431cf",
   "metadata": {},
   "source": [
    "### 3. Find category wise sales"
   ]
  },
  {
   "cell_type": "code",
   "execution_count": null,
   "id": "67119738",
   "metadata": {},
   "outputs": [],
   "source": [
    "x=Sale.groupby('Category').sum()['Sales']\n",
    "x"
   ]
  },
  {
   "cell_type": "markdown",
   "id": "ec9d3903",
   "metadata": {},
   "source": [
    "### 4. Find category wise units sold"
   ]
  },
  {
   "cell_type": "code",
   "execution_count": null,
   "id": "c7212cb2",
   "metadata": {},
   "outputs": [],
   "source": [
    "x=Sale.groupby('Category').sum()['Quantity']\n",
    "x"
   ]
  },
  {
   "cell_type": "markdown",
   "id": "0827a5a4",
   "metadata": {},
   "source": [
    "### 5. Find region wise sales"
   ]
  },
  {
   "cell_type": "code",
   "execution_count": null,
   "id": "c3a69503",
   "metadata": {},
   "outputs": [],
   "source": [
    "x=Sale.groupby('Region').sum()['Sales']\n",
    "x"
   ]
  },
  {
   "cell_type": "markdown",
   "id": "2b30da15",
   "metadata": {},
   "source": [
    "### 6. Find region wise units sold"
   ]
  },
  {
   "cell_type": "code",
   "execution_count": null,
   "id": "a0587cc5",
   "metadata": {},
   "outputs": [],
   "source": [
    "x=Sale.groupby('Region').sum()['Quantity']\n",
    "x"
   ]
  },
  {
   "cell_type": "markdown",
   "id": "698ee5df",
   "metadata": {},
   "source": [
    "### 7. Find customer wise sales"
   ]
  },
  {
   "cell_type": "code",
   "execution_count": null,
   "id": "51917d06",
   "metadata": {},
   "outputs": [],
   "source": [
    "x=Sale.groupby('Customer').sum()['Sales']\n",
    "x"
   ]
  },
  {
   "cell_type": "markdown",
   "id": "eca9ea21",
   "metadata": {},
   "source": [
    "### 8. find customer wise units sold"
   ]
  },
  {
   "cell_type": "code",
   "execution_count": null,
   "id": "b00b2281",
   "metadata": {},
   "outputs": [],
   "source": [
    "x=Sale.groupby('Customer').sum()['Quantity']\n",
    "x"
   ]
  },
  {
   "cell_type": "markdown",
   "id": "7b896dd5",
   "metadata": {},
   "source": [
    "### 9. Find date wise sales"
   ]
  },
  {
   "cell_type": "code",
   "execution_count": null,
   "id": "fda4edeb",
   "metadata": {},
   "outputs": [],
   "source": [
    "x=Sale.groupby('Order Date').sum()['Sales']\n",
    "x"
   ]
  },
  {
   "cell_type": "markdown",
   "id": "7d2636fd",
   "metadata": {},
   "source": [
    "### 10. Find date wise units sold"
   ]
  },
  {
   "cell_type": "code",
   "execution_count": null,
   "id": "be5f204c",
   "metadata": {},
   "outputs": [],
   "source": [
    "x=Sale.groupby('Order Date').sum()['Quantity']\n",
    "x"
   ]
  },
  {
   "cell_type": "markdown",
   "id": "1b95b664",
   "metadata": {},
   "source": [
    "### 11. Find total number of orders"
   ]
  },
  {
   "cell_type": "code",
   "execution_count": null,
   "id": "f0b6e126",
   "metadata": {},
   "outputs": [],
   "source": [
    "x=Sale['Order Date'].count()\n",
    "x"
   ]
  },
  {
   "cell_type": "markdown",
   "id": "628d5d49",
   "metadata": {},
   "source": [
    "### 12. Find the Q1, Q2 and Q3 of Sales in a Box Plot\n",
    "       Give the Values of Q1, Q2, Q3"
   ]
  },
  {
   "cell_type": "code",
   "execution_count": null,
   "id": "1defd5ef",
   "metadata": {},
   "outputs": [],
   "source": [
    "x.boxplot(by = 'Sales', "
   ]
  },
  {
   "cell_type": "markdown",
   "id": "2d4a4958",
   "metadata": {},
   "source": [
    "### 13. Show the average sales of each region in Pie Chart"
   ]
  },
  {
   "cell_type": "code",
   "execution_count": 4,
   "id": "ea0d7119",
   "metadata": {},
   "outputs": [
    {
     "name": "stderr",
     "output_type": "stream",
     "text": [
      "C:\\Users\\jiyam\\AppData\\Local\\Temp\\ipykernel_2724\\2753026857.py:1: FutureWarning: The default value of numeric_only in DataFrameGroupBy.mean is deprecated. In a future version, numeric_only will default to False. Either specify numeric_only or select only columns which should be valid for the function.\n",
      "  x=Sale.groupby('Region').mean()['Sales'].plot(kind='pie')\n"
     ]
    },
    {
     "data": {
      "image/png": "[encoded data removed]",
      "text/plain": [
       "<Figure size 640x480 with 1 Axes>"
      ]
     },
     "metadata": {},
     "output_type": "display_data"
    }
   ],
   "source": [
    "x=Sale.groupby('Region').mean()['Sales'].plot(kind='pie')"
   ]
  },
  {
   "cell_type": "markdown",
   "id": "299eb17e",
   "metadata": {},
   "source": [
    "### 14. Show the Average sales of each category in Bar Chart"
   ]
  },
  {
   "cell_type": "code",
   "execution_count": null,
   "id": "09749e4c",
   "metadata": {},
   "outputs": [],
   "source": [
    "x=Sale.groupby('Category').mean()['Sales'].plot(kind='bar')\n"
   ]
  },
  {
   "cell_type": "markdown",
   "id": "8ca877d3",
   "metadata": {},
   "source": [
    "### 15. Find the maximum sales in each region"
   ]
  },
  {
   "cell_type": "code",
   "execution_count": null,
   "id": "c1973ba4",
   "metadata": {},
   "outputs": [],
   "source": [
    "x=Sales.groupby('Region').max()['Sales']\n",
    "x"
   ]
  },
  {
   "cell_type": "markdown",
   "id": "1b5d3252",
   "metadata": {},
   "source": [
    "### 16. Find the minimum sales in each region"
   ]
  },
  {
   "cell_type": "code",
   "execution_count": null,
   "id": "6ffb0ebc",
   "metadata": {},
   "outputs": [],
   "source": [
    "x=Sales.groupby('Region').min()['Sales']\n",
    "x"
   ]
  },
  {
   "cell_type": "markdown",
   "id": "7488335e",
   "metadata": {},
   "source": [
    "### 17. Find average sales in each region"
   ]
  },
  {
   "cell_type": "code",
   "execution_count": null,
   "id": "22128deb",
   "metadata": {},
   "outputs": [],
   "source": [
    "x=Sales.groupby('Region').mean()['Sales']\n",
    "x"
   ]
  },
  {
   "cell_type": "markdown",
   "id": "ab5661ab",
   "metadata": {},
   "source": [
    "### 18. Find maximum sales by each category"
   ]
  },
  {
   "cell_type": "code",
   "execution_count": null,
   "id": "7beda5dd",
   "metadata": {},
   "outputs": [],
   "source": [
    "x=Sales.groupby('Category').max()['Sales']\n",
    "x"
   ]
  },
  {
   "cell_type": "markdown",
   "id": "2fdac32b",
   "metadata": {},
   "source": [
    "### 19. Find minimum sales by each category"
   ]
  },
  {
   "cell_type": "code",
   "execution_count": null,
   "id": "0145a33c",
   "metadata": {},
   "outputs": [],
   "source": [
    "x=Sales.groupby('Category').min()['Sales']\n",
    "x"
   ]
  },
  {
   "cell_type": "markdown",
   "id": "ae362ee6",
   "metadata": {},
   "source": [
    "### 20. Draw a Histogram using the Sales data"
   ]
  },
  {
   "cell_type": "code",
   "execution_count": null,
   "id": "82781777",
   "metadata": {},
   "outputs": [],
   "source": [
    "x=Sales.plot( y='Sales', kind='hist',bins=10);"
   ]
  },
  {
   "cell_type": "code",
   "execution_count": null,
   "id": "0154d005",
   "metadata": {},
   "outputs": [],
   "source": []
  }
 ],
 "metadata": {
  "kernelspec": {
   "display_name": "Python 3 (ipykernel)",
   "language": "python",
   "name": "python3"
  },
  "language_info": {
   "codemirror_mode": {
    "name": "ipython",
    "version": 3
   },
   "file_extension": ".py",
   "mimetype": "text/x-python",
   "name": "python",
   "nbconvert_exporter": "python",
   "pygments_lexer": "ipython3",
   "version": "3.10.9"
  }
 },
 "nbformat": 4,
 "nbformat_minor": 5
}
