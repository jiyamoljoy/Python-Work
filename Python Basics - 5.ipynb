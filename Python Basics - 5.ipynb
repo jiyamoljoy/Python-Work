{
 "cells": [
  {
   "cell_type": "markdown",
   "id": "d656aef9",
   "metadata": {},
   "source": [
    "# Tuples"
   ]
  },
  {
   "cell_type": "markdown",
   "id": "db929e3a",
   "metadata": {},
   "source": [
    "Collection which is unchangeable or immutable\n",
    "\n",
    "To declare a tuple we use the round brackets."
   ]
  },
  {
   "cell_type": "code",
   "execution_count": 3,
   "id": "8635ca07",
   "metadata": {},
   "outputs": [
    {
     "data": {
      "text/plain": [
       "3"
      ]
     },
     "execution_count": 3,
     "metadata": {},
     "output_type": "execute_result"
    }
   ],
   "source": [
    "tuple=(10,20,10,30,20,40,30,50,30)\n",
    "#to count the number of elements\n",
    "tuple.count(10)\n",
    "tuple.count(30)"
   ]
  },
  {
   "cell_type": "code",
   "execution_count": 5,
   "id": "9560d400",
   "metadata": {},
   "outputs": [
    {
     "data": {
      "text/plain": [
       "7"
      ]
     },
     "execution_count": 5,
     "metadata": {},
     "output_type": "execute_result"
    }
   ],
   "source": [
    "#to find the index\n",
    "tuple.index(50)"
   ]
  }
 ],
 "metadata": {
  "kernelspec": {
   "display_name": "Python 3 (ipykernel)",
   "language": "python",
   "name": "python3"
  },
  "language_info": {
   "codemirror_mode": {
    "name": "ipython",
    "version": 3
   },
   "file_extension": ".py",
   "mimetype": "text/x-python",
   "name": "python",
   "nbconvert_exporter": "python",
   "pygments_lexer": "ipython3",
   "version": "3.10.9"
  }
 },
 "nbformat": 4,
 "nbformat_minor": 5
}
