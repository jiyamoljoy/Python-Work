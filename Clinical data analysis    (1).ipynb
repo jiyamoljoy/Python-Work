{
 "cells": [
  {
   "cell_type": "code",
   "execution_count": 25,
   "id": "9a1fcb71",
   "metadata": {},
   "outputs": [],
   "source": [
    "import pandas as pd"
   ]
  },
  {
   "cell_type": "code",
   "execution_count": 26,
   "id": "6d4248aa",
   "metadata": {},
   "outputs": [
    {
     "name": "stderr",
     "output_type": "stream",
     "text": [
      "C:\\Users\\jiyam\\anaconda3\\lib\\site-packages\\openpyxl\\worksheet\\_read_only.py:79: UserWarning: Cell B14 is marked as a date but the serial value 16032022 is outside the limits for dates. The cell will be treated as an error.\n",
      "  for idx, row in parser.parse():\n"
     ]
    },
    {
     "data": {
      "text/html": [
       "<div>\n",
       "<style scoped>\n",
       "    .dataframe tbody tr th:only-of-type {\n",
       "        vertical-align: middle;\n",
       "    }\n",
       "\n",
       "    .dataframe tbody tr th {\n",
       "        vertical-align: top;\n",
       "    }\n",
       "\n",
       "    .dataframe thead th {\n",
       "        text-align: right;\n",
       "    }\n",
       "</style>\n",
       "<table border=\"1\" class=\"dataframe\">\n",
       "  <thead>\n",
       "    <tr style=\"text-align: right;\">\n",
       "      <th></th>\n",
       "      <th>Duration</th>\n",
       "      <th>Date</th>\n",
       "      <th>Gender</th>\n",
       "      <th>Height</th>\n",
       "      <th>Weight</th>\n",
       "      <th>Pulse</th>\n",
       "      <th>Maxpulse</th>\n",
       "      <th>Calories</th>\n",
       "      <th>Name Doctor</th>\n",
       "    </tr>\n",
       "  </thead>\n",
       "  <tbody>\n",
       "    <tr>\n",
       "      <th>0</th>\n",
       "      <td>60</td>\n",
       "      <td>2022-03-16</td>\n",
       "      <td>Male</td>\n",
       "      <td>174.0</td>\n",
       "      <td>96.0</td>\n",
       "      <td>104</td>\n",
       "      <td>132</td>\n",
       "      <td>379.3</td>\n",
       "      <td>Christy, Catherine</td>\n",
       "    </tr>\n",
       "    <tr>\n",
       "      <th>1</th>\n",
       "      <td>60</td>\n",
       "      <td>2022-03-16</td>\n",
       "      <td>Female</td>\n",
       "      <td>189.0</td>\n",
       "      <td>87.0</td>\n",
       "      <td>98</td>\n",
       "      <td>123</td>\n",
       "      <td>275.0</td>\n",
       "      <td>Mukund, Catherine</td>\n",
       "    </tr>\n",
       "    <tr>\n",
       "      <th>2</th>\n",
       "      <td>60</td>\n",
       "      <td>2022-03-16</td>\n",
       "      <td>Female</td>\n",
       "      <td>185.0</td>\n",
       "      <td>110.0</td>\n",
       "      <td>98</td>\n",
       "      <td>120</td>\n",
       "      <td>215.2</td>\n",
       "      <td>Aswathy, Catherine</td>\n",
       "    </tr>\n",
       "    <tr>\n",
       "      <th>3</th>\n",
       "      <td>500</td>\n",
       "      <td>2022-03-16</td>\n",
       "      <td>Male</td>\n",
       "      <td>195.0</td>\n",
       "      <td>104.0</td>\n",
       "      <td>100</td>\n",
       "      <td>120</td>\n",
       "      <td>300.0</td>\n",
       "      <td>Phil, Catherine</td>\n",
       "    </tr>\n",
       "    <tr>\n",
       "      <th>4</th>\n",
       "      <td>60</td>\n",
       "      <td>2022-03-16</td>\n",
       "      <td>Male</td>\n",
       "      <td>149.0</td>\n",
       "      <td>61.0</td>\n",
       "      <td>90</td>\n",
       "      <td>112</td>\n",
       "      <td>NaN</td>\n",
       "      <td>Vince, Catherine</td>\n",
       "    </tr>\n",
       "    <tr>\n",
       "      <th>5</th>\n",
       "      <td>60</td>\n",
       "      <td>2022-03-16</td>\n",
       "      <td>Male</td>\n",
       "      <td>189.0</td>\n",
       "      <td>104.0</td>\n",
       "      <td>103</td>\n",
       "      <td>123</td>\n",
       "      <td>323.0</td>\n",
       "      <td>Akshaya, Jony</td>\n",
       "    </tr>\n",
       "    <tr>\n",
       "      <th>6</th>\n",
       "      <td>60</td>\n",
       "      <td>2022-03-16</td>\n",
       "      <td>Male</td>\n",
       "      <td>147.0</td>\n",
       "      <td>NaN</td>\n",
       "      <td>97</td>\n",
       "      <td>125</td>\n",
       "      <td>243.0</td>\n",
       "      <td>Ajay, Jony</td>\n",
       "    </tr>\n",
       "    <tr>\n",
       "      <th>7</th>\n",
       "      <td>60</td>\n",
       "      <td>2022-03-16</td>\n",
       "      <td>Male</td>\n",
       "      <td>NaN</td>\n",
       "      <td>101.0</td>\n",
       "      <td>108</td>\n",
       "      <td>131</td>\n",
       "      <td>364.2</td>\n",
       "      <td>Jay, Jony</td>\n",
       "    </tr>\n",
       "    <tr>\n",
       "      <th>8</th>\n",
       "      <td>45</td>\n",
       "      <td>2022-03-16</td>\n",
       "      <td>Female</td>\n",
       "      <td>174.0</td>\n",
       "      <td>90.0</td>\n",
       "      <td>100</td>\n",
       "      <td>119</td>\n",
       "      <td>282.0</td>\n",
       "      <td>Shyam, Catherine</td>\n",
       "    </tr>\n",
       "    <tr>\n",
       "      <th>9</th>\n",
       "      <td>50</td>\n",
       "      <td>2022-03-16</td>\n",
       "      <td>Male</td>\n",
       "      <td>169.0</td>\n",
       "      <td>NaN</td>\n",
       "      <td>130</td>\n",
       "      <td>101</td>\n",
       "      <td>300.0</td>\n",
       "      <td>Neha, Catherine</td>\n",
       "    </tr>\n",
       "    <tr>\n",
       "      <th>10</th>\n",
       "      <td>450</td>\n",
       "      <td>2022-03-16</td>\n",
       "      <td>Female</td>\n",
       "      <td>NaN</td>\n",
       "      <td>81.0</td>\n",
       "      <td>105</td>\n",
       "      <td>132</td>\n",
       "      <td>246.0</td>\n",
       "      <td>Mehru, Catherine</td>\n",
       "    </tr>\n",
       "    <tr>\n",
       "      <th>11</th>\n",
       "      <td>60</td>\n",
       "      <td>NaT</td>\n",
       "      <td>Female</td>\n",
       "      <td>159.0</td>\n",
       "      <td>80.0</td>\n",
       "      <td>102</td>\n",
       "      <td>126</td>\n",
       "      <td>334.5</td>\n",
       "      <td>Dipa, Catherine</td>\n",
       "    </tr>\n",
       "    <tr>\n",
       "      <th>12</th>\n",
       "      <td>450</td>\n",
       "      <td>2022-03-16</td>\n",
       "      <td>Male</td>\n",
       "      <td>192.0</td>\n",
       "      <td>91.0</td>\n",
       "      <td>100</td>\n",
       "      <td>120</td>\n",
       "      <td>250.0</td>\n",
       "      <td>Jim, Jony</td>\n",
       "    </tr>\n",
       "    <tr>\n",
       "      <th>13</th>\n",
       "      <td>45</td>\n",
       "      <td>2022-03-16</td>\n",
       "      <td>Male</td>\n",
       "      <td>155.0</td>\n",
       "      <td>51.0</td>\n",
       "      <td>92</td>\n",
       "      <td>118</td>\n",
       "      <td>241.0</td>\n",
       "      <td>Divya, Catherine</td>\n",
       "    </tr>\n",
       "    <tr>\n",
       "      <th>14</th>\n",
       "      <td>50</td>\n",
       "      <td>2022-03-16</td>\n",
       "      <td>Gender</td>\n",
       "      <td>191.0</td>\n",
       "      <td>79.0</td>\n",
       "      <td>103</td>\n",
       "      <td>132</td>\n",
       "      <td>NaN</td>\n",
       "      <td>Liya, Catherine</td>\n",
       "    </tr>\n",
       "    <tr>\n",
       "      <th>15</th>\n",
       "      <td>60</td>\n",
       "      <td>2022-03-16</td>\n",
       "      <td>Male</td>\n",
       "      <td>153.0</td>\n",
       "      <td>70.0</td>\n",
       "      <td>97</td>\n",
       "      <td>132</td>\n",
       "      <td>280.0</td>\n",
       "      <td>Jack, Jony</td>\n",
       "    </tr>\n",
       "  </tbody>\n",
       "</table>\n",
       "</div>"
      ],
      "text/plain": [
       "    Duration       Date  Gender  Height  Weight  Pulse  Maxpulse  Calories  \\\n",
       "0         60 2022-03-16    Male   174.0    96.0    104       132     379.3   \n",
       "1         60 2022-03-16  Female   189.0    87.0     98       123     275.0   \n",
       "2         60 2022-03-16  Female   185.0   110.0     98       120     215.2   \n",
       "3        500 2022-03-16    Male   195.0   104.0    100       120     300.0   \n",
       "4         60 2022-03-16    Male   149.0    61.0     90       112       NaN   \n",
       "5         60 2022-03-16    Male   189.0   104.0    103       123     323.0   \n",
       "6         60 2022-03-16    Male   147.0     NaN     97       125     243.0   \n",
       "7         60 2022-03-16    Male     NaN   101.0    108       131     364.2   \n",
       "8         45 2022-03-16  Female   174.0    90.0    100       119     282.0   \n",
       "9         50 2022-03-16    Male   169.0     NaN    130       101     300.0   \n",
       "10       450 2022-03-16  Female     NaN    81.0    105       132     246.0   \n",
       "11        60        NaT  Female   159.0    80.0    102       126     334.5   \n",
       "12       450 2022-03-16    Male   192.0    91.0    100       120     250.0   \n",
       "13        45 2022-03-16    Male   155.0    51.0     92       118     241.0   \n",
       "14        50 2022-03-16  Gender   191.0    79.0    103       132       NaN   \n",
       "15        60 2022-03-16    Male   153.0    70.0     97       132     280.0   \n",
       "\n",
       "           Name Doctor  \n",
       "0   Christy, Catherine  \n",
       "1    Mukund, Catherine  \n",
       "2   Aswathy, Catherine  \n",
       "3      Phil, Catherine  \n",
       "4     Vince, Catherine  \n",
       "5        Akshaya, Jony  \n",
       "6           Ajay, Jony  \n",
       "7            Jay, Jony  \n",
       "8     Shyam, Catherine  \n",
       "9      Neha, Catherine  \n",
       "10    Mehru, Catherine  \n",
       "11     Dipa, Catherine  \n",
       "12           Jim, Jony  \n",
       "13    Divya, Catherine  \n",
       "14     Liya, Catherine  \n",
       "15          Jack, Jony  "
      ]
     },
     "execution_count": 26,
     "metadata": {},
     "output_type": "execute_result"
    }
   ],
   "source": [
    "data=pd.read_excel('Clinical data analysis.xlsx',skiprows=1)\n",
    "data          "
   ]
  },
  {
   "cell_type": "code",
   "execution_count": 27,
   "id": "f1cfbf6e",
   "metadata": {},
   "outputs": [
    {
     "data": {
      "text/plain": [
       "(16, 9)"
      ]
     },
     "execution_count": 27,
     "metadata": {},
     "output_type": "execute_result"
    }
   ],
   "source": [
    "data.shape"
   ]
  },
  {
   "cell_type": "code",
   "execution_count": 28,
   "id": "d4fe57b5",
   "metadata": {},
   "outputs": [
    {
     "name": "stdout",
     "output_type": "stream",
     "text": [
      "<class 'pandas.core.frame.DataFrame'>\n",
      "RangeIndex: 16 entries, 0 to 15\n",
      "Data columns (total 9 columns):\n",
      " #   Column       Non-Null Count  Dtype         \n",
      "---  ------       --------------  -----         \n",
      " 0   Duration     16 non-null     int64         \n",
      " 1   Date         15 non-null     datetime64[ns]\n",
      " 2   Gender       16 non-null     object        \n",
      " 3   Height       14 non-null     float64       \n",
      " 4   Weight       14 non-null     float64       \n",
      " 5   Pulse        16 non-null     int64         \n",
      " 6   Maxpulse     16 non-null     int64         \n",
      " 7   Calories     14 non-null     float64       \n",
      " 8   Name Doctor  16 non-null     object        \n",
      "dtypes: datetime64[ns](1), float64(3), int64(3), object(2)\n",
      "memory usage: 1.2+ KB\n"
     ]
    }
   ],
   "source": [
    "data.info()"
   ]
  },
  {
   "cell_type": "code",
   "execution_count": 29,
   "id": "10fa5a50",
   "metadata": {},
   "outputs": [
    {
     "data": {
      "text/plain": [
       "Duration       0\n",
       "Date           1\n",
       "Gender         0\n",
       "Height         2\n",
       "Weight         2\n",
       "Pulse          0\n",
       "Maxpulse       0\n",
       "Calories       2\n",
       "Name Doctor    0\n",
       "dtype: int64"
      ]
     },
     "execution_count": 29,
     "metadata": {},
     "output_type": "execute_result"
    }
   ],
   "source": [
    "data.isna().sum()"
   ]
  },
  {
   "cell_type": "code",
   "execution_count": 30,
   "id": "fe3099ab",
   "metadata": {},
   "outputs": [
    {
     "data": {
      "text/html": [
       "<div>\n",
       "<style scoped>\n",
       "    .dataframe tbody tr th:only-of-type {\n",
       "        vertical-align: middle;\n",
       "    }\n",
       "\n",
       "    .dataframe tbody tr th {\n",
       "        vertical-align: top;\n",
       "    }\n",
       "\n",
       "    .dataframe thead th {\n",
       "        text-align: right;\n",
       "    }\n",
       "</style>\n",
       "<table border=\"1\" class=\"dataframe\">\n",
       "  <thead>\n",
       "    <tr style=\"text-align: right;\">\n",
       "      <th></th>\n",
       "      <th>Duration</th>\n",
       "      <th>Date</th>\n",
       "      <th>Gender</th>\n",
       "      <th>Height</th>\n",
       "      <th>Weight</th>\n",
       "      <th>Pulse</th>\n",
       "      <th>Maxpulse</th>\n",
       "      <th>Calories</th>\n",
       "      <th>Name Doctor</th>\n",
       "      <th>Data</th>\n",
       "    </tr>\n",
       "  </thead>\n",
       "  <tbody>\n",
       "    <tr>\n",
       "      <th>0</th>\n",
       "      <td>60</td>\n",
       "      <td>2022-03-16</td>\n",
       "      <td>Male</td>\n",
       "      <td>174.0</td>\n",
       "      <td>96.0</td>\n",
       "      <td>104</td>\n",
       "      <td>132</td>\n",
       "      <td>379.3</td>\n",
       "      <td>Christy, Catherine</td>\n",
       "      <td>2022-03-16</td>\n",
       "    </tr>\n",
       "    <tr>\n",
       "      <th>1</th>\n",
       "      <td>60</td>\n",
       "      <td>2022-03-16</td>\n",
       "      <td>Female</td>\n",
       "      <td>189.0</td>\n",
       "      <td>87.0</td>\n",
       "      <td>98</td>\n",
       "      <td>123</td>\n",
       "      <td>275.0</td>\n",
       "      <td>Mukund, Catherine</td>\n",
       "      <td>2022-03-16</td>\n",
       "    </tr>\n",
       "    <tr>\n",
       "      <th>2</th>\n",
       "      <td>60</td>\n",
       "      <td>2022-03-16</td>\n",
       "      <td>Female</td>\n",
       "      <td>185.0</td>\n",
       "      <td>110.0</td>\n",
       "      <td>98</td>\n",
       "      <td>120</td>\n",
       "      <td>215.2</td>\n",
       "      <td>Aswathy, Catherine</td>\n",
       "      <td>2022-03-16</td>\n",
       "    </tr>\n",
       "    <tr>\n",
       "      <th>3</th>\n",
       "      <td>500</td>\n",
       "      <td>2022-03-16</td>\n",
       "      <td>Male</td>\n",
       "      <td>195.0</td>\n",
       "      <td>104.0</td>\n",
       "      <td>100</td>\n",
       "      <td>120</td>\n",
       "      <td>300.0</td>\n",
       "      <td>Phil, Catherine</td>\n",
       "      <td>2022-03-16</td>\n",
       "    </tr>\n",
       "    <tr>\n",
       "      <th>4</th>\n",
       "      <td>60</td>\n",
       "      <td>2022-03-16</td>\n",
       "      <td>Male</td>\n",
       "      <td>149.0</td>\n",
       "      <td>61.0</td>\n",
       "      <td>90</td>\n",
       "      <td>112</td>\n",
       "      <td>NaN</td>\n",
       "      <td>Vince, Catherine</td>\n",
       "      <td>2022-03-16</td>\n",
       "    </tr>\n",
       "    <tr>\n",
       "      <th>5</th>\n",
       "      <td>60</td>\n",
       "      <td>2022-03-16</td>\n",
       "      <td>Male</td>\n",
       "      <td>189.0</td>\n",
       "      <td>104.0</td>\n",
       "      <td>103</td>\n",
       "      <td>123</td>\n",
       "      <td>323.0</td>\n",
       "      <td>Akshaya, Jony</td>\n",
       "      <td>2022-03-16</td>\n",
       "    </tr>\n",
       "    <tr>\n",
       "      <th>6</th>\n",
       "      <td>60</td>\n",
       "      <td>2022-03-16</td>\n",
       "      <td>Male</td>\n",
       "      <td>147.0</td>\n",
       "      <td>NaN</td>\n",
       "      <td>97</td>\n",
       "      <td>125</td>\n",
       "      <td>243.0</td>\n",
       "      <td>Ajay, Jony</td>\n",
       "      <td>2022-03-16</td>\n",
       "    </tr>\n",
       "    <tr>\n",
       "      <th>7</th>\n",
       "      <td>60</td>\n",
       "      <td>2022-03-16</td>\n",
       "      <td>Male</td>\n",
       "      <td>NaN</td>\n",
       "      <td>101.0</td>\n",
       "      <td>108</td>\n",
       "      <td>131</td>\n",
       "      <td>364.2</td>\n",
       "      <td>Jay, Jony</td>\n",
       "      <td>2022-03-16</td>\n",
       "    </tr>\n",
       "    <tr>\n",
       "      <th>8</th>\n",
       "      <td>45</td>\n",
       "      <td>2022-03-16</td>\n",
       "      <td>Female</td>\n",
       "      <td>174.0</td>\n",
       "      <td>90.0</td>\n",
       "      <td>100</td>\n",
       "      <td>119</td>\n",
       "      <td>282.0</td>\n",
       "      <td>Shyam, Catherine</td>\n",
       "      <td>2022-03-16</td>\n",
       "    </tr>\n",
       "    <tr>\n",
       "      <th>9</th>\n",
       "      <td>50</td>\n",
       "      <td>2022-03-16</td>\n",
       "      <td>Male</td>\n",
       "      <td>169.0</td>\n",
       "      <td>NaN</td>\n",
       "      <td>130</td>\n",
       "      <td>101</td>\n",
       "      <td>300.0</td>\n",
       "      <td>Neha, Catherine</td>\n",
       "      <td>2022-03-16</td>\n",
       "    </tr>\n",
       "    <tr>\n",
       "      <th>10</th>\n",
       "      <td>450</td>\n",
       "      <td>2022-03-16</td>\n",
       "      <td>Female</td>\n",
       "      <td>NaN</td>\n",
       "      <td>81.0</td>\n",
       "      <td>105</td>\n",
       "      <td>132</td>\n",
       "      <td>246.0</td>\n",
       "      <td>Mehru, Catherine</td>\n",
       "      <td>2022-03-16</td>\n",
       "    </tr>\n",
       "    <tr>\n",
       "      <th>11</th>\n",
       "      <td>60</td>\n",
       "      <td>NaT</td>\n",
       "      <td>Female</td>\n",
       "      <td>159.0</td>\n",
       "      <td>80.0</td>\n",
       "      <td>102</td>\n",
       "      <td>126</td>\n",
       "      <td>334.5</td>\n",
       "      <td>Dipa, Catherine</td>\n",
       "      <td>2022-03-16</td>\n",
       "    </tr>\n",
       "    <tr>\n",
       "      <th>12</th>\n",
       "      <td>450</td>\n",
       "      <td>2022-03-16</td>\n",
       "      <td>Male</td>\n",
       "      <td>192.0</td>\n",
       "      <td>91.0</td>\n",
       "      <td>100</td>\n",
       "      <td>120</td>\n",
       "      <td>250.0</td>\n",
       "      <td>Jim, Jony</td>\n",
       "      <td>2022-03-16</td>\n",
       "    </tr>\n",
       "    <tr>\n",
       "      <th>13</th>\n",
       "      <td>45</td>\n",
       "      <td>2022-03-16</td>\n",
       "      <td>Male</td>\n",
       "      <td>155.0</td>\n",
       "      <td>51.0</td>\n",
       "      <td>92</td>\n",
       "      <td>118</td>\n",
       "      <td>241.0</td>\n",
       "      <td>Divya, Catherine</td>\n",
       "      <td>2022-03-16</td>\n",
       "    </tr>\n",
       "    <tr>\n",
       "      <th>14</th>\n",
       "      <td>50</td>\n",
       "      <td>2022-03-16</td>\n",
       "      <td>Gender</td>\n",
       "      <td>191.0</td>\n",
       "      <td>79.0</td>\n",
       "      <td>103</td>\n",
       "      <td>132</td>\n",
       "      <td>NaN</td>\n",
       "      <td>Liya, Catherine</td>\n",
       "      <td>2022-03-16</td>\n",
       "    </tr>\n",
       "    <tr>\n",
       "      <th>15</th>\n",
       "      <td>60</td>\n",
       "      <td>2022-03-16</td>\n",
       "      <td>Male</td>\n",
       "      <td>153.0</td>\n",
       "      <td>70.0</td>\n",
       "      <td>97</td>\n",
       "      <td>132</td>\n",
       "      <td>280.0</td>\n",
       "      <td>Jack, Jony</td>\n",
       "      <td>2022-03-16</td>\n",
       "    </tr>\n",
       "  </tbody>\n",
       "</table>\n",
       "</div>"
      ],
      "text/plain": [
       "    Duration       Date  Gender  Height  Weight  Pulse  Maxpulse  Calories  \\\n",
       "0         60 2022-03-16    Male   174.0    96.0    104       132     379.3   \n",
       "1         60 2022-03-16  Female   189.0    87.0     98       123     275.0   \n",
       "2         60 2022-03-16  Female   185.0   110.0     98       120     215.2   \n",
       "3        500 2022-03-16    Male   195.0   104.0    100       120     300.0   \n",
       "4         60 2022-03-16    Male   149.0    61.0     90       112       NaN   \n",
       "5         60 2022-03-16    Male   189.0   104.0    103       123     323.0   \n",
       "6         60 2022-03-16    Male   147.0     NaN     97       125     243.0   \n",
       "7         60 2022-03-16    Male     NaN   101.0    108       131     364.2   \n",
       "8         45 2022-03-16  Female   174.0    90.0    100       119     282.0   \n",
       "9         50 2022-03-16    Male   169.0     NaN    130       101     300.0   \n",
       "10       450 2022-03-16  Female     NaN    81.0    105       132     246.0   \n",
       "11        60        NaT  Female   159.0    80.0    102       126     334.5   \n",
       "12       450 2022-03-16    Male   192.0    91.0    100       120     250.0   \n",
       "13        45 2022-03-16    Male   155.0    51.0     92       118     241.0   \n",
       "14        50 2022-03-16  Gender   191.0    79.0    103       132       NaN   \n",
       "15        60 2022-03-16    Male   153.0    70.0     97       132     280.0   \n",
       "\n",
       "           Name Doctor       Data  \n",
       "0   Christy, Catherine 2022-03-16  \n",
       "1    Mukund, Catherine 2022-03-16  \n",
       "2   Aswathy, Catherine 2022-03-16  \n",
       "3      Phil, Catherine 2022-03-16  \n",
       "4     Vince, Catherine 2022-03-16  \n",
       "5        Akshaya, Jony 2022-03-16  \n",
       "6           Ajay, Jony 2022-03-16  \n",
       "7            Jay, Jony 2022-03-16  \n",
       "8     Shyam, Catherine 2022-03-16  \n",
       "9      Neha, Catherine 2022-03-16  \n",
       "10    Mehru, Catherine 2022-03-16  \n",
       "11     Dipa, Catherine 2022-03-16  \n",
       "12           Jim, Jony 2022-03-16  \n",
       "13    Divya, Catherine 2022-03-16  \n",
       "14     Liya, Catherine 2022-03-16  \n",
       "15          Jack, Jony 2022-03-16  "
      ]
     },
     "execution_count": 30,
     "metadata": {},
     "output_type": "execute_result"
    }
   ],
   "source": [
    "#filling null value in Date with mode.\n",
    "\n",
    "data['Data']=data['Date'].fillna(data['Date'].mode()[0])\n",
    "data"
   ]
  },
  {
   "cell_type": "code",
   "execution_count": 31,
   "id": "bb08d458",
   "metadata": {},
   "outputs": [
    {
     "data": {
      "text/html": [
       "<div>\n",
       "<style scoped>\n",
       "    .dataframe tbody tr th:only-of-type {\n",
       "        vertical-align: middle;\n",
       "    }\n",
       "\n",
       "    .dataframe tbody tr th {\n",
       "        vertical-align: top;\n",
       "    }\n",
       "\n",
       "    .dataframe thead th {\n",
       "        text-align: right;\n",
       "    }\n",
       "</style>\n",
       "<table border=\"1\" class=\"dataframe\">\n",
       "  <thead>\n",
       "    <tr style=\"text-align: right;\">\n",
       "      <th></th>\n",
       "      <th>Duration</th>\n",
       "      <th>Date</th>\n",
       "      <th>Gender</th>\n",
       "      <th>Height</th>\n",
       "      <th>Weight</th>\n",
       "      <th>Pulse</th>\n",
       "      <th>Maxpulse</th>\n",
       "      <th>Calories</th>\n",
       "      <th>Name Doctor</th>\n",
       "      <th>Data</th>\n",
       "    </tr>\n",
       "  </thead>\n",
       "  <tbody>\n",
       "    <tr>\n",
       "      <th>0</th>\n",
       "      <td>60</td>\n",
       "      <td>2022-03-16 00:00:00</td>\n",
       "      <td>Male</td>\n",
       "      <td>174.0</td>\n",
       "      <td>96.0</td>\n",
       "      <td>104</td>\n",
       "      <td>132</td>\n",
       "      <td>379.3</td>\n",
       "      <td>Christy, Catherine</td>\n",
       "      <td>2022-03-16</td>\n",
       "    </tr>\n",
       "    <tr>\n",
       "      <th>1</th>\n",
       "      <td>60</td>\n",
       "      <td>2022-03-16 00:00:00</td>\n",
       "      <td>Female</td>\n",
       "      <td>189.0</td>\n",
       "      <td>87.0</td>\n",
       "      <td>98</td>\n",
       "      <td>123</td>\n",
       "      <td>275.0</td>\n",
       "      <td>Mukund, Catherine</td>\n",
       "      <td>2022-03-16</td>\n",
       "    </tr>\n",
       "    <tr>\n",
       "      <th>2</th>\n",
       "      <td>60</td>\n",
       "      <td>2022-03-16 00:00:00</td>\n",
       "      <td>Female</td>\n",
       "      <td>185.0</td>\n",
       "      <td>110.0</td>\n",
       "      <td>98</td>\n",
       "      <td>120</td>\n",
       "      <td>215.2</td>\n",
       "      <td>Aswathy, Catherine</td>\n",
       "      <td>2022-03-16</td>\n",
       "    </tr>\n",
       "    <tr>\n",
       "      <th>3</th>\n",
       "      <td>500</td>\n",
       "      <td>2022-03-16 00:00:00</td>\n",
       "      <td>Male</td>\n",
       "      <td>195.0</td>\n",
       "      <td>104.0</td>\n",
       "      <td>100</td>\n",
       "      <td>120</td>\n",
       "      <td>300.0</td>\n",
       "      <td>Phil, Catherine</td>\n",
       "      <td>2022-03-16</td>\n",
       "    </tr>\n",
       "    <tr>\n",
       "      <th>4</th>\n",
       "      <td>60</td>\n",
       "      <td>2022-03-16 00:00:00</td>\n",
       "      <td>Male</td>\n",
       "      <td>149.0</td>\n",
       "      <td>61.0</td>\n",
       "      <td>90</td>\n",
       "      <td>112</td>\n",
       "      <td>NaN</td>\n",
       "      <td>Vince, Catherine</td>\n",
       "      <td>2022-03-16</td>\n",
       "    </tr>\n",
       "    <tr>\n",
       "      <th>5</th>\n",
       "      <td>60</td>\n",
       "      <td>2022-03-16 00:00:00</td>\n",
       "      <td>Male</td>\n",
       "      <td>189.0</td>\n",
       "      <td>104.0</td>\n",
       "      <td>103</td>\n",
       "      <td>123</td>\n",
       "      <td>323.0</td>\n",
       "      <td>Akshaya, Jony</td>\n",
       "      <td>2022-03-16</td>\n",
       "    </tr>\n",
       "    <tr>\n",
       "      <th>6</th>\n",
       "      <td>60</td>\n",
       "      <td>2022-03-16 00:00:00</td>\n",
       "      <td>Male</td>\n",
       "      <td>147.0</td>\n",
       "      <td>NaN</td>\n",
       "      <td>97</td>\n",
       "      <td>125</td>\n",
       "      <td>243.0</td>\n",
       "      <td>Ajay, Jony</td>\n",
       "      <td>2022-03-16</td>\n",
       "    </tr>\n",
       "    <tr>\n",
       "      <th>7</th>\n",
       "      <td>60</td>\n",
       "      <td>2022-03-16 00:00:00</td>\n",
       "      <td>Male</td>\n",
       "      <td>NaN</td>\n",
       "      <td>101.0</td>\n",
       "      <td>108</td>\n",
       "      <td>131</td>\n",
       "      <td>364.2</td>\n",
       "      <td>Jay, Jony</td>\n",
       "      <td>2022-03-16</td>\n",
       "    </tr>\n",
       "    <tr>\n",
       "      <th>8</th>\n",
       "      <td>45</td>\n",
       "      <td>2022-03-16 00:00:00</td>\n",
       "      <td>Female</td>\n",
       "      <td>174.0</td>\n",
       "      <td>90.0</td>\n",
       "      <td>100</td>\n",
       "      <td>119</td>\n",
       "      <td>282.0</td>\n",
       "      <td>Shyam, Catherine</td>\n",
       "      <td>2022-03-16</td>\n",
       "    </tr>\n",
       "    <tr>\n",
       "      <th>9</th>\n",
       "      <td>50</td>\n",
       "      <td>2022-03-16 00:00:00</td>\n",
       "      <td>Male</td>\n",
       "      <td>169.0</td>\n",
       "      <td>NaN</td>\n",
       "      <td>130</td>\n",
       "      <td>101</td>\n",
       "      <td>300.0</td>\n",
       "      <td>Neha, Catherine</td>\n",
       "      <td>2022-03-16</td>\n",
       "    </tr>\n",
       "    <tr>\n",
       "      <th>10</th>\n",
       "      <td>450</td>\n",
       "      <td>2022-03-16 00:00:00</td>\n",
       "      <td>Female</td>\n",
       "      <td>NaN</td>\n",
       "      <td>81.0</td>\n",
       "      <td>105</td>\n",
       "      <td>132</td>\n",
       "      <td>246.0</td>\n",
       "      <td>Mehru, Catherine</td>\n",
       "      <td>2022-03-16</td>\n",
       "    </tr>\n",
       "    <tr>\n",
       "      <th>11</th>\n",
       "      <td>60</td>\n",
       "      <td>NaN</td>\n",
       "      <td>Female</td>\n",
       "      <td>159.0</td>\n",
       "      <td>80.0</td>\n",
       "      <td>102</td>\n",
       "      <td>126</td>\n",
       "      <td>334.5</td>\n",
       "      <td>Dipa, Catherine</td>\n",
       "      <td>2022-03-16</td>\n",
       "    </tr>\n",
       "    <tr>\n",
       "      <th>12</th>\n",
       "      <td>450</td>\n",
       "      <td>2022-03-16 00:00:00</td>\n",
       "      <td>Male</td>\n",
       "      <td>192.0</td>\n",
       "      <td>91.0</td>\n",
       "      <td>100</td>\n",
       "      <td>120</td>\n",
       "      <td>250.0</td>\n",
       "      <td>Jim, Jony</td>\n",
       "      <td>2022-03-16</td>\n",
       "    </tr>\n",
       "    <tr>\n",
       "      <th>13</th>\n",
       "      <td>45</td>\n",
       "      <td>2022-03-16 00:00:00</td>\n",
       "      <td>Male</td>\n",
       "      <td>155.0</td>\n",
       "      <td>51.0</td>\n",
       "      <td>92</td>\n",
       "      <td>118</td>\n",
       "      <td>241.0</td>\n",
       "      <td>Divya, Catherine</td>\n",
       "      <td>2022-03-16</td>\n",
       "    </tr>\n",
       "    <tr>\n",
       "      <th>14</th>\n",
       "      <td>50</td>\n",
       "      <td>2022-03-16 00:00:00</td>\n",
       "      <td>Gender</td>\n",
       "      <td>191.0</td>\n",
       "      <td>79.0</td>\n",
       "      <td>103</td>\n",
       "      <td>132</td>\n",
       "      <td>NaN</td>\n",
       "      <td>Liya, Catherine</td>\n",
       "      <td>2022-03-16</td>\n",
       "    </tr>\n",
       "    <tr>\n",
       "      <th>15</th>\n",
       "      <td>60</td>\n",
       "      <td>2022-03-16 00:00:00</td>\n",
       "      <td>Male</td>\n",
       "      <td>153.0</td>\n",
       "      <td>70.0</td>\n",
       "      <td>97</td>\n",
       "      <td>132</td>\n",
       "      <td>280.0</td>\n",
       "      <td>Jack, Jony</td>\n",
       "      <td>2022-03-16</td>\n",
       "    </tr>\n",
       "  </tbody>\n",
       "</table>\n",
       "</div>"
      ],
      "text/plain": [
       "    Duration                 Date  Gender  Height  Weight  Pulse  Maxpulse  \\\n",
       "0         60  2022-03-16 00:00:00    Male   174.0    96.0    104       132   \n",
       "1         60  2022-03-16 00:00:00  Female   189.0    87.0     98       123   \n",
       "2         60  2022-03-16 00:00:00  Female   185.0   110.0     98       120   \n",
       "3        500  2022-03-16 00:00:00    Male   195.0   104.0    100       120   \n",
       "4         60  2022-03-16 00:00:00    Male   149.0    61.0     90       112   \n",
       "5         60  2022-03-16 00:00:00    Male   189.0   104.0    103       123   \n",
       "6         60  2022-03-16 00:00:00    Male   147.0     NaN     97       125   \n",
       "7         60  2022-03-16 00:00:00    Male     NaN   101.0    108       131   \n",
       "8         45  2022-03-16 00:00:00  Female   174.0    90.0    100       119   \n",
       "9         50  2022-03-16 00:00:00    Male   169.0     NaN    130       101   \n",
       "10       450  2022-03-16 00:00:00  Female     NaN    81.0    105       132   \n",
       "11        60                  NaN  Female   159.0    80.0    102       126   \n",
       "12       450  2022-03-16 00:00:00    Male   192.0    91.0    100       120   \n",
       "13        45  2022-03-16 00:00:00    Male   155.0    51.0     92       118   \n",
       "14        50  2022-03-16 00:00:00  Gender   191.0    79.0    103       132   \n",
       "15        60  2022-03-16 00:00:00    Male   153.0    70.0     97       132   \n",
       "\n",
       "    Calories         Name Doctor       Data  \n",
       "0      379.3  Christy, Catherine 2022-03-16  \n",
       "1      275.0   Mukund, Catherine 2022-03-16  \n",
       "2      215.2  Aswathy, Catherine 2022-03-16  \n",
       "3      300.0     Phil, Catherine 2022-03-16  \n",
       "4        NaN    Vince, Catherine 2022-03-16  \n",
       "5      323.0       Akshaya, Jony 2022-03-16  \n",
       "6      243.0          Ajay, Jony 2022-03-16  \n",
       "7      364.2           Jay, Jony 2022-03-16  \n",
       "8      282.0    Shyam, Catherine 2022-03-16  \n",
       "9      300.0     Neha, Catherine 2022-03-16  \n",
       "10     246.0    Mehru, Catherine 2022-03-16  \n",
       "11     334.5     Dipa, Catherine 2022-03-16  \n",
       "12     250.0           Jim, Jony 2022-03-16  \n",
       "13     241.0    Divya, Catherine 2022-03-16  \n",
       "14       NaN     Liya, Catherine 2022-03-16  \n",
       "15     280.0          Jack, Jony 2022-03-16  "
      ]
     },
     "execution_count": 31,
     "metadata": {},
     "output_type": "execute_result"
    }
   ],
   "source": [
    "#filling null value in  Height,Weight and Calories with mode.\n",
    "\n",
    "data.fillna(data[['Height','Weight','Calories']].mode(),inplace=True)\n",
    "data"
   ]
  },
  {
   "cell_type": "code",
   "execution_count": 32,
   "id": "06498204",
   "metadata": {},
   "outputs": [
    {
     "data": {
      "text/html": [
       "<div>\n",
       "<style scoped>\n",
       "    .dataframe tbody tr th:only-of-type {\n",
       "        vertical-align: middle;\n",
       "    }\n",
       "\n",
       "    .dataframe tbody tr th {\n",
       "        vertical-align: top;\n",
       "    }\n",
       "\n",
       "    .dataframe thead th {\n",
       "        text-align: right;\n",
       "    }\n",
       "</style>\n",
       "<table border=\"1\" class=\"dataframe\">\n",
       "  <thead>\n",
       "    <tr style=\"text-align: right;\">\n",
       "      <th></th>\n",
       "      <th>Duration</th>\n",
       "      <th>Date</th>\n",
       "      <th>Gender</th>\n",
       "      <th>Height</th>\n",
       "      <th>Weight</th>\n",
       "      <th>Pulse</th>\n",
       "      <th>Maxpulse</th>\n",
       "      <th>Calories</th>\n",
       "      <th>Name Doctor</th>\n",
       "      <th>Data</th>\n",
       "      <th>Name</th>\n",
       "      <th>Doctor</th>\n",
       "    </tr>\n",
       "  </thead>\n",
       "  <tbody>\n",
       "    <tr>\n",
       "      <th>0</th>\n",
       "      <td>60</td>\n",
       "      <td>2022-03-16 00:00:00</td>\n",
       "      <td>Male</td>\n",
       "      <td>174.0</td>\n",
       "      <td>96.0</td>\n",
       "      <td>104</td>\n",
       "      <td>132</td>\n",
       "      <td>379.3</td>\n",
       "      <td>Christy, Catherine</td>\n",
       "      <td>2022-03-16</td>\n",
       "      <td>Christy</td>\n",
       "      <td>Catherine</td>\n",
       "    </tr>\n",
       "    <tr>\n",
       "      <th>1</th>\n",
       "      <td>60</td>\n",
       "      <td>2022-03-16 00:00:00</td>\n",
       "      <td>Female</td>\n",
       "      <td>189.0</td>\n",
       "      <td>87.0</td>\n",
       "      <td>98</td>\n",
       "      <td>123</td>\n",
       "      <td>275.0</td>\n",
       "      <td>Mukund, Catherine</td>\n",
       "      <td>2022-03-16</td>\n",
       "      <td>Mukund</td>\n",
       "      <td>Catherine</td>\n",
       "    </tr>\n",
       "    <tr>\n",
       "      <th>2</th>\n",
       "      <td>60</td>\n",
       "      <td>2022-03-16 00:00:00</td>\n",
       "      <td>Female</td>\n",
       "      <td>185.0</td>\n",
       "      <td>110.0</td>\n",
       "      <td>98</td>\n",
       "      <td>120</td>\n",
       "      <td>215.2</td>\n",
       "      <td>Aswathy, Catherine</td>\n",
       "      <td>2022-03-16</td>\n",
       "      <td>Aswathy</td>\n",
       "      <td>Catherine</td>\n",
       "    </tr>\n",
       "    <tr>\n",
       "      <th>3</th>\n",
       "      <td>500</td>\n",
       "      <td>2022-03-16 00:00:00</td>\n",
       "      <td>Male</td>\n",
       "      <td>195.0</td>\n",
       "      <td>104.0</td>\n",
       "      <td>100</td>\n",
       "      <td>120</td>\n",
       "      <td>300.0</td>\n",
       "      <td>Phil, Catherine</td>\n",
       "      <td>2022-03-16</td>\n",
       "      <td>Phil</td>\n",
       "      <td>Catherine</td>\n",
       "    </tr>\n",
       "    <tr>\n",
       "      <th>4</th>\n",
       "      <td>60</td>\n",
       "      <td>2022-03-16 00:00:00</td>\n",
       "      <td>Male</td>\n",
       "      <td>149.0</td>\n",
       "      <td>61.0</td>\n",
       "      <td>90</td>\n",
       "      <td>112</td>\n",
       "      <td>NaN</td>\n",
       "      <td>Vince, Catherine</td>\n",
       "      <td>2022-03-16</td>\n",
       "      <td>Vince</td>\n",
       "      <td>Catherine</td>\n",
       "    </tr>\n",
       "    <tr>\n",
       "      <th>5</th>\n",
       "      <td>60</td>\n",
       "      <td>2022-03-16 00:00:00</td>\n",
       "      <td>Male</td>\n",
       "      <td>189.0</td>\n",
       "      <td>104.0</td>\n",
       "      <td>103</td>\n",
       "      <td>123</td>\n",
       "      <td>323.0</td>\n",
       "      <td>Akshaya, Jony</td>\n",
       "      <td>2022-03-16</td>\n",
       "      <td>Akshaya</td>\n",
       "      <td>Jony</td>\n",
       "    </tr>\n",
       "    <tr>\n",
       "      <th>6</th>\n",
       "      <td>60</td>\n",
       "      <td>2022-03-16 00:00:00</td>\n",
       "      <td>Male</td>\n",
       "      <td>147.0</td>\n",
       "      <td>NaN</td>\n",
       "      <td>97</td>\n",
       "      <td>125</td>\n",
       "      <td>243.0</td>\n",
       "      <td>Ajay, Jony</td>\n",
       "      <td>2022-03-16</td>\n",
       "      <td>Ajay</td>\n",
       "      <td>Jony</td>\n",
       "    </tr>\n",
       "    <tr>\n",
       "      <th>7</th>\n",
       "      <td>60</td>\n",
       "      <td>2022-03-16 00:00:00</td>\n",
       "      <td>Male</td>\n",
       "      <td>NaN</td>\n",
       "      <td>101.0</td>\n",
       "      <td>108</td>\n",
       "      <td>131</td>\n",
       "      <td>364.2</td>\n",
       "      <td>Jay, Jony</td>\n",
       "      <td>2022-03-16</td>\n",
       "      <td>Jay</td>\n",
       "      <td>Jony</td>\n",
       "    </tr>\n",
       "    <tr>\n",
       "      <th>8</th>\n",
       "      <td>45</td>\n",
       "      <td>2022-03-16 00:00:00</td>\n",
       "      <td>Female</td>\n",
       "      <td>174.0</td>\n",
       "      <td>90.0</td>\n",
       "      <td>100</td>\n",
       "      <td>119</td>\n",
       "      <td>282.0</td>\n",
       "      <td>Shyam, Catherine</td>\n",
       "      <td>2022-03-16</td>\n",
       "      <td>Shyam</td>\n",
       "      <td>Catherine</td>\n",
       "    </tr>\n",
       "    <tr>\n",
       "      <th>9</th>\n",
       "      <td>50</td>\n",
       "      <td>2022-03-16 00:00:00</td>\n",
       "      <td>Male</td>\n",
       "      <td>169.0</td>\n",
       "      <td>NaN</td>\n",
       "      <td>130</td>\n",
       "      <td>101</td>\n",
       "      <td>300.0</td>\n",
       "      <td>Neha, Catherine</td>\n",
       "      <td>2022-03-16</td>\n",
       "      <td>Neha</td>\n",
       "      <td>Catherine</td>\n",
       "    </tr>\n",
       "    <tr>\n",
       "      <th>10</th>\n",
       "      <td>450</td>\n",
       "      <td>2022-03-16 00:00:00</td>\n",
       "      <td>Female</td>\n",
       "      <td>NaN</td>\n",
       "      <td>81.0</td>\n",
       "      <td>105</td>\n",
       "      <td>132</td>\n",
       "      <td>246.0</td>\n",
       "      <td>Mehru, Catherine</td>\n",
       "      <td>2022-03-16</td>\n",
       "      <td>Mehru</td>\n",
       "      <td>Catherine</td>\n",
       "    </tr>\n",
       "    <tr>\n",
       "      <th>11</th>\n",
       "      <td>60</td>\n",
       "      <td>NaN</td>\n",
       "      <td>Female</td>\n",
       "      <td>159.0</td>\n",
       "      <td>80.0</td>\n",
       "      <td>102</td>\n",
       "      <td>126</td>\n",
       "      <td>334.5</td>\n",
       "      <td>Dipa, Catherine</td>\n",
       "      <td>2022-03-16</td>\n",
       "      <td>Dipa</td>\n",
       "      <td>Catherine</td>\n",
       "    </tr>\n",
       "    <tr>\n",
       "      <th>12</th>\n",
       "      <td>450</td>\n",
       "      <td>2022-03-16 00:00:00</td>\n",
       "      <td>Male</td>\n",
       "      <td>192.0</td>\n",
       "      <td>91.0</td>\n",
       "      <td>100</td>\n",
       "      <td>120</td>\n",
       "      <td>250.0</td>\n",
       "      <td>Jim, Jony</td>\n",
       "      <td>2022-03-16</td>\n",
       "      <td>Jim</td>\n",
       "      <td>Jony</td>\n",
       "    </tr>\n",
       "    <tr>\n",
       "      <th>13</th>\n",
       "      <td>45</td>\n",
       "      <td>2022-03-16 00:00:00</td>\n",
       "      <td>Male</td>\n",
       "      <td>155.0</td>\n",
       "      <td>51.0</td>\n",
       "      <td>92</td>\n",
       "      <td>118</td>\n",
       "      <td>241.0</td>\n",
       "      <td>Divya, Catherine</td>\n",
       "      <td>2022-03-16</td>\n",
       "      <td>Divya</td>\n",
       "      <td>Catherine</td>\n",
       "    </tr>\n",
       "    <tr>\n",
       "      <th>14</th>\n",
       "      <td>50</td>\n",
       "      <td>2022-03-16 00:00:00</td>\n",
       "      <td>Gender</td>\n",
       "      <td>191.0</td>\n",
       "      <td>79.0</td>\n",
       "      <td>103</td>\n",
       "      <td>132</td>\n",
       "      <td>NaN</td>\n",
       "      <td>Liya, Catherine</td>\n",
       "      <td>2022-03-16</td>\n",
       "      <td>Liya</td>\n",
       "      <td>Catherine</td>\n",
       "    </tr>\n",
       "    <tr>\n",
       "      <th>15</th>\n",
       "      <td>60</td>\n",
       "      <td>2022-03-16 00:00:00</td>\n",
       "      <td>Male</td>\n",
       "      <td>153.0</td>\n",
       "      <td>70.0</td>\n",
       "      <td>97</td>\n",
       "      <td>132</td>\n",
       "      <td>280.0</td>\n",
       "      <td>Jack, Jony</td>\n",
       "      <td>2022-03-16</td>\n",
       "      <td>Jack</td>\n",
       "      <td>Jony</td>\n",
       "    </tr>\n",
       "  </tbody>\n",
       "</table>\n",
       "</div>"
      ],
      "text/plain": [
       "    Duration                 Date  Gender  Height  Weight  Pulse  Maxpulse  \\\n",
       "0         60  2022-03-16 00:00:00    Male   174.0    96.0    104       132   \n",
       "1         60  2022-03-16 00:00:00  Female   189.0    87.0     98       123   \n",
       "2         60  2022-03-16 00:00:00  Female   185.0   110.0     98       120   \n",
       "3        500  2022-03-16 00:00:00    Male   195.0   104.0    100       120   \n",
       "4         60  2022-03-16 00:00:00    Male   149.0    61.0     90       112   \n",
       "5         60  2022-03-16 00:00:00    Male   189.0   104.0    103       123   \n",
       "6         60  2022-03-16 00:00:00    Male   147.0     NaN     97       125   \n",
       "7         60  2022-03-16 00:00:00    Male     NaN   101.0    108       131   \n",
       "8         45  2022-03-16 00:00:00  Female   174.0    90.0    100       119   \n",
       "9         50  2022-03-16 00:00:00    Male   169.0     NaN    130       101   \n",
       "10       450  2022-03-16 00:00:00  Female     NaN    81.0    105       132   \n",
       "11        60                  NaN  Female   159.0    80.0    102       126   \n",
       "12       450  2022-03-16 00:00:00    Male   192.0    91.0    100       120   \n",
       "13        45  2022-03-16 00:00:00    Male   155.0    51.0     92       118   \n",
       "14        50  2022-03-16 00:00:00  Gender   191.0    79.0    103       132   \n",
       "15        60  2022-03-16 00:00:00    Male   153.0    70.0     97       132   \n",
       "\n",
       "    Calories         Name Doctor       Data     Name      Doctor  \n",
       "0      379.3  Christy, Catherine 2022-03-16  Christy   Catherine  \n",
       "1      275.0   Mukund, Catherine 2022-03-16   Mukund   Catherine  \n",
       "2      215.2  Aswathy, Catherine 2022-03-16  Aswathy   Catherine  \n",
       "3      300.0     Phil, Catherine 2022-03-16     Phil   Catherine  \n",
       "4        NaN    Vince, Catherine 2022-03-16    Vince   Catherine  \n",
       "5      323.0       Akshaya, Jony 2022-03-16  Akshaya        Jony  \n",
       "6      243.0          Ajay, Jony 2022-03-16     Ajay        Jony  \n",
       "7      364.2           Jay, Jony 2022-03-16      Jay        Jony  \n",
       "8      282.0    Shyam, Catherine 2022-03-16    Shyam   Catherine  \n",
       "9      300.0     Neha, Catherine 2022-03-16     Neha   Catherine  \n",
       "10     246.0    Mehru, Catherine 2022-03-16    Mehru   Catherine  \n",
       "11     334.5     Dipa, Catherine 2022-03-16     Dipa   Catherine  \n",
       "12     250.0           Jim, Jony 2022-03-16      Jim        Jony  \n",
       "13     241.0    Divya, Catherine 2022-03-16    Divya   Catherine  \n",
       "14       NaN     Liya, Catherine 2022-03-16     Liya   Catherine  \n",
       "15     280.0          Jack, Jony 2022-03-16     Jack        Jony  "
      ]
     },
     "execution_count": 32,
     "metadata": {},
     "output_type": "execute_result"
    }
   ],
   "source": [
    "#splitting patient name and Doctor into two columns\n",
    "\n",
    "data['Name Doctor'.split(' ')]=data['Name Doctor'].str.split(',',expand=True)\n",
    "data"
   ]
  },
  {
   "cell_type": "code",
   "execution_count": 33,
   "id": "d59a93c2",
   "metadata": {},
   "outputs": [
    {
     "data": {
      "text/html": [
       "<div>\n",
       "<style scoped>\n",
       "    .dataframe tbody tr th:only-of-type {\n",
       "        vertical-align: middle;\n",
       "    }\n",
       "\n",
       "    .dataframe tbody tr th {\n",
       "        vertical-align: top;\n",
       "    }\n",
       "\n",
       "    .dataframe thead th {\n",
       "        text-align: right;\n",
       "    }\n",
       "</style>\n",
       "<table border=\"1\" class=\"dataframe\">\n",
       "  <thead>\n",
       "    <tr style=\"text-align: right;\">\n",
       "      <th></th>\n",
       "      <th>Duration</th>\n",
       "      <th>Date</th>\n",
       "      <th>Gender</th>\n",
       "      <th>Height</th>\n",
       "      <th>Weight</th>\n",
       "      <th>Pulse</th>\n",
       "      <th>Maxpulse</th>\n",
       "      <th>Calories</th>\n",
       "      <th>Data</th>\n",
       "      <th>Name</th>\n",
       "      <th>Doctor</th>\n",
       "    </tr>\n",
       "  </thead>\n",
       "  <tbody>\n",
       "    <tr>\n",
       "      <th>0</th>\n",
       "      <td>60</td>\n",
       "      <td>2022-03-16 00:00:00</td>\n",
       "      <td>Male</td>\n",
       "      <td>174.0</td>\n",
       "      <td>96.0</td>\n",
       "      <td>104</td>\n",
       "      <td>132</td>\n",
       "      <td>379.3</td>\n",
       "      <td>2022-03-16</td>\n",
       "      <td>Christy</td>\n",
       "      <td>Catherine</td>\n",
       "    </tr>\n",
       "    <tr>\n",
       "      <th>1</th>\n",
       "      <td>60</td>\n",
       "      <td>2022-03-16 00:00:00</td>\n",
       "      <td>Female</td>\n",
       "      <td>189.0</td>\n",
       "      <td>87.0</td>\n",
       "      <td>98</td>\n",
       "      <td>123</td>\n",
       "      <td>275.0</td>\n",
       "      <td>2022-03-16</td>\n",
       "      <td>Mukund</td>\n",
       "      <td>Catherine</td>\n",
       "    </tr>\n",
       "    <tr>\n",
       "      <th>2</th>\n",
       "      <td>60</td>\n",
       "      <td>2022-03-16 00:00:00</td>\n",
       "      <td>Female</td>\n",
       "      <td>185.0</td>\n",
       "      <td>110.0</td>\n",
       "      <td>98</td>\n",
       "      <td>120</td>\n",
       "      <td>215.2</td>\n",
       "      <td>2022-03-16</td>\n",
       "      <td>Aswathy</td>\n",
       "      <td>Catherine</td>\n",
       "    </tr>\n",
       "    <tr>\n",
       "      <th>3</th>\n",
       "      <td>500</td>\n",
       "      <td>2022-03-16 00:00:00</td>\n",
       "      <td>Male</td>\n",
       "      <td>195.0</td>\n",
       "      <td>104.0</td>\n",
       "      <td>100</td>\n",
       "      <td>120</td>\n",
       "      <td>300.0</td>\n",
       "      <td>2022-03-16</td>\n",
       "      <td>Phil</td>\n",
       "      <td>Catherine</td>\n",
       "    </tr>\n",
       "    <tr>\n",
       "      <th>4</th>\n",
       "      <td>60</td>\n",
       "      <td>2022-03-16 00:00:00</td>\n",
       "      <td>Male</td>\n",
       "      <td>149.0</td>\n",
       "      <td>61.0</td>\n",
       "      <td>90</td>\n",
       "      <td>112</td>\n",
       "      <td>NaN</td>\n",
       "      <td>2022-03-16</td>\n",
       "      <td>Vince</td>\n",
       "      <td>Catherine</td>\n",
       "    </tr>\n",
       "    <tr>\n",
       "      <th>5</th>\n",
       "      <td>60</td>\n",
       "      <td>2022-03-16 00:00:00</td>\n",
       "      <td>Male</td>\n",
       "      <td>189.0</td>\n",
       "      <td>104.0</td>\n",
       "      <td>103</td>\n",
       "      <td>123</td>\n",
       "      <td>323.0</td>\n",
       "      <td>2022-03-16</td>\n",
       "      <td>Akshaya</td>\n",
       "      <td>Jony</td>\n",
       "    </tr>\n",
       "    <tr>\n",
       "      <th>6</th>\n",
       "      <td>60</td>\n",
       "      <td>2022-03-16 00:00:00</td>\n",
       "      <td>Male</td>\n",
       "      <td>147.0</td>\n",
       "      <td>NaN</td>\n",
       "      <td>97</td>\n",
       "      <td>125</td>\n",
       "      <td>243.0</td>\n",
       "      <td>2022-03-16</td>\n",
       "      <td>Ajay</td>\n",
       "      <td>Jony</td>\n",
       "    </tr>\n",
       "    <tr>\n",
       "      <th>7</th>\n",
       "      <td>60</td>\n",
       "      <td>2022-03-16 00:00:00</td>\n",
       "      <td>Male</td>\n",
       "      <td>NaN</td>\n",
       "      <td>101.0</td>\n",
       "      <td>108</td>\n",
       "      <td>131</td>\n",
       "      <td>364.2</td>\n",
       "      <td>2022-03-16</td>\n",
       "      <td>Jay</td>\n",
       "      <td>Jony</td>\n",
       "    </tr>\n",
       "    <tr>\n",
       "      <th>8</th>\n",
       "      <td>45</td>\n",
       "      <td>2022-03-16 00:00:00</td>\n",
       "      <td>Female</td>\n",
       "      <td>174.0</td>\n",
       "      <td>90.0</td>\n",
       "      <td>100</td>\n",
       "      <td>119</td>\n",
       "      <td>282.0</td>\n",
       "      <td>2022-03-16</td>\n",
       "      <td>Shyam</td>\n",
       "      <td>Catherine</td>\n",
       "    </tr>\n",
       "    <tr>\n",
       "      <th>9</th>\n",
       "      <td>50</td>\n",
       "      <td>2022-03-16 00:00:00</td>\n",
       "      <td>Male</td>\n",
       "      <td>169.0</td>\n",
       "      <td>NaN</td>\n",
       "      <td>130</td>\n",
       "      <td>101</td>\n",
       "      <td>300.0</td>\n",
       "      <td>2022-03-16</td>\n",
       "      <td>Neha</td>\n",
       "      <td>Catherine</td>\n",
       "    </tr>\n",
       "    <tr>\n",
       "      <th>10</th>\n",
       "      <td>450</td>\n",
       "      <td>2022-03-16 00:00:00</td>\n",
       "      <td>Female</td>\n",
       "      <td>NaN</td>\n",
       "      <td>81.0</td>\n",
       "      <td>105</td>\n",
       "      <td>132</td>\n",
       "      <td>246.0</td>\n",
       "      <td>2022-03-16</td>\n",
       "      <td>Mehru</td>\n",
       "      <td>Catherine</td>\n",
       "    </tr>\n",
       "    <tr>\n",
       "      <th>11</th>\n",
       "      <td>60</td>\n",
       "      <td>NaN</td>\n",
       "      <td>Female</td>\n",
       "      <td>159.0</td>\n",
       "      <td>80.0</td>\n",
       "      <td>102</td>\n",
       "      <td>126</td>\n",
       "      <td>334.5</td>\n",
       "      <td>2022-03-16</td>\n",
       "      <td>Dipa</td>\n",
       "      <td>Catherine</td>\n",
       "    </tr>\n",
       "    <tr>\n",
       "      <th>12</th>\n",
       "      <td>450</td>\n",
       "      <td>2022-03-16 00:00:00</td>\n",
       "      <td>Male</td>\n",
       "      <td>192.0</td>\n",
       "      <td>91.0</td>\n",
       "      <td>100</td>\n",
       "      <td>120</td>\n",
       "      <td>250.0</td>\n",
       "      <td>2022-03-16</td>\n",
       "      <td>Jim</td>\n",
       "      <td>Jony</td>\n",
       "    </tr>\n",
       "    <tr>\n",
       "      <th>13</th>\n",
       "      <td>45</td>\n",
       "      <td>2022-03-16 00:00:00</td>\n",
       "      <td>Male</td>\n",
       "      <td>155.0</td>\n",
       "      <td>51.0</td>\n",
       "      <td>92</td>\n",
       "      <td>118</td>\n",
       "      <td>241.0</td>\n",
       "      <td>2022-03-16</td>\n",
       "      <td>Divya</td>\n",
       "      <td>Catherine</td>\n",
       "    </tr>\n",
       "    <tr>\n",
       "      <th>14</th>\n",
       "      <td>50</td>\n",
       "      <td>2022-03-16 00:00:00</td>\n",
       "      <td>Gender</td>\n",
       "      <td>191.0</td>\n",
       "      <td>79.0</td>\n",
       "      <td>103</td>\n",
       "      <td>132</td>\n",
       "      <td>NaN</td>\n",
       "      <td>2022-03-16</td>\n",
       "      <td>Liya</td>\n",
       "      <td>Catherine</td>\n",
       "    </tr>\n",
       "    <tr>\n",
       "      <th>15</th>\n",
       "      <td>60</td>\n",
       "      <td>2022-03-16 00:00:00</td>\n",
       "      <td>Male</td>\n",
       "      <td>153.0</td>\n",
       "      <td>70.0</td>\n",
       "      <td>97</td>\n",
       "      <td>132</td>\n",
       "      <td>280.0</td>\n",
       "      <td>2022-03-16</td>\n",
       "      <td>Jack</td>\n",
       "      <td>Jony</td>\n",
       "    </tr>\n",
       "  </tbody>\n",
       "</table>\n",
       "</div>"
      ],
      "text/plain": [
       "    Duration                 Date  Gender  Height  Weight  Pulse  Maxpulse  \\\n",
       "0         60  2022-03-16 00:00:00    Male   174.0    96.0    104       132   \n",
       "1         60  2022-03-16 00:00:00  Female   189.0    87.0     98       123   \n",
       "2         60  2022-03-16 00:00:00  Female   185.0   110.0     98       120   \n",
       "3        500  2022-03-16 00:00:00    Male   195.0   104.0    100       120   \n",
       "4         60  2022-03-16 00:00:00    Male   149.0    61.0     90       112   \n",
       "5         60  2022-03-16 00:00:00    Male   189.0   104.0    103       123   \n",
       "6         60  2022-03-16 00:00:00    Male   147.0     NaN     97       125   \n",
       "7         60  2022-03-16 00:00:00    Male     NaN   101.0    108       131   \n",
       "8         45  2022-03-16 00:00:00  Female   174.0    90.0    100       119   \n",
       "9         50  2022-03-16 00:00:00    Male   169.0     NaN    130       101   \n",
       "10       450  2022-03-16 00:00:00  Female     NaN    81.0    105       132   \n",
       "11        60                  NaN  Female   159.0    80.0    102       126   \n",
       "12       450  2022-03-16 00:00:00    Male   192.0    91.0    100       120   \n",
       "13        45  2022-03-16 00:00:00    Male   155.0    51.0     92       118   \n",
       "14        50  2022-03-16 00:00:00  Gender   191.0    79.0    103       132   \n",
       "15        60  2022-03-16 00:00:00    Male   153.0    70.0     97       132   \n",
       "\n",
       "    Calories       Data     Name      Doctor  \n",
       "0      379.3 2022-03-16  Christy   Catherine  \n",
       "1      275.0 2022-03-16   Mukund   Catherine  \n",
       "2      215.2 2022-03-16  Aswathy   Catherine  \n",
       "3      300.0 2022-03-16     Phil   Catherine  \n",
       "4        NaN 2022-03-16    Vince   Catherine  \n",
       "5      323.0 2022-03-16  Akshaya        Jony  \n",
       "6      243.0 2022-03-16     Ajay        Jony  \n",
       "7      364.2 2022-03-16      Jay        Jony  \n",
       "8      282.0 2022-03-16    Shyam   Catherine  \n",
       "9      300.0 2022-03-16     Neha   Catherine  \n",
       "10     246.0 2022-03-16    Mehru   Catherine  \n",
       "11     334.5 2022-03-16     Dipa   Catherine  \n",
       "12     250.0 2022-03-16      Jim        Jony  \n",
       "13     241.0 2022-03-16    Divya   Catherine  \n",
       "14       NaN 2022-03-16     Liya   Catherine  \n",
       "15     280.0 2022-03-16     Jack        Jony  "
      ]
     },
     "execution_count": 33,
     "metadata": {},
     "output_type": "execute_result"
    }
   ],
   "source": [
    "data.drop('Name Doctor',axis=1,inplace=True)\n",
    "data\n",
    "     "
   ]
  },
  {
   "cell_type": "code",
   "execution_count": 34,
   "id": "8398b763",
   "metadata": {},
   "outputs": [
    {
     "name": "stdout",
     "output_type": "stream",
     "text": [
      "<class 'pandas.core.frame.DataFrame'>\n",
      "RangeIndex: 16 entries, 0 to 15\n",
      "Data columns (total 11 columns):\n",
      " #   Column    Non-Null Count  Dtype         \n",
      "---  ------    --------------  -----         \n",
      " 0   Duration  16 non-null     int64         \n",
      " 1   Date      15 non-null     object        \n",
      " 2   Gender    16 non-null     object        \n",
      " 3   Height    14 non-null     float64       \n",
      " 4   Weight    14 non-null     float64       \n",
      " 5   Pulse     16 non-null     int64         \n",
      " 6   Maxpulse  16 non-null     int64         \n",
      " 7   Calories  14 non-null     float64       \n",
      " 8   Data      16 non-null     datetime64[ns]\n",
      " 9   Name      16 non-null     object        \n",
      " 10  Doctor    16 non-null     object        \n",
      "dtypes: datetime64[ns](1), float64(3), int64(3), object(4)\n",
      "memory usage: 1.5+ KB\n"
     ]
    }
   ],
   "source": [
    "data.info()"
   ]
  },
  {
   "cell_type": "code",
   "execution_count": 35,
   "id": "006d91ff",
   "metadata": {},
   "outputs": [
    {
     "data": {
      "text/html": [
       "<div>\n",
       "<style scoped>\n",
       "    .dataframe tbody tr th:only-of-type {\n",
       "        vertical-align: middle;\n",
       "    }\n",
       "\n",
       "    .dataframe tbody tr th {\n",
       "        vertical-align: top;\n",
       "    }\n",
       "\n",
       "    .dataframe thead th {\n",
       "        text-align: right;\n",
       "    }\n",
       "</style>\n",
       "<table border=\"1\" class=\"dataframe\">\n",
       "  <thead>\n",
       "    <tr style=\"text-align: right;\">\n",
       "      <th></th>\n",
       "      <th>Duration</th>\n",
       "      <th>Date</th>\n",
       "      <th>Gender</th>\n",
       "      <th>Height</th>\n",
       "      <th>Weight</th>\n",
       "      <th>Pulse</th>\n",
       "      <th>Maxpulse</th>\n",
       "      <th>Calories</th>\n",
       "      <th>Data</th>\n",
       "      <th>Name</th>\n",
       "      <th>Doctor</th>\n",
       "    </tr>\n",
       "  </thead>\n",
       "  <tbody>\n",
       "    <tr>\n",
       "      <th>0</th>\n",
       "      <td>60</td>\n",
       "      <td>2022-03-16 00:00:00</td>\n",
       "      <td>Male</td>\n",
       "      <td>174.0</td>\n",
       "      <td>96.0</td>\n",
       "      <td>104</td>\n",
       "      <td>132</td>\n",
       "      <td>379.3</td>\n",
       "      <td>2022-03-16</td>\n",
       "      <td>Christy</td>\n",
       "      <td>Catherine</td>\n",
       "    </tr>\n",
       "    <tr>\n",
       "      <th>1</th>\n",
       "      <td>60</td>\n",
       "      <td>2022-03-16 00:00:00</td>\n",
       "      <td>Female</td>\n",
       "      <td>189.0</td>\n",
       "      <td>87.0</td>\n",
       "      <td>98</td>\n",
       "      <td>123</td>\n",
       "      <td>275.0</td>\n",
       "      <td>2022-03-16</td>\n",
       "      <td>Mukund</td>\n",
       "      <td>Catherine</td>\n",
       "    </tr>\n",
       "    <tr>\n",
       "      <th>2</th>\n",
       "      <td>60</td>\n",
       "      <td>2022-03-16 00:00:00</td>\n",
       "      <td>Female</td>\n",
       "      <td>185.0</td>\n",
       "      <td>110.0</td>\n",
       "      <td>98</td>\n",
       "      <td>120</td>\n",
       "      <td>215.2</td>\n",
       "      <td>2022-03-16</td>\n",
       "      <td>Aswathy</td>\n",
       "      <td>Catherine</td>\n",
       "    </tr>\n",
       "    <tr>\n",
       "      <th>3</th>\n",
       "      <td>50</td>\n",
       "      <td>2022-03-16 00:00:00</td>\n",
       "      <td>Male</td>\n",
       "      <td>195.0</td>\n",
       "      <td>104.0</td>\n",
       "      <td>100</td>\n",
       "      <td>120</td>\n",
       "      <td>300.0</td>\n",
       "      <td>2022-03-16</td>\n",
       "      <td>Phil</td>\n",
       "      <td>Catherine</td>\n",
       "    </tr>\n",
       "    <tr>\n",
       "      <th>4</th>\n",
       "      <td>60</td>\n",
       "      <td>2022-03-16 00:00:00</td>\n",
       "      <td>Male</td>\n",
       "      <td>149.0</td>\n",
       "      <td>61.0</td>\n",
       "      <td>90</td>\n",
       "      <td>112</td>\n",
       "      <td>NaN</td>\n",
       "      <td>2022-03-16</td>\n",
       "      <td>Vince</td>\n",
       "      <td>Catherine</td>\n",
       "    </tr>\n",
       "    <tr>\n",
       "      <th>5</th>\n",
       "      <td>60</td>\n",
       "      <td>2022-03-16 00:00:00</td>\n",
       "      <td>Male</td>\n",
       "      <td>189.0</td>\n",
       "      <td>104.0</td>\n",
       "      <td>103</td>\n",
       "      <td>123</td>\n",
       "      <td>323.0</td>\n",
       "      <td>2022-03-16</td>\n",
       "      <td>Akshaya</td>\n",
       "      <td>Jony</td>\n",
       "    </tr>\n",
       "    <tr>\n",
       "      <th>6</th>\n",
       "      <td>60</td>\n",
       "      <td>2022-03-16 00:00:00</td>\n",
       "      <td>Male</td>\n",
       "      <td>147.0</td>\n",
       "      <td>NaN</td>\n",
       "      <td>97</td>\n",
       "      <td>125</td>\n",
       "      <td>243.0</td>\n",
       "      <td>2022-03-16</td>\n",
       "      <td>Ajay</td>\n",
       "      <td>Jony</td>\n",
       "    </tr>\n",
       "    <tr>\n",
       "      <th>7</th>\n",
       "      <td>60</td>\n",
       "      <td>2022-03-16 00:00:00</td>\n",
       "      <td>Male</td>\n",
       "      <td>NaN</td>\n",
       "      <td>101.0</td>\n",
       "      <td>108</td>\n",
       "      <td>131</td>\n",
       "      <td>364.2</td>\n",
       "      <td>2022-03-16</td>\n",
       "      <td>Jay</td>\n",
       "      <td>Jony</td>\n",
       "    </tr>\n",
       "    <tr>\n",
       "      <th>8</th>\n",
       "      <td>45</td>\n",
       "      <td>2022-03-16 00:00:00</td>\n",
       "      <td>Female</td>\n",
       "      <td>174.0</td>\n",
       "      <td>90.0</td>\n",
       "      <td>100</td>\n",
       "      <td>119</td>\n",
       "      <td>282.0</td>\n",
       "      <td>2022-03-16</td>\n",
       "      <td>Shyam</td>\n",
       "      <td>Catherine</td>\n",
       "    </tr>\n",
       "    <tr>\n",
       "      <th>9</th>\n",
       "      <td>50</td>\n",
       "      <td>2022-03-16 00:00:00</td>\n",
       "      <td>Male</td>\n",
       "      <td>169.0</td>\n",
       "      <td>NaN</td>\n",
       "      <td>130</td>\n",
       "      <td>101</td>\n",
       "      <td>300.0</td>\n",
       "      <td>2022-03-16</td>\n",
       "      <td>Neha</td>\n",
       "      <td>Catherine</td>\n",
       "    </tr>\n",
       "    <tr>\n",
       "      <th>10</th>\n",
       "      <td>45</td>\n",
       "      <td>2022-03-16 00:00:00</td>\n",
       "      <td>Female</td>\n",
       "      <td>NaN</td>\n",
       "      <td>81.0</td>\n",
       "      <td>105</td>\n",
       "      <td>132</td>\n",
       "      <td>246.0</td>\n",
       "      <td>2022-03-16</td>\n",
       "      <td>Mehru</td>\n",
       "      <td>Catherine</td>\n",
       "    </tr>\n",
       "    <tr>\n",
       "      <th>11</th>\n",
       "      <td>60</td>\n",
       "      <td>NaN</td>\n",
       "      <td>Female</td>\n",
       "      <td>159.0</td>\n",
       "      <td>80.0</td>\n",
       "      <td>102</td>\n",
       "      <td>126</td>\n",
       "      <td>334.5</td>\n",
       "      <td>2022-03-16</td>\n",
       "      <td>Dipa</td>\n",
       "      <td>Catherine</td>\n",
       "    </tr>\n",
       "    <tr>\n",
       "      <th>12</th>\n",
       "      <td>45</td>\n",
       "      <td>2022-03-16 00:00:00</td>\n",
       "      <td>Male</td>\n",
       "      <td>192.0</td>\n",
       "      <td>91.0</td>\n",
       "      <td>100</td>\n",
       "      <td>120</td>\n",
       "      <td>250.0</td>\n",
       "      <td>2022-03-16</td>\n",
       "      <td>Jim</td>\n",
       "      <td>Jony</td>\n",
       "    </tr>\n",
       "    <tr>\n",
       "      <th>13</th>\n",
       "      <td>45</td>\n",
       "      <td>2022-03-16 00:00:00</td>\n",
       "      <td>Male</td>\n",
       "      <td>155.0</td>\n",
       "      <td>51.0</td>\n",
       "      <td>92</td>\n",
       "      <td>118</td>\n",
       "      <td>241.0</td>\n",
       "      <td>2022-03-16</td>\n",
       "      <td>Divya</td>\n",
       "      <td>Catherine</td>\n",
       "    </tr>\n",
       "    <tr>\n",
       "      <th>14</th>\n",
       "      <td>50</td>\n",
       "      <td>2022-03-16 00:00:00</td>\n",
       "      <td>Gender</td>\n",
       "      <td>191.0</td>\n",
       "      <td>79.0</td>\n",
       "      <td>103</td>\n",
       "      <td>132</td>\n",
       "      <td>NaN</td>\n",
       "      <td>2022-03-16</td>\n",
       "      <td>Liya</td>\n",
       "      <td>Catherine</td>\n",
       "    </tr>\n",
       "    <tr>\n",
       "      <th>15</th>\n",
       "      <td>60</td>\n",
       "      <td>2022-03-16 00:00:00</td>\n",
       "      <td>Male</td>\n",
       "      <td>153.0</td>\n",
       "      <td>70.0</td>\n",
       "      <td>97</td>\n",
       "      <td>132</td>\n",
       "      <td>280.0</td>\n",
       "      <td>2022-03-16</td>\n",
       "      <td>Jack</td>\n",
       "      <td>Jony</td>\n",
       "    </tr>\n",
       "  </tbody>\n",
       "</table>\n",
       "</div>"
      ],
      "text/plain": [
       "    Duration                 Date  Gender  Height  Weight  Pulse  Maxpulse  \\\n",
       "0         60  2022-03-16 00:00:00    Male   174.0    96.0    104       132   \n",
       "1         60  2022-03-16 00:00:00  Female   189.0    87.0     98       123   \n",
       "2         60  2022-03-16 00:00:00  Female   185.0   110.0     98       120   \n",
       "3         50  2022-03-16 00:00:00    Male   195.0   104.0    100       120   \n",
       "4         60  2022-03-16 00:00:00    Male   149.0    61.0     90       112   \n",
       "5         60  2022-03-16 00:00:00    Male   189.0   104.0    103       123   \n",
       "6         60  2022-03-16 00:00:00    Male   147.0     NaN     97       125   \n",
       "7         60  2022-03-16 00:00:00    Male     NaN   101.0    108       131   \n",
       "8         45  2022-03-16 00:00:00  Female   174.0    90.0    100       119   \n",
       "9         50  2022-03-16 00:00:00    Male   169.0     NaN    130       101   \n",
       "10        45  2022-03-16 00:00:00  Female     NaN    81.0    105       132   \n",
       "11        60                  NaN  Female   159.0    80.0    102       126   \n",
       "12        45  2022-03-16 00:00:00    Male   192.0    91.0    100       120   \n",
       "13        45  2022-03-16 00:00:00    Male   155.0    51.0     92       118   \n",
       "14        50  2022-03-16 00:00:00  Gender   191.0    79.0    103       132   \n",
       "15        60  2022-03-16 00:00:00    Male   153.0    70.0     97       132   \n",
       "\n",
       "    Calories       Data     Name      Doctor  \n",
       "0      379.3 2022-03-16  Christy   Catherine  \n",
       "1      275.0 2022-03-16   Mukund   Catherine  \n",
       "2      215.2 2022-03-16  Aswathy   Catherine  \n",
       "3      300.0 2022-03-16     Phil   Catherine  \n",
       "4        NaN 2022-03-16    Vince   Catherine  \n",
       "5      323.0 2022-03-16  Akshaya        Jony  \n",
       "6      243.0 2022-03-16     Ajay        Jony  \n",
       "7      364.2 2022-03-16      Jay        Jony  \n",
       "8      282.0 2022-03-16    Shyam   Catherine  \n",
       "9      300.0 2022-03-16     Neha   Catherine  \n",
       "10     246.0 2022-03-16    Mehru   Catherine  \n",
       "11     334.5 2022-03-16     Dipa   Catherine  \n",
       "12     250.0 2022-03-16      Jim        Jony  \n",
       "13     241.0 2022-03-16    Divya   Catherine  \n",
       "14       NaN 2022-03-16     Liya   Catherine  \n",
       "15     280.0 2022-03-16     Jack        Jony  "
      ]
     },
     "execution_count": 35,
     "metadata": {},
     "output_type": "execute_result"
    }
   ],
   "source": [
    "#replacing incorrect values in Duration by correct values.\n",
    "\n",
    "data.loc[data['Duration']>100,'Duration']=(data.loc[data['Duration']>100,'Duration'].astype(float)/10).astype(int)\n",
    "data"
   ]
  },
  {
   "cell_type": "code",
   "execution_count": 36,
   "id": "8595ee06",
   "metadata": {},
   "outputs": [
    {
     "data": {
      "text/html": [
       "<div>\n",
       "<style scoped>\n",
       "    .dataframe tbody tr th:only-of-type {\n",
       "        vertical-align: middle;\n",
       "    }\n",
       "\n",
       "    .dataframe tbody tr th {\n",
       "        vertical-align: top;\n",
       "    }\n",
       "\n",
       "    .dataframe thead th {\n",
       "        text-align: right;\n",
       "    }\n",
       "</style>\n",
       "<table border=\"1\" class=\"dataframe\">\n",
       "  <thead>\n",
       "    <tr style=\"text-align: right;\">\n",
       "      <th></th>\n",
       "      <th>Duration</th>\n",
       "      <th>Date</th>\n",
       "      <th>Gender</th>\n",
       "      <th>Height</th>\n",
       "      <th>Weight</th>\n",
       "      <th>Pulse</th>\n",
       "      <th>Maxpulse</th>\n",
       "      <th>Calories</th>\n",
       "      <th>Data</th>\n",
       "      <th>Name</th>\n",
       "      <th>Doctor</th>\n",
       "    </tr>\n",
       "  </thead>\n",
       "  <tbody>\n",
       "    <tr>\n",
       "      <th>0</th>\n",
       "      <td>60</td>\n",
       "      <td>2022-03-16 00:00:00</td>\n",
       "      <td>Male</td>\n",
       "      <td>174.0</td>\n",
       "      <td>96.0</td>\n",
       "      <td>104</td>\n",
       "      <td>132</td>\n",
       "      <td>379.3</td>\n",
       "      <td>2022-03-16</td>\n",
       "      <td>Christy</td>\n",
       "      <td>Catherine</td>\n",
       "    </tr>\n",
       "    <tr>\n",
       "      <th>1</th>\n",
       "      <td>60</td>\n",
       "      <td>2022-03-16 00:00:00</td>\n",
       "      <td>Female</td>\n",
       "      <td>189.0</td>\n",
       "      <td>87.0</td>\n",
       "      <td>98</td>\n",
       "      <td>123</td>\n",
       "      <td>275.0</td>\n",
       "      <td>2022-03-16</td>\n",
       "      <td>Mukund</td>\n",
       "      <td>Catherine</td>\n",
       "    </tr>\n",
       "    <tr>\n",
       "      <th>2</th>\n",
       "      <td>60</td>\n",
       "      <td>2022-03-16 00:00:00</td>\n",
       "      <td>Female</td>\n",
       "      <td>185.0</td>\n",
       "      <td>110.0</td>\n",
       "      <td>98</td>\n",
       "      <td>120</td>\n",
       "      <td>215.2</td>\n",
       "      <td>2022-03-16</td>\n",
       "      <td>Aswathy</td>\n",
       "      <td>Catherine</td>\n",
       "    </tr>\n",
       "    <tr>\n",
       "      <th>3</th>\n",
       "      <td>50</td>\n",
       "      <td>2022-03-16 00:00:00</td>\n",
       "      <td>Male</td>\n",
       "      <td>195.0</td>\n",
       "      <td>104.0</td>\n",
       "      <td>100</td>\n",
       "      <td>120</td>\n",
       "      <td>300.0</td>\n",
       "      <td>2022-03-16</td>\n",
       "      <td>Phil</td>\n",
       "      <td>Catherine</td>\n",
       "    </tr>\n",
       "    <tr>\n",
       "      <th>4</th>\n",
       "      <td>60</td>\n",
       "      <td>2022-03-16 00:00:00</td>\n",
       "      <td>Male</td>\n",
       "      <td>149.0</td>\n",
       "      <td>61.0</td>\n",
       "      <td>90</td>\n",
       "      <td>112</td>\n",
       "      <td>NaN</td>\n",
       "      <td>2022-03-16</td>\n",
       "      <td>Vince</td>\n",
       "      <td>Catherine</td>\n",
       "    </tr>\n",
       "    <tr>\n",
       "      <th>5</th>\n",
       "      <td>60</td>\n",
       "      <td>2022-03-16 00:00:00</td>\n",
       "      <td>Male</td>\n",
       "      <td>189.0</td>\n",
       "      <td>104.0</td>\n",
       "      <td>103</td>\n",
       "      <td>123</td>\n",
       "      <td>323.0</td>\n",
       "      <td>2022-03-16</td>\n",
       "      <td>Akshaya</td>\n",
       "      <td>Jony</td>\n",
       "    </tr>\n",
       "    <tr>\n",
       "      <th>6</th>\n",
       "      <td>60</td>\n",
       "      <td>2022-03-16 00:00:00</td>\n",
       "      <td>Male</td>\n",
       "      <td>147.0</td>\n",
       "      <td>NaN</td>\n",
       "      <td>97</td>\n",
       "      <td>125</td>\n",
       "      <td>243.0</td>\n",
       "      <td>2022-03-16</td>\n",
       "      <td>Ajay</td>\n",
       "      <td>Jony</td>\n",
       "    </tr>\n",
       "    <tr>\n",
       "      <th>7</th>\n",
       "      <td>60</td>\n",
       "      <td>2022-03-16 00:00:00</td>\n",
       "      <td>Male</td>\n",
       "      <td>NaN</td>\n",
       "      <td>101.0</td>\n",
       "      <td>108</td>\n",
       "      <td>131</td>\n",
       "      <td>364.2</td>\n",
       "      <td>2022-03-16</td>\n",
       "      <td>Jay</td>\n",
       "      <td>Jony</td>\n",
       "    </tr>\n",
       "    <tr>\n",
       "      <th>8</th>\n",
       "      <td>45</td>\n",
       "      <td>2022-03-16 00:00:00</td>\n",
       "      <td>Female</td>\n",
       "      <td>174.0</td>\n",
       "      <td>90.0</td>\n",
       "      <td>100</td>\n",
       "      <td>119</td>\n",
       "      <td>282.0</td>\n",
       "      <td>2022-03-16</td>\n",
       "      <td>Shyam</td>\n",
       "      <td>Catherine</td>\n",
       "    </tr>\n",
       "    <tr>\n",
       "      <th>9</th>\n",
       "      <td>50</td>\n",
       "      <td>2022-03-16 00:00:00</td>\n",
       "      <td>Male</td>\n",
       "      <td>169.0</td>\n",
       "      <td>NaN</td>\n",
       "      <td>130</td>\n",
       "      <td>101</td>\n",
       "      <td>300.0</td>\n",
       "      <td>2022-03-16</td>\n",
       "      <td>Neha</td>\n",
       "      <td>Catherine</td>\n",
       "    </tr>\n",
       "    <tr>\n",
       "      <th>10</th>\n",
       "      <td>45</td>\n",
       "      <td>2022-03-16 00:00:00</td>\n",
       "      <td>Female</td>\n",
       "      <td>NaN</td>\n",
       "      <td>81.0</td>\n",
       "      <td>105</td>\n",
       "      <td>132</td>\n",
       "      <td>246.0</td>\n",
       "      <td>2022-03-16</td>\n",
       "      <td>Mehru</td>\n",
       "      <td>Catherine</td>\n",
       "    </tr>\n",
       "    <tr>\n",
       "      <th>11</th>\n",
       "      <td>60</td>\n",
       "      <td>NaN</td>\n",
       "      <td>Female</td>\n",
       "      <td>159.0</td>\n",
       "      <td>80.0</td>\n",
       "      <td>102</td>\n",
       "      <td>126</td>\n",
       "      <td>334.5</td>\n",
       "      <td>2022-03-16</td>\n",
       "      <td>Dipa</td>\n",
       "      <td>Catherine</td>\n",
       "    </tr>\n",
       "    <tr>\n",
       "      <th>12</th>\n",
       "      <td>45</td>\n",
       "      <td>2022-03-16 00:00:00</td>\n",
       "      <td>Male</td>\n",
       "      <td>192.0</td>\n",
       "      <td>91.0</td>\n",
       "      <td>100</td>\n",
       "      <td>120</td>\n",
       "      <td>250.0</td>\n",
       "      <td>2022-03-16</td>\n",
       "      <td>Jim</td>\n",
       "      <td>Jony</td>\n",
       "    </tr>\n",
       "    <tr>\n",
       "      <th>13</th>\n",
       "      <td>45</td>\n",
       "      <td>2022-03-16 00:00:00</td>\n",
       "      <td>Male</td>\n",
       "      <td>155.0</td>\n",
       "      <td>51.0</td>\n",
       "      <td>92</td>\n",
       "      <td>118</td>\n",
       "      <td>241.0</td>\n",
       "      <td>2022-03-16</td>\n",
       "      <td>Divya</td>\n",
       "      <td>Catherine</td>\n",
       "    </tr>\n",
       "    <tr>\n",
       "      <th>14</th>\n",
       "      <td>50</td>\n",
       "      <td>2022-03-16 00:00:00</td>\n",
       "      <td>Female</td>\n",
       "      <td>191.0</td>\n",
       "      <td>79.0</td>\n",
       "      <td>103</td>\n",
       "      <td>132</td>\n",
       "      <td>NaN</td>\n",
       "      <td>2022-03-16</td>\n",
       "      <td>Liya</td>\n",
       "      <td>Catherine</td>\n",
       "    </tr>\n",
       "    <tr>\n",
       "      <th>15</th>\n",
       "      <td>60</td>\n",
       "      <td>2022-03-16 00:00:00</td>\n",
       "      <td>Male</td>\n",
       "      <td>153.0</td>\n",
       "      <td>70.0</td>\n",
       "      <td>97</td>\n",
       "      <td>132</td>\n",
       "      <td>280.0</td>\n",
       "      <td>2022-03-16</td>\n",
       "      <td>Jack</td>\n",
       "      <td>Jony</td>\n",
       "    </tr>\n",
       "  </tbody>\n",
       "</table>\n",
       "</div>"
      ],
      "text/plain": [
       "    Duration                 Date  Gender  Height  Weight  Pulse  Maxpulse  \\\n",
       "0         60  2022-03-16 00:00:00    Male   174.0    96.0    104       132   \n",
       "1         60  2022-03-16 00:00:00  Female   189.0    87.0     98       123   \n",
       "2         60  2022-03-16 00:00:00  Female   185.0   110.0     98       120   \n",
       "3         50  2022-03-16 00:00:00    Male   195.0   104.0    100       120   \n",
       "4         60  2022-03-16 00:00:00    Male   149.0    61.0     90       112   \n",
       "5         60  2022-03-16 00:00:00    Male   189.0   104.0    103       123   \n",
       "6         60  2022-03-16 00:00:00    Male   147.0     NaN     97       125   \n",
       "7         60  2022-03-16 00:00:00    Male     NaN   101.0    108       131   \n",
       "8         45  2022-03-16 00:00:00  Female   174.0    90.0    100       119   \n",
       "9         50  2022-03-16 00:00:00    Male   169.0     NaN    130       101   \n",
       "10        45  2022-03-16 00:00:00  Female     NaN    81.0    105       132   \n",
       "11        60                  NaN  Female   159.0    80.0    102       126   \n",
       "12        45  2022-03-16 00:00:00    Male   192.0    91.0    100       120   \n",
       "13        45  2022-03-16 00:00:00    Male   155.0    51.0     92       118   \n",
       "14        50  2022-03-16 00:00:00  Female   191.0    79.0    103       132   \n",
       "15        60  2022-03-16 00:00:00    Male   153.0    70.0     97       132   \n",
       "\n",
       "    Calories       Data     Name      Doctor  \n",
       "0      379.3 2022-03-16  Christy   Catherine  \n",
       "1      275.0 2022-03-16   Mukund   Catherine  \n",
       "2      215.2 2022-03-16  Aswathy   Catherine  \n",
       "3      300.0 2022-03-16     Phil   Catherine  \n",
       "4        NaN 2022-03-16    Vince   Catherine  \n",
       "5      323.0 2022-03-16  Akshaya        Jony  \n",
       "6      243.0 2022-03-16     Ajay        Jony  \n",
       "7      364.2 2022-03-16      Jay        Jony  \n",
       "8      282.0 2022-03-16    Shyam   Catherine  \n",
       "9      300.0 2022-03-16     Neha   Catherine  \n",
       "10     246.0 2022-03-16    Mehru   Catherine  \n",
       "11     334.5 2022-03-16     Dipa   Catherine  \n",
       "12     250.0 2022-03-16      Jim        Jony  \n",
       "13     241.0 2022-03-16    Divya   Catherine  \n",
       "14       NaN 2022-03-16     Liya   Catherine  \n",
       "15     280.0 2022-03-16     Jack        Jony  "
      ]
     },
     "execution_count": 36,
     "metadata": {},
     "output_type": "execute_result"
    }
   ],
   "source": [
    "#replacing incorrect value in Gender by correct value.\n",
    "\n",
    "data.loc[data['Gender']=='Gender','Gender']='Female'\n",
    "data"
   ]
  },
  {
   "cell_type": "markdown",
   "id": "3987cfdb",
   "metadata": {},
   "source": [
    "## Nominal Analysis\n"
   ]
  },
  {
   "cell_type": "code",
   "execution_count": 38,
   "id": "2995a91d",
   "metadata": {},
   "outputs": [],
   "source": [
    "import seaborn as sns\n",
    "import matplotlib.pyplot as pIt"
   ]
  },
  {
   "cell_type": "code",
   "execution_count": null,
   "id": "e6673588",
   "metadata": {},
   "outputs": [],
   "source": [
    "data['Doctor'].value_counts()"
   ]
  },
  {
   "cell_type": "code",
   "execution_count": 39,
   "id": "bb70ef30",
   "metadata": {},
   "outputs": [
    {
     "data": {
      "text/plain": [
       "<Axes: xlabel='Doctor', ylabel='count'>"
      ]
     },
     "execution_count": 39,
     "metadata": {},
     "output_type": "execute_result"
    },
    {
     "data": {
      "image/png": "[encoded data removed]",
      "text/plain": [
       "<Figure size 640x480 with 1 Axes>"
      ]
     },
     "metadata": {},
     "output_type": "display_data"
    }
   ],
   "source": [
    "sns.countplot(x='Doctor',data=data)\n",
    "     "
   ]
  },
  {
   "cell_type": "code",
   "execution_count": 40,
   "id": "0d51cc7e",
   "metadata": {},
   "outputs": [
    {
     "data": {
      "text/plain": [
       "<Axes: xlabel='Gender', ylabel='count'>"
      ]
     },
     "execution_count": 40,
     "metadata": {},
     "output_type": "execute_result"
    },
    {
     "data": {
      "image/png": "[encoded data removed]",
      "text/plain": [
       "<Figure size 640x480 with 1 Axes>"
      ]
     },
     "metadata": {},
     "output_type": "display_data"
    }
   ],
   "source": [
    "sns.countplot(x='Gender',data=data)"
   ]
  },
  {
   "cell_type": "code",
   "execution_count": 41,
   "id": "18687f49",
   "metadata": {},
   "outputs": [
    {
     "data": {
      "text/plain": [
       "<Axes: xlabel='Duration', ylabel='count'>"
      ]
     },
     "execution_count": 41,
     "metadata": {},
     "output_type": "execute_result"
    },
    {
     "data": {
      "image/png": "[encoded data removed]",
      "text/plain": [
       "<Figure size 640x480 with 1 Axes>"
      ]
     },
     "metadata": {},
     "output_type": "display_data"
    }
   ],
   "source": [
    "sns.countplot(x='Duration',data=data)"
   ]
  },
  {
   "cell_type": "code",
   "execution_count": 42,
   "id": "350bec54",
   "metadata": {},
   "outputs": [
    {
     "data": {
      "text/plain": [
       "<Axes: xlabel='Doctor', ylabel='count'>"
      ]
     },
     "execution_count": 42,
     "metadata": {},
     "output_type": "execute_result"
    },
    {
     "data": {
      "image/png": "[encoded data removed]",
      "text/plain": [
       "<Figure size 640x480 with 1 Axes>"
      ]
     },
     "metadata": {},
     "output_type": "display_data"
    }
   ],
   "source": [
    "sns.countplot(x='Doctor',hue='Gender',data=data)"
   ]
  },
  {
   "cell_type": "code",
   "execution_count": 43,
   "id": "46e9f10a",
   "metadata": {},
   "outputs": [
    {
     "data": {
      "text/plain": [
       "<Axes: xlabel='Gender', ylabel='count'>"
      ]
     },
     "execution_count": 43,
     "metadata": {},
     "output_type": "execute_result"
    },
    {
     "data": {
      "image/png": "[encoded data removed]",
      "text/plain": [
       "<Figure size 640x480 with 1 Axes>"
      ]
     },
     "metadata": {},
     "output_type": "display_data"
    }
   ],
   "source": [
    "sns.countplot(x='Gender',hue='Duration',data=data)"
   ]
  },
  {
   "cell_type": "code",
   "execution_count": 44,
   "id": "cb63df86",
   "metadata": {},
   "outputs": [
    {
     "data": {
      "text/plain": [
       "<Axes: xlabel='Doctor', ylabel='count'>"
      ]
     },
     "execution_count": 44,
     "metadata": {},
     "output_type": "execute_result"
    },
    {
     "data": {
      "image/png": "[encoded data removed]",
      "text/plain": [
       "<Figure size 640x480 with 1 Axes>"
      ]
     },
     "metadata": {},
     "output_type": "display_data"
    }
   ],
   "source": [
    "sns.countplot(x='Doctor',hue='Duration',data=data)"
   ]
  },
  {
   "cell_type": "code",
   "execution_count": 45,
   "id": "41c966df",
   "metadata": {},
   "outputs": [
    {
     "data": {
      "text/plain": [
       "<Axes: xlabel='Gender', ylabel='Height'>"
      ]
     },
     "execution_count": 45,
     "metadata": {},
     "output_type": "execute_result"
    },
    {
     "data": {
      "image/png": "[encoded data removed]",
      "text/plain": [
       "<Figure size 640x480 with 1 Axes>"
      ]
     },
     "metadata": {},
     "output_type": "display_data"
    }
   ],
   "source": [
    "sns.barplot(x='Gender',y='Height',data=data)"
   ]
  },
  {
   "cell_type": "code",
   "execution_count": 46,
   "id": "71fc84e6",
   "metadata": {},
   "outputs": [
    {
     "data": {
      "text/plain": [
       "<Axes: xlabel='Gender', ylabel='Weight'>"
      ]
     },
     "execution_count": 46,
     "metadata": {},
     "output_type": "execute_result"
    },
    {
     "data": {
      "image/png": "[encoded data removed]",
      "text/plain": [
       "<Figure size 640x480 with 1 Axes>"
      ]
     },
     "metadata": {},
     "output_type": "display_data"
    }
   ],
   "source": [
    "sns.barplot(x='Gender',y='Weight',data=data)"
   ]
  },
  {
   "cell_type": "code",
   "execution_count": 47,
   "id": "6b372aac",
   "metadata": {},
   "outputs": [
    {
     "data": {
      "text/plain": [
       "<Axes: xlabel='Gender', ylabel='Pulse'>"
      ]
     },
     "execution_count": 47,
     "metadata": {},
     "output_type": "execute_result"
    },
    {
     "data": {
      "image/png": "[encoded data removed]",
      "text/plain": [
       "<Figure size 640x480 with 1 Axes>"
      ]
     },
     "metadata": {},
     "output_type": "display_data"
    }
   ],
   "source": [
    "sns.barplot(x='Gender',y='Pulse',data=data)"
   ]
  },
  {
   "cell_type": "code",
   "execution_count": 48,
   "id": "0a950897",
   "metadata": {},
   "outputs": [
    {
     "data": {
      "text/plain": [
       "<Axes: xlabel='Gender', ylabel='Maxpulse'>"
      ]
     },
     "execution_count": 48,
     "metadata": {},
     "output_type": "execute_result"
    },
    {
     "data": {
      "image/png": "[encoded data removed]",
      "text/plain": [
       "<Figure size 640x480 with 1 Axes>"
      ]
     },
     "metadata": {},
     "output_type": "display_data"
    }
   ],
   "source": [
    "sns.barplot(x='Gender',y='Maxpulse',data=data)"
   ]
  },
  {
   "cell_type": "code",
   "execution_count": 49,
   "id": "2497be87",
   "metadata": {},
   "outputs": [
    {
     "data": {
      "text/plain": [
       "<Axes: xlabel='Gender', ylabel='Calories'>"
      ]
     },
     "execution_count": 49,
     "metadata": {},
     "output_type": "execute_result"
    },
    {
     "data": {
      "image/png": "[encoded data removed]",
      "text/plain": [
       "<Figure size 640x480 with 1 Axes>"
      ]
     },
     "metadata": {},
     "output_type": "display_data"
    }
   ],
   "source": [
    "sns.barplot(x='Gender',y='Calories',data=data)"
   ]
  },
  {
   "cell_type": "markdown",
   "id": "e00eeba6",
   "metadata": {},
   "source": [
    "## Continuous Analysis"
   ]
  },
  {
   "cell_type": "code",
   "execution_count": 50,
   "id": "c2861340",
   "metadata": {},
   "outputs": [
    {
     "data": {
      "text/html": [
       "<div>\n",
       "<style scoped>\n",
       "    .dataframe tbody tr th:only-of-type {\n",
       "        vertical-align: middle;\n",
       "    }\n",
       "\n",
       "    .dataframe tbody tr th {\n",
       "        vertical-align: top;\n",
       "    }\n",
       "\n",
       "    .dataframe thead th {\n",
       "        text-align: right;\n",
       "    }\n",
       "</style>\n",
       "<table border=\"1\" class=\"dataframe\">\n",
       "  <thead>\n",
       "    <tr style=\"text-align: right;\">\n",
       "      <th></th>\n",
       "      <th>Duration</th>\n",
       "      <th>Height</th>\n",
       "      <th>Weight</th>\n",
       "      <th>Pulse</th>\n",
       "      <th>Maxpulse</th>\n",
       "      <th>Calories</th>\n",
       "    </tr>\n",
       "  </thead>\n",
       "  <tbody>\n",
       "    <tr>\n",
       "      <th>count</th>\n",
       "      <td>16.000000</td>\n",
       "      <td>14.000000</td>\n",
       "      <td>14.000000</td>\n",
       "      <td>16.000000</td>\n",
       "      <td>16.000000</td>\n",
       "      <td>14.000000</td>\n",
       "    </tr>\n",
       "    <tr>\n",
       "      <th>mean</th>\n",
       "      <td>54.375000</td>\n",
       "      <td>172.928571</td>\n",
       "      <td>86.071429</td>\n",
       "      <td>101.687500</td>\n",
       "      <td>122.875000</td>\n",
       "      <td>288.085714</td>\n",
       "    </tr>\n",
       "    <tr>\n",
       "      <th>std</th>\n",
       "      <td>6.800735</td>\n",
       "      <td>17.573863</td>\n",
       "      <td>17.112588</td>\n",
       "      <td>8.837185</td>\n",
       "      <td>8.460693</td>\n",
       "      <td>48.696957</td>\n",
       "    </tr>\n",
       "    <tr>\n",
       "      <th>min</th>\n",
       "      <td>45.000000</td>\n",
       "      <td>147.000000</td>\n",
       "      <td>51.000000</td>\n",
       "      <td>90.000000</td>\n",
       "      <td>101.000000</td>\n",
       "      <td>215.200000</td>\n",
       "    </tr>\n",
       "    <tr>\n",
       "      <th>25%</th>\n",
       "      <td>48.750000</td>\n",
       "      <td>156.000000</td>\n",
       "      <td>79.250000</td>\n",
       "      <td>97.750000</td>\n",
       "      <td>119.750000</td>\n",
       "      <td>247.000000</td>\n",
       "    </tr>\n",
       "    <tr>\n",
       "      <th>50%</th>\n",
       "      <td>60.000000</td>\n",
       "      <td>174.000000</td>\n",
       "      <td>88.500000</td>\n",
       "      <td>100.000000</td>\n",
       "      <td>123.000000</td>\n",
       "      <td>281.000000</td>\n",
       "    </tr>\n",
       "    <tr>\n",
       "      <th>75%</th>\n",
       "      <td>60.000000</td>\n",
       "      <td>189.000000</td>\n",
       "      <td>99.750000</td>\n",
       "      <td>103.250000</td>\n",
       "      <td>131.250000</td>\n",
       "      <td>317.250000</td>\n",
       "    </tr>\n",
       "    <tr>\n",
       "      <th>max</th>\n",
       "      <td>60.000000</td>\n",
       "      <td>195.000000</td>\n",
       "      <td>110.000000</td>\n",
       "      <td>130.000000</td>\n",
       "      <td>132.000000</td>\n",
       "      <td>379.300000</td>\n",
       "    </tr>\n",
       "  </tbody>\n",
       "</table>\n",
       "</div>"
      ],
      "text/plain": [
       "        Duration      Height      Weight       Pulse    Maxpulse    Calories\n",
       "count  16.000000   14.000000   14.000000   16.000000   16.000000   14.000000\n",
       "mean   54.375000  172.928571   86.071429  101.687500  122.875000  288.085714\n",
       "std     6.800735   17.573863   17.112588    8.837185    8.460693   48.696957\n",
       "min    45.000000  147.000000   51.000000   90.000000  101.000000  215.200000\n",
       "25%    48.750000  156.000000   79.250000   97.750000  119.750000  247.000000\n",
       "50%    60.000000  174.000000   88.500000  100.000000  123.000000  281.000000\n",
       "75%    60.000000  189.000000   99.750000  103.250000  131.250000  317.250000\n",
       "max    60.000000  195.000000  110.000000  130.000000  132.000000  379.300000"
      ]
     },
     "execution_count": 50,
     "metadata": {},
     "output_type": "execute_result"
    }
   ],
   "source": [
    "\n",
    "data.describe()"
   ]
  },
  {
   "cell_type": "code",
   "execution_count": 51,
   "id": "cd7de9fe",
   "metadata": {},
   "outputs": [
    {
     "data": {
      "text/plain": [
       "<Axes: ylabel='Frequency'>"
      ]
     },
     "execution_count": 51,
     "metadata": {},
     "output_type": "execute_result"
    },
    {
     "data": {
      "image/png": "[encoded data removed]",
      "text/plain": [
       "<Figure size 640x480 with 1 Axes>"
      ]
     },
     "metadata": {},
     "output_type": "display_data"
    }
   ],
   "source": [
    "data['Height'].plot.hist()"
   ]
  },
  {
   "cell_type": "code",
   "execution_count": 52,
   "id": "e80c7cb6",
   "metadata": {},
   "outputs": [
    {
     "data": {
      "text/plain": [
       "<Axes: ylabel='Height'>"
      ]
     },
     "execution_count": 52,
     "metadata": {},
     "output_type": "execute_result"
    },
    {
     "data": {
      "image/png": "[encoded data removed]",
      "text/plain": [
       "<Figure size 640x480 with 1 Axes>"
      ]
     },
     "metadata": {},
     "output_type": "display_data"
    }
   ],
   "source": [
    "sns.boxplot(y=data['Height'])\n",
    "     "
   ]
  },
  {
   "cell_type": "code",
   "execution_count": 53,
   "id": "6bab1fac",
   "metadata": {},
   "outputs": [
    {
     "data": {
      "text/plain": [
       "<Axes: ylabel='Frequency'>"
      ]
     },
     "execution_count": 53,
     "metadata": {},
     "output_type": "execute_result"
    },
    {
     "data": {
      "image/png": "[encoded data removed]",
      "text/plain": [
       "<Figure size 640x480 with 1 Axes>"
      ]
     },
     "metadata": {},
     "output_type": "display_data"
    }
   ],
   "source": [
    "data['Weight'].plot.hist()"
   ]
  },
  {
   "cell_type": "code",
   "execution_count": 54,
   "id": "6f9463f6",
   "metadata": {},
   "outputs": [
    {
     "data": {
      "text/plain": [
       "<Axes: ylabel='Weight'>"
      ]
     },
     "execution_count": 54,
     "metadata": {},
     "output_type": "execute_result"
    },
    {
     "data": {
      "image/png": "[encoded data removed]",
      "text/plain": [
       "<Figure size 640x480 with 1 Axes>"
      ]
     },
     "metadata": {},
     "output_type": "display_data"
    }
   ],
   "source": [
    "sns.boxplot(y=data['Weight'])\n",
    "     "
   ]
  },
  {
   "cell_type": "code",
   "execution_count": 55,
   "id": "794d99b3",
   "metadata": {},
   "outputs": [
    {
     "data": {
      "text/plain": [
       "<Axes: xlabel='Gender', ylabel='Calories'>"
      ]
     },
     "execution_count": 55,
     "metadata": {},
     "output_type": "execute_result"
    },
    {
     "data": {
      "image/png": "[encoded data removed]",
      "text/plain": [
       "<Figure size 640x480 with 1 Axes>"
      ]
     },
     "metadata": {},
     "output_type": "display_data"
    }
   ],
   "source": [
    "sns.boxplot(y='Calories',data=data,x='Gender')"
   ]
  },
  {
   "cell_type": "code",
   "execution_count": 56,
   "id": "c78db837",
   "metadata": {},
   "outputs": [
    {
     "data": {
      "text/plain": [
       "<Axes: xlabel='Gender', ylabel='Height'>"
      ]
     },
     "execution_count": 56,
     "metadata": {},
     "output_type": "execute_result"
    },
    {
     "data": {
      "image/png": "[encoded data removed]",
      "text/plain": [
       "<Figure size 640x480 with 1 Axes>"
      ]
     },
     "metadata": {},
     "output_type": "display_data"
    }
   ],
   "source": [
    "sns.boxplot(y='Height',data=data,x='Gender')\n",
    "     "
   ]
  },
  {
   "cell_type": "code",
   "execution_count": 57,
   "id": "d7f33b8a",
   "metadata": {},
   "outputs": [
    {
     "data": {
      "text/plain": [
       "<Axes: xlabel='Gender', ylabel='Weight'>"
      ]
     },
     "execution_count": 57,
     "metadata": {},
     "output_type": "execute_result"
    },
    {
     "data": {
      "image/png": "[encoded data removed]",
      "text/plain": [
       "<Figure size 640x480 with 1 Axes>"
      ]
     },
     "metadata": {},
     "output_type": "display_data"
    }
   ],
   "source": [
    "sns.boxplot(y='Weight',data=data,x='Gender')"
   ]
  },
  {
   "cell_type": "code",
   "execution_count": 58,
   "id": "ae29c51a",
   "metadata": {},
   "outputs": [
    {
     "data": {
      "text/plain": [
       "<Axes: xlabel='Gender', ylabel='Pulse'>"
      ]
     },
     "execution_count": 58,
     "metadata": {},
     "output_type": "execute_result"
    },
    {
     "data": {
      "image/png": "[encoded data removed]",
      "text/plain": [
       "<Figure size 640x480 with 1 Axes>"
      ]
     },
     "metadata": {},
     "output_type": "display_data"
    }
   ],
   "source": [
    "sns.boxplot(y='Pulse',data=data,x='Gender')\n",
    "     "
   ]
  },
  {
   "cell_type": "code",
   "execution_count": 59,
   "id": "5c234e70",
   "metadata": {},
   "outputs": [
    {
     "data": {
      "text/plain": [
       "<Axes: xlabel='Gender', ylabel='Maxpulse'>"
      ]
     },
     "execution_count": 59,
     "metadata": {},
     "output_type": "execute_result"
    },
    {
     "data": {
      "image/png": "[encoded data removed]",
      "text/plain": [
       "<Figure size 640x480 with 1 Axes>"
      ]
     },
     "metadata": {},
     "output_type": "display_data"
    }
   ],
   "source": [
    "sns.boxplot(y='Maxpulse',data=data,x='Gender')"
   ]
  },
  {
   "cell_type": "code",
   "execution_count": 60,
   "id": "76ad280e",
   "metadata": {},
   "outputs": [
    {
     "data": {
      "text/plain": [
       "<seaborn.axisgrid.FacetGrid at 0x17c1924f610>"
      ]
     },
     "execution_count": 60,
     "metadata": {},
     "output_type": "execute_result"
    },
    {
     "data": {
      "image/png": "[encoded data removed]",
      "text/plain": [
       "<Figure size 500x500 with 1 Axes>"
      ]
     },
     "metadata": {},
     "output_type": "display_data"
    }
   ],
   "source": [
    "sns.catplot(x='Duration',y='Pulse',kind=\"box\",data=data)\n",
    "     "
   ]
  },
  {
   "cell_type": "code",
   "execution_count": 61,
   "id": "69e06641",
   "metadata": {},
   "outputs": [
    {
     "data": {
      "text/plain": [
       "<seaborn.axisgrid.FacetGrid at 0x17c17c361d0>"
      ]
     },
     "execution_count": 61,
     "metadata": {},
     "output_type": "execute_result"
    },
    {
     "data": {
      "image/png": "[encoded data removed]",
      "text/plain": [
       "<Figure size 500x500 with 1 Axes>"
      ]
     },
     "metadata": {},
     "output_type": "display_data"
    }
   ],
   "source": [
    "sns.catplot(x='Duration',y='Weight',kind=\"box\",data=data)"
   ]
  },
  {
   "cell_type": "code",
   "execution_count": 62,
   "id": "b2c6044b",
   "metadata": {},
   "outputs": [
    {
     "data": {
      "text/plain": [
       "<seaborn.axisgrid.FacetGrid at 0x17c1a315b10>"
      ]
     },
     "execution_count": 62,
     "metadata": {},
     "output_type": "execute_result"
    },
    {
     "data": {
      "image/png": "[encoded data removed]",
      "text/plain": [
       "<Figure size 500x500 with 1 Axes>"
      ]
     },
     "metadata": {},
     "output_type": "display_data"
    }
   ],
   "source": [
    "sns.catplot(x='Duration',y='Height',kind=\"box\",data=data)"
   ]
  },
  {
   "cell_type": "code",
   "execution_count": 63,
   "id": "33452c67",
   "metadata": {},
   "outputs": [
    {
     "data": {
      "text/plain": [
       "<seaborn.axisgrid.FacetGrid at 0x17c17c360b0>"
      ]
     },
     "execution_count": 63,
     "metadata": {},
     "output_type": "execute_result"
    },
    {
     "data": {
      "image/png": "[encoded data removed]",
      "text/plain": [
       "<Figure size 500x500 with 1 Axes>"
      ]
     },
     "metadata": {},
     "output_type": "display_data"
    }
   ],
   "source": [
    "sns.catplot(x='Duration',y='Height',kind=\"violin\",data=data)"
   ]
  },
  {
   "cell_type": "code",
   "execution_count": 64,
   "id": "224d5c1f",
   "metadata": {},
   "outputs": [
    {
     "data": {
      "text/plain": [
       "<seaborn.axisgrid.FacetGrid at 0x17c1709a470>"
      ]
     },
     "execution_count": 64,
     "metadata": {},
     "output_type": "execute_result"
    },
    {
     "data": {
      "image/png": "[encoded data removed]",
      "text/plain": [
       "<Figure size 500x500 with 1 Axes>"
      ]
     },
     "metadata": {},
     "output_type": "display_data"
    }
   ],
   "source": [
    "sns.catplot(x='Duration',y='Calories',kind=\"box\",data=data)"
   ]
  },
  {
   "cell_type": "markdown",
   "id": "1f067561",
   "metadata": {},
   "source": [
    "## Normality testing"
   ]
  },
  {
   "cell_type": "code",
   "execution_count": 65,
   "id": "572d7907",
   "metadata": {},
   "outputs": [
    {
     "data": {
      "text/plain": [
       "<Axes: xlabel='Calories', ylabel='Density'>"
      ]
     },
     "execution_count": 65,
     "metadata": {},
     "output_type": "execute_result"
    },
    {
     "data": {
      "image/png": "[encoded data removed]",
      "text/plain": [
       "<Figure size 640x480 with 1 Axes>"
      ]
     },
     "metadata": {},
     "output_type": "display_data"
    }
   ],
   "source": [
    "sns.kdeplot(data['Calories'])"
   ]
  },
  {
   "cell_type": "code",
   "execution_count": 66,
   "id": "4aa498a9",
   "metadata": {},
   "outputs": [
    {
     "data": {
      "text/plain": [
       "<Axes: xlabel='Height', ylabel='Density'>"
      ]
     },
     "execution_count": 66,
     "metadata": {},
     "output_type": "execute_result"
    },
    {
     "data": {
      "image/png": "[encoded data removed]",
      "text/plain": [
       "<Figure size 640x480 with 1 Axes>"
      ]
     },
     "metadata": {},
     "output_type": "display_data"
    }
   ],
   "source": [
    "sns.kdeplot(data['Height'])\n",
    "     "
   ]
  },
  {
   "cell_type": "code",
   "execution_count": 67,
   "id": "ef6bf652",
   "metadata": {},
   "outputs": [
    {
     "data": {
      "text/plain": [
       "<Axes: xlabel='Maxpulse', ylabel='Density'>"
      ]
     },
     "execution_count": 67,
     "metadata": {},
     "output_type": "execute_result"
    },
    {
     "data": {
      "image/png": "[encoded data removed]",
      "text/plain": [
       "<Figure size 640x480 with 1 Axes>"
      ]
     },
     "metadata": {},
     "output_type": "display_data"
    }
   ],
   "source": [
    "sns.kdeplot(data['Maxpulse'])"
   ]
  },
  {
   "cell_type": "code",
   "execution_count": 68,
   "id": "2192f50b",
   "metadata": {},
   "outputs": [
    {
     "data": {
      "text/plain": [
       "<Axes: xlabel='Pulse', ylabel='Density'>"
      ]
     },
     "execution_count": 68,
     "metadata": {},
     "output_type": "execute_result"
    },
    {
     "data": {
      "image/png": "[encoded data removed]",
      "text/plain": [
       "<Figure size 640x480 with 1 Axes>"
      ]
     },
     "metadata": {},
     "output_type": "display_data"
    }
   ],
   "source": [
    "sns.kdeplot(data['Pulse'])"
   ]
  },
  {
   "cell_type": "code",
   "execution_count": 69,
   "id": "a05f0acf",
   "metadata": {},
   "outputs": [
    {
     "data": {
      "text/plain": [
       "<Axes: xlabel='Weight', ylabel='Density'>"
      ]
     },
     "execution_count": 69,
     "metadata": {},
     "output_type": "execute_result"
    },
    {
     "data": {
      "image/png": "[encoded data removed]",
      "text/plain": [
       "<Figure size 640x480 with 1 Axes>"
      ]
     },
     "metadata": {},
     "output_type": "display_data"
    }
   ],
   "source": [
    "sns.kdeplot(data['Weight'])"
   ]
  },
  {
   "cell_type": "code",
   "execution_count": 70,
   "id": "16dc59ad",
   "metadata": {},
   "outputs": [],
   "source": [
    "from scipy.stats import shapiro\n",
    "     "
   ]
  },
  {
   "cell_type": "code",
   "execution_count": 71,
   "id": "db28e8ee",
   "metadata": {},
   "outputs": [
    {
     "data": {
      "text/plain": [
       "ShapiroResult(statistic=nan, pvalue=1.0)"
      ]
     },
     "execution_count": 71,
     "metadata": {},
     "output_type": "execute_result"
    }
   ],
   "source": [
    "shapiro(data['Calories'])\n"
   ]
  },
  {
   "cell_type": "code",
   "execution_count": 72,
   "id": "8c2ea9cf",
   "metadata": {},
   "outputs": [
    {
     "data": {
      "text/plain": [
       "ShapiroResult(statistic=nan, pvalue=1.0)"
      ]
     },
     "execution_count": 72,
     "metadata": {},
     "output_type": "execute_result"
    }
   ],
   "source": [
    "shapiro(data['Height'])"
   ]
  },
  {
   "cell_type": "code",
   "execution_count": 73,
   "id": "21be60a7",
   "metadata": {},
   "outputs": [
    {
     "data": {
      "text/plain": [
       "ShapiroResult(statistic=0.8833223581314087, pvalue=0.04372917488217354)"
      ]
     },
     "execution_count": 73,
     "metadata": {},
     "output_type": "execute_result"
    }
   ],
   "source": [
    "shapiro(data['Maxpulse'])"
   ]
  },
  {
   "cell_type": "code",
   "execution_count": 74,
   "id": "0cf62361",
   "metadata": {},
   "outputs": [
    {
     "data": {
      "text/plain": [
       "ShapiroResult(statistic=0.7790699601173401, pvalue=0.0014553068904206157)"
      ]
     },
     "execution_count": 74,
     "metadata": {},
     "output_type": "execute_result"
    }
   ],
   "source": [
    "shapiro(data['Pulse'])"
   ]
  },
  {
   "cell_type": "code",
   "execution_count": 75,
   "id": "bce92924",
   "metadata": {},
   "outputs": [
    {
     "data": {
      "text/plain": [
       "ShapiroResult(statistic=0.7790699601173401, pvalue=0.0014553068904206157)"
      ]
     },
     "execution_count": 75,
     "metadata": {},
     "output_type": "execute_result"
    }
   ],
   "source": [
    "shapiro(data['Pulse'])"
   ]
  }
 ],
 "metadata": {
  "kernelspec": {
   "display_name": "Python 3 (ipykernel)",
   "language": "python",
   "name": "python3"
  },
  "language_info": {
   "codemirror_mode": {
    "name": "ipython",
    "version": 3
   },
   "file_extension": ".py",
   "mimetype": "text/x-python",
   "name": "python",
   "nbconvert_exporter": "python",
   "pygments_lexer": "ipython3",
   "version": "3.10.9"
  }
 },
 "nbformat": 4,
 "nbformat_minor": 5
}
