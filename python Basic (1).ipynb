{
 "cells": [
  {
   "cell_type": "markdown",
   "id": "9d96cc74",
   "metadata": {},
   "source": [
    "# Python Basic"
   ]
  },
  {
   "cell_type": "markdown",
   "id": "84a15242",
   "metadata": {},
   "source": [
    "# Python Keywords"
   ]
  },
  {
   "cell_type": "code",
   "execution_count": 10,
   "id": "12b99111",
   "metadata": {},
   "outputs": [
    {
     "data": {
      "text/plain": [
       "['False',\n",
       " 'None',\n",
       " 'True',\n",
       " 'and',\n",
       " 'as',\n",
       " 'assert',\n",
       " 'async',\n",
       " 'await',\n",
       " 'break',\n",
       " 'class',\n",
       " 'continue',\n",
       " 'def',\n",
       " 'del',\n",
       " 'elif',\n",
       " 'else',\n",
       " 'except',\n",
       " 'finally',\n",
       " 'for',\n",
       " 'from',\n",
       " 'global',\n",
       " 'if',\n",
       " 'import',\n",
       " 'in',\n",
       " 'is',\n",
       " 'lambda',\n",
       " 'nonlocal',\n",
       " 'not',\n",
       " 'or',\n",
       " 'pass',\n",
       " 'raise',\n",
       " 'return',\n",
       " 'try',\n",
       " 'while',\n",
       " 'with',\n",
       " 'yield']"
      ]
     },
     "execution_count": 10,
     "metadata": {},
     "output_type": "execute_result"
    }
   ],
   "source": [
    "#this will get you the list of all keywords in python.\n",
    "import keyword\n",
    "keyword.kwlist"
   ]
  },
  {
   "cell_type": "code",
   "execution_count": 11,
   "id": "6b1997db",
   "metadata": {},
   "outputs": [
    {
     "data": {
      "text/plain": [
       "True"
      ]
     },
     "execution_count": 11,
     "metadata": {},
     "output_type": "execute_result"
    }
   ],
   "source": [
    "#this will return,ture,if the mentioned name is a keyword.\n",
    "keyword.iskeyword('try')"
   ]
  },
  {
   "cell_type": "code",
   "execution_count": 12,
   "id": "c1f0a07c",
   "metadata": {},
   "outputs": [
    {
     "data": {
      "text/plain": [
       "False"
      ]
     },
     "execution_count": 12,
     "metadata": {},
     "output_type": "execute_result"
    }
   ],
   "source": [
    "keyword.iskeyword('100p')"
   ]
  },
  {
   "cell_type": "markdown",
   "id": "de6bcfbf",
   "metadata": {},
   "source": [
    "# Popular Python Libaries"
   ]
  },
  {
   "cell_type": "raw",
   "id": "a55f9208",
   "metadata": {},
   "source": [
    "numpy:for high level mathematical fuction\n",
    "Pandas:used for Data Analysis & Manipulation\n",
    "Matplotlip:Plotting in python"
   ]
  },
  {
   "cell_type": "markdown",
   "id": "5dd77958",
   "metadata": {},
   "source": [
    "# python Comments"
   ]
  },
  {
   "cell_type": "code",
   "execution_count": 13,
   "id": "aab10789",
   "metadata": {},
   "outputs": [
    {
     "data": {
      "text/plain": [
       "\"Yes.,I'm fine...\""
      ]
     },
     "execution_count": 13,
     "metadata": {},
     "output_type": "execute_result"
    }
   ],
   "source": [
    "#a single line comment\n",
    "#a multi line comment\n",
    "\"\"\"\"Haii all it's me Christy Johns from Ezymentor\"\"\"\n",
    "#How are you?\n",
    "#\n",
    "\"Yes.,I'm fine...\""
   ]
  }
 ],
 "metadata": {
  "kernelspec": {
   "display_name": "Python 3 (ipykernel)",
   "language": "python",
   "name": "python3"
  },
  "language_info": {
   "codemirror_mode": {
    "name": "ipython",
    "version": 3
   },
   "file_extension": ".py",
   "mimetype": "text/x-python",
   "name": "python",
   "nbconvert_exporter": "python",
   "pygments_lexer": "ipython3",
   "version": "3.10.9"
  }
 },
 "nbformat": 4,
 "nbformat_minor": 5
}
