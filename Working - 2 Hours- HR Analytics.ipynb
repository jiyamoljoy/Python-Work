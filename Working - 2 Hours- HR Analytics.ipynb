{
 "cells": [
  {
   "cell_type": "code",
   "execution_count": 239,
   "id": "2b0c5ffa",
   "metadata": {},
   "outputs": [],
   "source": [
    "\n",
    "import pandas as pd, numpy as np, matplotlib.pyplot as plt, seaborn as sns\n",
    "%matplotlib inline"
   ]
  },
  {
   "cell_type": "code",
   "execution_count": 240,
   "id": "ae206366",
   "metadata": {},
   "outputs": [
    {
     "data": {
      "text/html": [
       "<div>\n",
       "<style scoped>\n",
       "    .dataframe tbody tr th:only-of-type {\n",
       "        vertical-align: middle;\n",
       "    }\n",
       "\n",
       "    .dataframe tbody tr th {\n",
       "        vertical-align: top;\n",
       "    }\n",
       "\n",
       "    .dataframe thead th {\n",
       "        text-align: right;\n",
       "    }\n",
       "</style>\n",
       "<table border=\"1\" class=\"dataframe\">\n",
       "  <thead>\n",
       "    <tr style=\"text-align: right;\">\n",
       "      <th></th>\n",
       "      <th>Date</th>\n",
       "      <th>Time</th>\n",
       "      <th>Jikky</th>\n",
       "      <th>Kayis</th>\n",
       "      <th>Sinny</th>\n",
       "      <th>Criji</th>\n",
       "      <th>Johnan</th>\n",
       "      <th>Mode of class</th>\n",
       "    </tr>\n",
       "  </thead>\n",
       "  <tbody>\n",
       "    <tr>\n",
       "      <th>0</th>\n",
       "      <td>2022-04-11</td>\n",
       "      <td>9:30 am- 10:30 am</td>\n",
       "      <td>1.0</td>\n",
       "      <td>1.0</td>\n",
       "      <td>NaN</td>\n",
       "      <td>NaN</td>\n",
       "      <td>NaN</td>\n",
       "      <td>Online</td>\n",
       "    </tr>\n",
       "    <tr>\n",
       "      <th>1</th>\n",
       "      <td>2022-04-11</td>\n",
       "      <td>10:30 am- 11:30 am</td>\n",
       "      <td>1.0</td>\n",
       "      <td>1.0</td>\n",
       "      <td>NaN</td>\n",
       "      <td>NaN</td>\n",
       "      <td>NaN</td>\n",
       "      <td>Online</td>\n",
       "    </tr>\n",
       "    <tr>\n",
       "      <th>2</th>\n",
       "      <td>2022-04-12</td>\n",
       "      <td>9:30 am- 10:30 am</td>\n",
       "      <td>1.0</td>\n",
       "      <td>1.0</td>\n",
       "      <td>NaN</td>\n",
       "      <td>NaN</td>\n",
       "      <td>NaN</td>\n",
       "      <td>Online</td>\n",
       "    </tr>\n",
       "    <tr>\n",
       "      <th>3</th>\n",
       "      <td>2022-04-12</td>\n",
       "      <td>11:30 am - 12:30 pm</td>\n",
       "      <td>1.0</td>\n",
       "      <td>1.0</td>\n",
       "      <td>NaN</td>\n",
       "      <td>NaN</td>\n",
       "      <td>NaN</td>\n",
       "      <td>Online</td>\n",
       "    </tr>\n",
       "    <tr>\n",
       "      <th>4</th>\n",
       "      <td>2022-04-13</td>\n",
       "      <td>9:30 am- 10:30 am</td>\n",
       "      <td>NaN</td>\n",
       "      <td>1.0</td>\n",
       "      <td>NaN</td>\n",
       "      <td>NaN</td>\n",
       "      <td>NaN</td>\n",
       "      <td>Online</td>\n",
       "    </tr>\n",
       "  </tbody>\n",
       "</table>\n",
       "</div>"
      ],
      "text/plain": [
       "        Date                 Time  Jikky  Kayis  Sinny  Criji  Johnan  \\\n",
       "0 2022-04-11    9:30 am- 10:30 am    1.0    1.0    NaN    NaN     NaN   \n",
       "1 2022-04-11   10:30 am- 11:30 am    1.0    1.0    NaN    NaN     NaN   \n",
       "2 2022-04-12    9:30 am- 10:30 am    1.0    1.0    NaN    NaN     NaN   \n",
       "3 2022-04-12  11:30 am - 12:30 pm    1.0    1.0    NaN    NaN     NaN   \n",
       "4 2022-04-13    9:30 am- 10:30 am    NaN    1.0    NaN    NaN     NaN   \n",
       "\n",
       "  Mode of class  \n",
       "0        Online  \n",
       "1        Online  \n",
       "2        Online  \n",
       "3        Online  \n",
       "4        Online  "
      ]
     },
     "execution_count": 240,
     "metadata": {},
     "output_type": "execute_result"
    }
   ],
   "source": [
    "PS=pd.read_excel('Working Hours.xlsx')\n",
    "PS.head(5)"
   ]
  },
  {
   "cell_type": "code",
   "execution_count": 241,
   "id": "dcdff103",
   "metadata": {},
   "outputs": [
    {
     "data": {
      "text/plain": [
       "Date              0\n",
       "Time              0\n",
       "Jikky            51\n",
       "Kayis            72\n",
       "Sinny            68\n",
       "Criji            74\n",
       "Johnan           82\n",
       "Mode of class     0\n",
       "dtype: int64"
      ]
     },
     "execution_count": 241,
     "metadata": {},
     "output_type": "execute_result"
    }
   ],
   "source": [
    "PS.isna().sum()"
   ]
  },
  {
   "cell_type": "markdown",
   "id": "ed9cd449",
   "metadata": {},
   "source": [
    "# Data Cleaning"
   ]
  },
  {
   "cell_type": "code",
   "execution_count": 242,
   "id": "da07dd41",
   "metadata": {},
   "outputs": [
    {
     "data": {
      "text/html": [
       "<div>\n",
       "<style scoped>\n",
       "    .dataframe tbody tr th:only-of-type {\n",
       "        vertical-align: middle;\n",
       "    }\n",
       "\n",
       "    .dataframe tbody tr th {\n",
       "        vertical-align: top;\n",
       "    }\n",
       "\n",
       "    .dataframe thead th {\n",
       "        text-align: right;\n",
       "    }\n",
       "</style>\n",
       "<table border=\"1\" class=\"dataframe\">\n",
       "  <thead>\n",
       "    <tr style=\"text-align: right;\">\n",
       "      <th></th>\n",
       "      <th>Date</th>\n",
       "      <th>Time</th>\n",
       "      <th>Jikky</th>\n",
       "      <th>Kayis</th>\n",
       "      <th>Sinny</th>\n",
       "      <th>Criji</th>\n",
       "      <th>Johnan</th>\n",
       "      <th>Mode of class</th>\n",
       "    </tr>\n",
       "  </thead>\n",
       "  <tbody>\n",
       "    <tr>\n",
       "      <th>0</th>\n",
       "      <td>2022-04-11</td>\n",
       "      <td>9:30 am- 10:30 am</td>\n",
       "      <td>1.0</td>\n",
       "      <td>1.0</td>\n",
       "      <td>0.0</td>\n",
       "      <td>0.0</td>\n",
       "      <td>0.0</td>\n",
       "      <td>Online</td>\n",
       "    </tr>\n",
       "    <tr>\n",
       "      <th>1</th>\n",
       "      <td>2022-04-11</td>\n",
       "      <td>10:30 am- 11:30 am</td>\n",
       "      <td>1.0</td>\n",
       "      <td>1.0</td>\n",
       "      <td>0.0</td>\n",
       "      <td>0.0</td>\n",
       "      <td>0.0</td>\n",
       "      <td>Online</td>\n",
       "    </tr>\n",
       "  </tbody>\n",
       "</table>\n",
       "</div>"
      ],
      "text/plain": [
       "        Date                Time  Jikky  Kayis  Sinny  Criji  Johnan  \\\n",
       "0 2022-04-11   9:30 am- 10:30 am    1.0    1.0    0.0    0.0     0.0   \n",
       "1 2022-04-11  10:30 am- 11:30 am    1.0    1.0    0.0    0.0     0.0   \n",
       "\n",
       "  Mode of class  \n",
       "0        Online  \n",
       "1        Online  "
      ]
     },
     "execution_count": 242,
     "metadata": {},
     "output_type": "execute_result"
    }
   ],
   "source": [
    "PS = PS.fillna(0)\n",
    "PS. head(2)"
   ]
  },
  {
   "cell_type": "code",
   "execution_count": 243,
   "id": "b6ffed71",
   "metadata": {},
   "outputs": [
    {
     "data": {
      "text/plain": [
       "(91, 8)"
      ]
     },
     "execution_count": 243,
     "metadata": {},
     "output_type": "execute_result"
    }
   ],
   "source": [
    "PS.shape"
   ]
  },
  {
   "cell_type": "code",
   "execution_count": 244,
   "id": "e816a8a2",
   "metadata": {},
   "outputs": [
    {
     "data": {
      "text/plain": [
       "Index(['Date', 'Time', 'Jikky', 'Kayis', 'Sinny', 'Criji', 'Johnan',\n",
       "       'Mode of class'],\n",
       "      dtype='object')"
      ]
     },
     "execution_count": 244,
     "metadata": {},
     "output_type": "execute_result"
    }
   ],
   "source": [
    "PS.columns"
   ]
  },
  {
   "cell_type": "code",
   "execution_count": 245,
   "id": "f7dbd849",
   "metadata": {},
   "outputs": [
    {
     "name": "stdout",
     "output_type": "stream",
     "text": [
      "<class 'pandas.core.frame.DataFrame'>\n",
      "RangeIndex: 91 entries, 0 to 90\n",
      "Data columns (total 8 columns):\n",
      " #   Column         Non-Null Count  Dtype         \n",
      "---  ------         --------------  -----         \n",
      " 0   Date           91 non-null     datetime64[ns]\n",
      " 1   Time           91 non-null     object        \n",
      " 2   Jikky          91 non-null     float64       \n",
      " 3   Kayis          91 non-null     float64       \n",
      " 4   Sinny          91 non-null     float64       \n",
      " 5   Criji          91 non-null     float64       \n",
      " 6   Johnan         91 non-null     float64       \n",
      " 7   Mode of class  91 non-null     object        \n",
      "dtypes: datetime64[ns](1), float64(5), object(2)\n",
      "memory usage: 5.8+ KB\n"
     ]
    }
   ],
   "source": [
    "PS.info()"
   ]
  },
  {
   "cell_type": "markdown",
   "id": "3aa49581",
   "metadata": {},
   "source": [
    "# Splitting date"
   ]
  },
  {
   "cell_type": "markdown",
   "id": "a131458b",
   "metadata": {},
   "source": [
    "date variable is needed to be splitted for further analysis"
   ]
  },
  {
   "cell_type": "markdown",
   "id": "6a5a81de",
   "metadata": {},
   "source": [
    " here date is splitted into, month, year and day"
   ]
  },
  {
   "cell_type": "code",
   "execution_count": 246,
   "id": "aca1ff07",
   "metadata": {},
   "outputs": [
    {
     "data": {
      "text/html": [
       "<div>\n",
       "<style scoped>\n",
       "    .dataframe tbody tr th:only-of-type {\n",
       "        vertical-align: middle;\n",
       "    }\n",
       "\n",
       "    .dataframe tbody tr th {\n",
       "        vertical-align: top;\n",
       "    }\n",
       "\n",
       "    .dataframe thead th {\n",
       "        text-align: right;\n",
       "    }\n",
       "</style>\n",
       "<table border=\"1\" class=\"dataframe\">\n",
       "  <thead>\n",
       "    <tr style=\"text-align: right;\">\n",
       "      <th></th>\n",
       "      <th>Date</th>\n",
       "      <th>Time</th>\n",
       "      <th>Jikky</th>\n",
       "      <th>Kayis</th>\n",
       "      <th>Sinny</th>\n",
       "      <th>Criji</th>\n",
       "      <th>Johnan</th>\n",
       "      <th>Mode of class</th>\n",
       "      <th>Month</th>\n",
       "      <th>year</th>\n",
       "      <th>Day</th>\n",
       "    </tr>\n",
       "  </thead>\n",
       "  <tbody>\n",
       "    <tr>\n",
       "      <th>0</th>\n",
       "      <td>2022-04-11</td>\n",
       "      <td>9:30 am- 10:30 am</td>\n",
       "      <td>1.0</td>\n",
       "      <td>1.0</td>\n",
       "      <td>0.0</td>\n",
       "      <td>0.0</td>\n",
       "      <td>0.0</td>\n",
       "      <td>Online</td>\n",
       "      <td>4</td>\n",
       "      <td>2022</td>\n",
       "      <td>11</td>\n",
       "    </tr>\n",
       "    <tr>\n",
       "      <th>1</th>\n",
       "      <td>2022-04-11</td>\n",
       "      <td>10:30 am- 11:30 am</td>\n",
       "      <td>1.0</td>\n",
       "      <td>1.0</td>\n",
       "      <td>0.0</td>\n",
       "      <td>0.0</td>\n",
       "      <td>0.0</td>\n",
       "      <td>Online</td>\n",
       "      <td>4</td>\n",
       "      <td>2022</td>\n",
       "      <td>11</td>\n",
       "    </tr>\n",
       "  </tbody>\n",
       "</table>\n",
       "</div>"
      ],
      "text/plain": [
       "        Date                Time  Jikky  Kayis  Sinny  Criji  Johnan  \\\n",
       "0 2022-04-11   9:30 am- 10:30 am    1.0    1.0    0.0    0.0     0.0   \n",
       "1 2022-04-11  10:30 am- 11:30 am    1.0    1.0    0.0    0.0     0.0   \n",
       "\n",
       "  Mode of class  Month  year  Day  \n",
       "0        Online      4  2022   11  \n",
       "1        Online      4  2022   11  "
      ]
     },
     "execution_count": 246,
     "metadata": {},
     "output_type": "execute_result"
    }
   ],
   "source": [
    "PS['Month'] = pd.to_datetime(PS['Date']).dt.month\n",
    "PS['year'] = pd.to_datetime(PS['Date']).dt.year\n",
    "PS['Day'] = pd.to_datetime(PS['Date']).dt.day\n",
    "PS.head(2)\n",
    "     "
   ]
  },
  {
   "cell_type": "markdown",
   "id": "6b43332b",
   "metadata": {},
   "source": [
    "# Data Analysis"
   ]
  },
  {
   "cell_type": "markdown",
   "id": "c12af5ea",
   "metadata": {},
   "source": [
    "Data is analysed with these requirements"
   ]
  },
  {
   "cell_type": "markdown",
   "id": "89688061",
   "metadata": {},
   "source": [
    "find who had taken more class.\n",
    "\n",
    "Find by which mode, most of the time class has taken in month June\n",
    "\n",
    "Find the sum of Hours of each mentors\n",
    "\n",
    "find by which time hour most the class has taken\n",
    "\n",
    "find how many physical classes has taken by each mentors through out each month\n",
    "\n",
    "if the the payment is 100 for one hour , then how much salary\n",
    "\n",
    "if the the payment for one hour is 150 means how much salary did they got in each month\n",
    "\n",
    "create a dataframe using the data you got with salary of each month of each mentors\n",
    "\n",
    "who earned more salary if the payment for one hour is 100.\n",
    "\n",
    "who earned more salary if the payment for one hour is 150, in the month of june.\n",
    "\n",
    "who is working more time\n",
    "\n",
    "who had worked more hours in the month of May?\n",
    "\n",
    "In which month more physical classes had taken place?"
   ]
  },
  {
   "cell_type": "markdown",
   "id": "1c05c683",
   "metadata": {},
   "source": [
    "### find who had taken more class"
   ]
  },
  {
   "cell_type": "code",
   "execution_count": 247,
   "id": "ac7885cb",
   "metadata": {},
   "outputs": [
    {
     "data": {
      "text/plain": [
       "Jikky     71.2\n",
       "Kayis     29.6\n",
       "Sinny     54.5\n",
       "Criji     43.0\n",
       "Johnan    23.0\n",
       "dtype: float64"
      ]
     },
     "execution_count": 247,
     "metadata": {},
     "output_type": "execute_result"
    }
   ],
   "source": [
    "PS[['Jikky', 'Kayis', 'Sinny', 'Criji', 'Johnan']].sum()"
   ]
  },
  {
   "cell_type": "markdown",
   "id": "01e28fdf",
   "metadata": {},
   "source": [
    "Jikky had taken more class"
   ]
  },
  {
   "cell_type": "markdown",
   "id": "9382e084",
   "metadata": {},
   "source": [
    "### Find the sum of Hours of each mentors"
   ]
  },
  {
   "cell_type": "code",
   "execution_count": 248,
   "id": "736b85de",
   "metadata": {},
   "outputs": [
    {
     "name": "stderr",
     "output_type": "stream",
     "text": [
      "C:\\Users\\jiyam\\AppData\\Local\\Temp\\ipykernel_9820\\2391055375.py:1: FutureWarning: The default value of numeric_only in DataFrameGroupBy.sum is deprecated. In a future version, numeric_only will default to False. Either specify numeric_only or select only columns which should be valid for the function.\n",
      "  PS.groupby('Mode of class').sum()\n"
     ]
    },
    {
     "data": {
      "text/html": [
       "<div>\n",
       "<style scoped>\n",
       "    .dataframe tbody tr th:only-of-type {\n",
       "        vertical-align: middle;\n",
       "    }\n",
       "\n",
       "    .dataframe tbody tr th {\n",
       "        vertical-align: top;\n",
       "    }\n",
       "\n",
       "    .dataframe thead th {\n",
       "        text-align: right;\n",
       "    }\n",
       "</style>\n",
       "<table border=\"1\" class=\"dataframe\">\n",
       "  <thead>\n",
       "    <tr style=\"text-align: right;\">\n",
       "      <th></th>\n",
       "      <th>Jikky</th>\n",
       "      <th>Kayis</th>\n",
       "      <th>Sinny</th>\n",
       "      <th>Criji</th>\n",
       "      <th>Johnan</th>\n",
       "      <th>Month</th>\n",
       "      <th>year</th>\n",
       "      <th>Day</th>\n",
       "    </tr>\n",
       "    <tr>\n",
       "      <th>Mode of class</th>\n",
       "      <th></th>\n",
       "      <th></th>\n",
       "      <th></th>\n",
       "      <th></th>\n",
       "      <th></th>\n",
       "      <th></th>\n",
       "      <th></th>\n",
       "      <th></th>\n",
       "    </tr>\n",
       "  </thead>\n",
       "  <tbody>\n",
       "    <tr>\n",
       "      <th>Online</th>\n",
       "      <td>57.2</td>\n",
       "      <td>22.6</td>\n",
       "      <td>30.5</td>\n",
       "      <td>23.0</td>\n",
       "      <td>13.5</td>\n",
       "      <td>406</td>\n",
       "      <td>161760</td>\n",
       "      <td>1440</td>\n",
       "    </tr>\n",
       "    <tr>\n",
       "      <th>Physical</th>\n",
       "      <td>14.0</td>\n",
       "      <td>7.0</td>\n",
       "      <td>24.0</td>\n",
       "      <td>20.0</td>\n",
       "      <td>9.5</td>\n",
       "      <td>61</td>\n",
       "      <td>22242</td>\n",
       "      <td>195</td>\n",
       "    </tr>\n",
       "  </tbody>\n",
       "</table>\n",
       "</div>"
      ],
      "text/plain": [
       "               Jikky  Kayis  Sinny  Criji  Johnan  Month    year   Day\n",
       "Mode of class                                                         \n",
       "Online          57.2   22.6   30.5   23.0    13.5    406  161760  1440\n",
       "Physical        14.0    7.0   24.0   20.0     9.5     61   22242   195"
      ]
     },
     "execution_count": 248,
     "metadata": {},
     "output_type": "execute_result"
    }
   ],
   "source": [
    "PS.groupby('Mode of class').sum()"
   ]
  },
  {
   "cell_type": "markdown",
   "id": "b170e575",
   "metadata": {},
   "source": [
    "In these past 3 months most of the online classes had taken by Jikky\n",
    "\n",
    "and Sinny mostly took the physical classes"
   ]
  },
  {
   "cell_type": "code",
   "execution_count": 249,
   "id": "0811eefa",
   "metadata": {},
   "outputs": [
    {
     "data": {
      "text/html": [
       "<div>\n",
       "<style scoped>\n",
       "    .dataframe tbody tr th:only-of-type {\n",
       "        vertical-align: middle;\n",
       "    }\n",
       "\n",
       "    .dataframe tbody tr th {\n",
       "        vertical-align: top;\n",
       "    }\n",
       "\n",
       "    .dataframe thead th {\n",
       "        text-align: right;\n",
       "    }\n",
       "</style>\n",
       "<table border=\"1\" class=\"dataframe\">\n",
       "  <thead>\n",
       "    <tr style=\"text-align: right;\">\n",
       "      <th></th>\n",
       "      <th>Jikky</th>\n",
       "      <th>Kayis</th>\n",
       "      <th>Sinny</th>\n",
       "      <th>Criji</th>\n",
       "      <th>Johnan</th>\n",
       "    </tr>\n",
       "    <tr>\n",
       "      <th>Month</th>\n",
       "      <th></th>\n",
       "      <th></th>\n",
       "      <th></th>\n",
       "      <th></th>\n",
       "      <th></th>\n",
       "    </tr>\n",
       "  </thead>\n",
       "  <tbody>\n",
       "    <tr>\n",
       "      <th>4</th>\n",
       "      <td>11.5</td>\n",
       "      <td>14.5</td>\n",
       "      <td>9.5</td>\n",
       "      <td>1.0</td>\n",
       "      <td>0.0</td>\n",
       "    </tr>\n",
       "    <tr>\n",
       "      <th>5</th>\n",
       "      <td>22.7</td>\n",
       "      <td>15.1</td>\n",
       "      <td>22.0</td>\n",
       "      <td>21.0</td>\n",
       "      <td>23.0</td>\n",
       "    </tr>\n",
       "    <tr>\n",
       "      <th>6</th>\n",
       "      <td>37.0</td>\n",
       "      <td>0.0</td>\n",
       "      <td>23.0</td>\n",
       "      <td>21.0</td>\n",
       "      <td>0.0</td>\n",
       "    </tr>\n",
       "  </tbody>\n",
       "</table>\n",
       "</div>"
      ],
      "text/plain": [
       "       Jikky  Kayis  Sinny  Criji  Johnan\n",
       "Month                                    \n",
       "4       11.5   14.5    9.5    1.0     0.0\n",
       "5       22.7   15.1   22.0   21.0    23.0\n",
       "6       37.0    0.0   23.0   21.0     0.0"
      ]
     },
     "execution_count": 249,
     "metadata": {},
     "output_type": "execute_result"
    }
   ],
   "source": [
    "PS.groupby('Month')[['Jikky','Kayis','Sinny','Criji','Johnan']].sum()"
   ]
  },
  {
   "cell_type": "markdown",
   "id": "80987522",
   "metadata": {},
   "source": [
    "Kayis had taken more class hours in April\n",
    "\n",
    "Johnan had taken more class hours in May\n",
    "\n",
    "Jikky had taken more class hours in June"
   ]
  },
  {
   "cell_type": "code",
   "execution_count": 250,
   "id": "5dd6da05",
   "metadata": {},
   "outputs": [
    {
     "data": {
      "text/plain": [
       "Mode of class\n",
       "Online      80\n",
       "Physical    11\n",
       "dtype: int64"
      ]
     },
     "execution_count": 250,
     "metadata": {},
     "output_type": "execute_result"
    }
   ],
   "source": [
    "kh=pd.crosstab(PS['Johnan'],PS['Mode of class']).sum()\n",
    "kh"
   ]
  },
  {
   "cell_type": "code",
   "execution_count": 251,
   "id": "2e3508e3",
   "metadata": {},
   "outputs": [
    {
     "data": {
      "text/plain": [
       "Mode of class\n",
       "Online      80\n",
       "Physical    11\n",
       "dtype: int64"
      ]
     },
     "execution_count": 251,
     "metadata": {},
     "output_type": "execute_result"
    }
   ],
   "source": [
    "kh=pd.crosstab(PS['Kayis'],PS['Mode of class']).sum()\n",
    "kh"
   ]
  },
  {
   "cell_type": "code",
   "execution_count": 252,
   "id": "b1a9a63d",
   "metadata": {},
   "outputs": [
    {
     "data": {
      "text/plain": [
       "Mode of class\n",
       "Online      80\n",
       "Physical    11\n",
       "dtype: int64"
      ]
     },
     "execution_count": 252,
     "metadata": {},
     "output_type": "execute_result"
    }
   ],
   "source": [
    "lh=pd.crosstab(PS['Sinny'],PS['Mode of class']).sum()\n",
    "lh"
   ]
  },
  {
   "cell_type": "code",
   "execution_count": 253,
   "id": "2d42f3e6",
   "metadata": {},
   "outputs": [
    {
     "data": {
      "text/plain": [
       "Month  Mode of class\n",
       "4      Online           25\n",
       "5      Online           24\n",
       "       Physical          5\n",
       "6      Online           31\n",
       "       Physical          6\n",
       "Name: Mode of class, dtype: int64"
      ]
     },
     "execution_count": 253,
     "metadata": {},
     "output_type": "execute_result"
    }
   ],
   "source": [
    "PS.groupby('Month')['Mode of class'].value_counts()"
   ]
  },
  {
   "cell_type": "code",
   "execution_count": 254,
   "id": "74601f43",
   "metadata": {},
   "outputs": [
    {
     "data": {
      "text/html": [
       "<div>\n",
       "<style scoped>\n",
       "    .dataframe tbody tr th:only-of-type {\n",
       "        vertical-align: middle;\n",
       "    }\n",
       "\n",
       "    .dataframe tbody tr th {\n",
       "        vertical-align: top;\n",
       "    }\n",
       "\n",
       "    .dataframe thead th {\n",
       "        text-align: right;\n",
       "    }\n",
       "</style>\n",
       "<table border=\"1\" class=\"dataframe\">\n",
       "  <thead>\n",
       "    <tr style=\"text-align: right;\">\n",
       "      <th></th>\n",
       "      <th>Mode of class</th>\n",
       "    </tr>\n",
       "    <tr>\n",
       "      <th>Month</th>\n",
       "      <th></th>\n",
       "    </tr>\n",
       "  </thead>\n",
       "  <tbody>\n",
       "    <tr>\n",
       "      <th>4</th>\n",
       "      <td>25</td>\n",
       "    </tr>\n",
       "    <tr>\n",
       "      <th>5</th>\n",
       "      <td>29</td>\n",
       "    </tr>\n",
       "    <tr>\n",
       "      <th>6</th>\n",
       "      <td>37</td>\n",
       "    </tr>\n",
       "  </tbody>\n",
       "</table>\n",
       "</div>"
      ],
      "text/plain": [
       "       Mode of class\n",
       "Month               \n",
       "4                 25\n",
       "5                 29\n",
       "6                 37"
      ]
     },
     "execution_count": 254,
     "metadata": {},
     "output_type": "execute_result"
    }
   ],
   "source": [
    "PS.groupby('Month')[['Mode of class']].count()"
   ]
  },
  {
   "cell_type": "markdown",
   "id": "393c7ef4",
   "metadata": {},
   "source": [
    "### Find by which time hour, most of the class had taken in month June"
   ]
  },
  {
   "cell_type": "code",
   "execution_count": 255,
   "id": "391fabdf",
   "metadata": {},
   "outputs": [
    {
     "data": {
      "text/plain": [
       "0    9:30 am - 11:30 am\n",
       "Name: Time, dtype: object"
      ]
     },
     "execution_count": 255,
     "metadata": {},
     "output_type": "execute_result"
    }
   ],
   "source": [
    "PS['Time'].mode()"
   ]
  },
  {
   "cell_type": "markdown",
   "id": "cf2fd4af",
   "metadata": {},
   "source": [
    "most of the classes had taken in these time hour - 9.30am to 11.30am. `"
   ]
  },
  {
   "cell_type": "code",
   "execution_count": 256,
   "id": "bc3783e1",
   "metadata": {},
   "outputs": [
    {
     "data": {
      "text/plain": [
       "Month  Time               \n",
       "4      9:30 am- 10:30 am      12\n",
       "       11:30 am - 12:30 pm     8\n",
       "       9:30 am - 11:30 am      3\n",
       "       10:30 am- 11:30 am      1\n",
       "       11:30 am -  1:00 pm     1\n",
       "5      9:30 am - 11:30 am     17\n",
       "       1:30 pm- 3:30 pm        3\n",
       "       9:30am-12:00am          2\n",
       "       9:30am:4:30pm           2\n",
       "       2: 30PM - 3:50 PM       1\n",
       "       3: 00PM - 3:30 PM       1\n",
       "       9:30 am - 11:40 am      1\n",
       "       9:30am-1 PM             1\n",
       "       9:30am-3:30pm           1\n",
       "6      2:30 Pm-4:30pm         14\n",
       "       11:30 am- 1:30 Pm       9\n",
       "       9:30 am - 11:30 am      9\n",
       "       10:00 Am-3:30 Pm        1\n",
       "       10:00 am - 11:30 am     1\n",
       "       12:15 pm -12:45 pm      1\n",
       "       2:30 pm -4:00 pm        1\n",
       "       9:30am-3:30pm           1\n",
       "Name: Time, dtype: int64"
      ]
     },
     "execution_count": 256,
     "metadata": {},
     "output_type": "execute_result"
    }
   ],
   "source": [
    "PS.groupby('Month')['Time'].value_counts()"
   ]
  },
  {
   "cell_type": "markdown",
   "id": "b9ee548e",
   "metadata": {},
   "source": [
    "The mentors mostly took the class from 9.30am to 10.30am in April\n",
    "\n",
    "The mentors mostly took the class from 9.30am to 11.30am in May.\n",
    "\n",
    "The mentors mostly took the class from 2.30pm to 4.30pm in June"
   ]
  },
  {
   "cell_type": "code",
   "execution_count": 257,
   "id": "a6607dc5",
   "metadata": {},
   "outputs": [
    {
     "data": {
      "text/html": [
       "<div>\n",
       "<style scoped>\n",
       "    .dataframe tbody tr th:only-of-type {\n",
       "        vertical-align: middle;\n",
       "    }\n",
       "\n",
       "    .dataframe tbody tr th {\n",
       "        vertical-align: top;\n",
       "    }\n",
       "\n",
       "    .dataframe thead th {\n",
       "        text-align: right;\n",
       "    }\n",
       "</style>\n",
       "<table border=\"1\" class=\"dataframe\">\n",
       "  <thead>\n",
       "    <tr style=\"text-align: right;\">\n",
       "      <th></th>\n",
       "      <th>Time</th>\n",
       "    </tr>\n",
       "    <tr>\n",
       "      <th>Month</th>\n",
       "      <th></th>\n",
       "    </tr>\n",
       "  </thead>\n",
       "  <tbody>\n",
       "    <tr>\n",
       "      <th>4</th>\n",
       "      <td>25</td>\n",
       "    </tr>\n",
       "    <tr>\n",
       "      <th>5</th>\n",
       "      <td>29</td>\n",
       "    </tr>\n",
       "    <tr>\n",
       "      <th>6</th>\n",
       "      <td>37</td>\n",
       "    </tr>\n",
       "  </tbody>\n",
       "</table>\n",
       "</div>"
      ],
      "text/plain": [
       "       Time\n",
       "Month      \n",
       "4        25\n",
       "5        29\n",
       "6        37"
      ]
     },
     "execution_count": 257,
     "metadata": {},
     "output_type": "execute_result"
    }
   ],
   "source": [
    "PS.groupby('Month')[['Time']].count()"
   ]
  },
  {
   "cell_type": "code",
   "execution_count": 258,
   "id": "b4490e7d",
   "metadata": {},
   "outputs": [
    {
     "data": {
      "text/html": [
       "<div>\n",
       "<style scoped>\n",
       "    .dataframe tbody tr th:only-of-type {\n",
       "        vertical-align: middle;\n",
       "    }\n",
       "\n",
       "    .dataframe tbody tr th {\n",
       "        vertical-align: top;\n",
       "    }\n",
       "\n",
       "    .dataframe thead th {\n",
       "        text-align: right;\n",
       "    }\n",
       "</style>\n",
       "<table border=\"1\" class=\"dataframe\">\n",
       "  <thead>\n",
       "    <tr style=\"text-align: right;\">\n",
       "      <th></th>\n",
       "      <th>Jikky</th>\n",
       "      <th>Kayis</th>\n",
       "      <th>Sinny</th>\n",
       "      <th>Criji</th>\n",
       "      <th>Johnan</th>\n",
       "      <th>Month</th>\n",
       "      <th>year</th>\n",
       "      <th>Day</th>\n",
       "    </tr>\n",
       "  </thead>\n",
       "  <tbody>\n",
       "    <tr>\n",
       "      <th>count</th>\n",
       "      <td>91.000000</td>\n",
       "      <td>91.000000</td>\n",
       "      <td>91.000000</td>\n",
       "      <td>91.000000</td>\n",
       "      <td>91.000000</td>\n",
       "      <td>91.000000</td>\n",
       "      <td>91.0</td>\n",
       "      <td>91.000000</td>\n",
       "    </tr>\n",
       "    <tr>\n",
       "      <th>mean</th>\n",
       "      <td>0.782418</td>\n",
       "      <td>0.325275</td>\n",
       "      <td>0.598901</td>\n",
       "      <td>0.472527</td>\n",
       "      <td>0.252747</td>\n",
       "      <td>5.131868</td>\n",
       "      <td>2022.0</td>\n",
       "      <td>17.967033</td>\n",
       "    </tr>\n",
       "    <tr>\n",
       "      <th>std</th>\n",
       "      <td>1.116701</td>\n",
       "      <td>0.888393</td>\n",
       "      <td>1.236527</td>\n",
       "      <td>1.184067</td>\n",
       "      <td>0.940962</td>\n",
       "      <td>0.819333</td>\n",
       "      <td>0.0</td>\n",
       "      <td>8.430699</td>\n",
       "    </tr>\n",
       "    <tr>\n",
       "      <th>min</th>\n",
       "      <td>0.000000</td>\n",
       "      <td>0.000000</td>\n",
       "      <td>0.000000</td>\n",
       "      <td>0.000000</td>\n",
       "      <td>0.000000</td>\n",
       "      <td>4.000000</td>\n",
       "      <td>2022.0</td>\n",
       "      <td>1.000000</td>\n",
       "    </tr>\n",
       "    <tr>\n",
       "      <th>25%</th>\n",
       "      <td>0.000000</td>\n",
       "      <td>0.000000</td>\n",
       "      <td>0.000000</td>\n",
       "      <td>0.000000</td>\n",
       "      <td>0.000000</td>\n",
       "      <td>4.000000</td>\n",
       "      <td>2022.0</td>\n",
       "      <td>11.500000</td>\n",
       "    </tr>\n",
       "    <tr>\n",
       "      <th>50%</th>\n",
       "      <td>0.000000</td>\n",
       "      <td>0.000000</td>\n",
       "      <td>0.000000</td>\n",
       "      <td>0.000000</td>\n",
       "      <td>0.000000</td>\n",
       "      <td>5.000000</td>\n",
       "      <td>2022.0</td>\n",
       "      <td>20.000000</td>\n",
       "    </tr>\n",
       "    <tr>\n",
       "      <th>75%</th>\n",
       "      <td>2.000000</td>\n",
       "      <td>0.000000</td>\n",
       "      <td>0.500000</td>\n",
       "      <td>0.000000</td>\n",
       "      <td>0.000000</td>\n",
       "      <td>6.000000</td>\n",
       "      <td>2022.0</td>\n",
       "      <td>24.500000</td>\n",
       "    </tr>\n",
       "    <tr>\n",
       "      <th>max</th>\n",
       "      <td>7.000000</td>\n",
       "      <td>7.000000</td>\n",
       "      <td>7.000000</td>\n",
       "      <td>7.000000</td>\n",
       "      <td>7.000000</td>\n",
       "      <td>6.000000</td>\n",
       "      <td>2022.0</td>\n",
       "      <td>31.000000</td>\n",
       "    </tr>\n",
       "  </tbody>\n",
       "</table>\n",
       "</div>"
      ],
      "text/plain": [
       "           Jikky      Kayis      Sinny      Criji     Johnan      Month  \\\n",
       "count  91.000000  91.000000  91.000000  91.000000  91.000000  91.000000   \n",
       "mean    0.782418   0.325275   0.598901   0.472527   0.252747   5.131868   \n",
       "std     1.116701   0.888393   1.236527   1.184067   0.940962   0.819333   \n",
       "min     0.000000   0.000000   0.000000   0.000000   0.000000   4.000000   \n",
       "25%     0.000000   0.000000   0.000000   0.000000   0.000000   4.000000   \n",
       "50%     0.000000   0.000000   0.000000   0.000000   0.000000   5.000000   \n",
       "75%     2.000000   0.000000   0.500000   0.000000   0.000000   6.000000   \n",
       "max     7.000000   7.000000   7.000000   7.000000   7.000000   6.000000   \n",
       "\n",
       "         year        Day  \n",
       "count    91.0  91.000000  \n",
       "mean   2022.0  17.967033  \n",
       "std       0.0   8.430699  \n",
       "min    2022.0   1.000000  \n",
       "25%    2022.0  11.500000  \n",
       "50%    2022.0  20.000000  \n",
       "75%    2022.0  24.500000  \n",
       "max    2022.0  31.000000  "
      ]
     },
     "execution_count": 258,
     "metadata": {},
     "output_type": "execute_result"
    }
   ],
   "source": [
    "PS.describe()"
   ]
  },
  {
   "cell_type": "markdown",
   "id": "febc8aba",
   "metadata": {},
   "source": [
    "### If the the payment is 100 for one hour , then how much salary"
   ]
  },
  {
   "cell_type": "code",
   "execution_count": 259,
   "id": "2664722b",
   "metadata": {},
   "outputs": [
    {
     "data": {
      "text/html": [
       "<div>\n",
       "<style scoped>\n",
       "    .dataframe tbody tr th:only-of-type {\n",
       "        vertical-align: middle;\n",
       "    }\n",
       "\n",
       "    .dataframe tbody tr th {\n",
       "        vertical-align: top;\n",
       "    }\n",
       "\n",
       "    .dataframe thead th {\n",
       "        text-align: right;\n",
       "    }\n",
       "</style>\n",
       "<table border=\"1\" class=\"dataframe\">\n",
       "  <thead>\n",
       "    <tr style=\"text-align: right;\">\n",
       "      <th></th>\n",
       "      <th>Date</th>\n",
       "      <th>Time</th>\n",
       "      <th>Jikky</th>\n",
       "      <th>Kayis</th>\n",
       "      <th>Sinny</th>\n",
       "      <th>Criji</th>\n",
       "      <th>Johnan</th>\n",
       "      <th>Mode of class</th>\n",
       "      <th>Month</th>\n",
       "      <th>year</th>\n",
       "      <th>Day</th>\n",
       "      <th>Salary_1_jikky</th>\n",
       "    </tr>\n",
       "  </thead>\n",
       "  <tbody>\n",
       "    <tr>\n",
       "      <th>0</th>\n",
       "      <td>2022-04-11</td>\n",
       "      <td>9:30 am- 10:30 am</td>\n",
       "      <td>1.0</td>\n",
       "      <td>1.0</td>\n",
       "      <td>0.0</td>\n",
       "      <td>0.0</td>\n",
       "      <td>0.0</td>\n",
       "      <td>Online</td>\n",
       "      <td>4</td>\n",
       "      <td>2022</td>\n",
       "      <td>11</td>\n",
       "      <td>100.0</td>\n",
       "    </tr>\n",
       "    <tr>\n",
       "      <th>1</th>\n",
       "      <td>2022-04-11</td>\n",
       "      <td>10:30 am- 11:30 am</td>\n",
       "      <td>1.0</td>\n",
       "      <td>1.0</td>\n",
       "      <td>0.0</td>\n",
       "      <td>0.0</td>\n",
       "      <td>0.0</td>\n",
       "      <td>Online</td>\n",
       "      <td>4</td>\n",
       "      <td>2022</td>\n",
       "      <td>11</td>\n",
       "      <td>100.0</td>\n",
       "    </tr>\n",
       "  </tbody>\n",
       "</table>\n",
       "</div>"
      ],
      "text/plain": [
       "        Date                Time  Jikky  Kayis  Sinny  Criji  Johnan  \\\n",
       "0 2022-04-11   9:30 am- 10:30 am    1.0    1.0    0.0    0.0     0.0   \n",
       "1 2022-04-11  10:30 am- 11:30 am    1.0    1.0    0.0    0.0     0.0   \n",
       "\n",
       "  Mode of class  Month  year  Day  Salary_1_jikky  \n",
       "0        Online      4  2022   11           100.0  \n",
       "1        Online      4  2022   11           100.0  "
      ]
     },
     "execution_count": 259,
     "metadata": {},
     "output_type": "execute_result"
    }
   ],
   "source": [
    "PS['Salary_1_jikky']=(PS['Jikky']*100)\n",
    "PS.head(2)\n",
    "     "
   ]
  },
  {
   "cell_type": "code",
   "execution_count": 260,
   "id": "ab157212",
   "metadata": {},
   "outputs": [
    {
     "data": {
      "text/html": [
       "<div>\n",
       "<style scoped>\n",
       "    .dataframe tbody tr th:only-of-type {\n",
       "        vertical-align: middle;\n",
       "    }\n",
       "\n",
       "    .dataframe tbody tr th {\n",
       "        vertical-align: top;\n",
       "    }\n",
       "\n",
       "    .dataframe thead th {\n",
       "        text-align: right;\n",
       "    }\n",
       "</style>\n",
       "<table border=\"1\" class=\"dataframe\">\n",
       "  <thead>\n",
       "    <tr style=\"text-align: right;\">\n",
       "      <th></th>\n",
       "      <th>Date</th>\n",
       "      <th>Time</th>\n",
       "      <th>Jikky</th>\n",
       "      <th>Kayis</th>\n",
       "      <th>Sinny</th>\n",
       "      <th>Criji</th>\n",
       "      <th>Johnan</th>\n",
       "      <th>Mode of class</th>\n",
       "      <th>Month</th>\n",
       "      <th>year</th>\n",
       "      <th>Day</th>\n",
       "      <th>Salary_1_jikky</th>\n",
       "      <th>Salary_1_Kayis</th>\n",
       "    </tr>\n",
       "  </thead>\n",
       "  <tbody>\n",
       "    <tr>\n",
       "      <th>0</th>\n",
       "      <td>2022-04-11</td>\n",
       "      <td>9:30 am- 10:30 am</td>\n",
       "      <td>1.0</td>\n",
       "      <td>1.0</td>\n",
       "      <td>0.0</td>\n",
       "      <td>0.0</td>\n",
       "      <td>0.0</td>\n",
       "      <td>Online</td>\n",
       "      <td>4</td>\n",
       "      <td>2022</td>\n",
       "      <td>11</td>\n",
       "      <td>100.0</td>\n",
       "      <td>100.0</td>\n",
       "    </tr>\n",
       "    <tr>\n",
       "      <th>1</th>\n",
       "      <td>2022-04-11</td>\n",
       "      <td>10:30 am- 11:30 am</td>\n",
       "      <td>1.0</td>\n",
       "      <td>1.0</td>\n",
       "      <td>0.0</td>\n",
       "      <td>0.0</td>\n",
       "      <td>0.0</td>\n",
       "      <td>Online</td>\n",
       "      <td>4</td>\n",
       "      <td>2022</td>\n",
       "      <td>11</td>\n",
       "      <td>100.0</td>\n",
       "      <td>100.0</td>\n",
       "    </tr>\n",
       "  </tbody>\n",
       "</table>\n",
       "</div>"
      ],
      "text/plain": [
       "        Date                Time  Jikky  Kayis  Sinny  Criji  Johnan  \\\n",
       "0 2022-04-11   9:30 am- 10:30 am    1.0    1.0    0.0    0.0     0.0   \n",
       "1 2022-04-11  10:30 am- 11:30 am    1.0    1.0    0.0    0.0     0.0   \n",
       "\n",
       "  Mode of class  Month  year  Day  Salary_1_jikky  Salary_1_Kayis  \n",
       "0        Online      4  2022   11           100.0           100.0  \n",
       "1        Online      4  2022   11           100.0           100.0  "
      ]
     },
     "execution_count": 260,
     "metadata": {},
     "output_type": "execute_result"
    }
   ],
   "source": [
    "PS['Salary_1_Kayis']=(PS['Kayis']*100)\n",
    "PS.head(2)\n",
    "     "
   ]
  },
  {
   "cell_type": "code",
   "execution_count": 261,
   "id": "7d25c99e",
   "metadata": {},
   "outputs": [
    {
     "data": {
      "text/html": [
       "<div>\n",
       "<style scoped>\n",
       "    .dataframe tbody tr th:only-of-type {\n",
       "        vertical-align: middle;\n",
       "    }\n",
       "\n",
       "    .dataframe tbody tr th {\n",
       "        vertical-align: top;\n",
       "    }\n",
       "\n",
       "    .dataframe thead th {\n",
       "        text-align: right;\n",
       "    }\n",
       "</style>\n",
       "<table border=\"1\" class=\"dataframe\">\n",
       "  <thead>\n",
       "    <tr style=\"text-align: right;\">\n",
       "      <th></th>\n",
       "      <th>Date</th>\n",
       "      <th>Time</th>\n",
       "      <th>Jikky</th>\n",
       "      <th>Kayis</th>\n",
       "      <th>Sinny</th>\n",
       "      <th>Criji</th>\n",
       "      <th>Johnan</th>\n",
       "      <th>Mode of class</th>\n",
       "      <th>Month</th>\n",
       "      <th>year</th>\n",
       "      <th>Day</th>\n",
       "      <th>Salary_1_jikky</th>\n",
       "      <th>Salary_1_Kayis</th>\n",
       "      <th>Salary_1_Criji</th>\n",
       "    </tr>\n",
       "  </thead>\n",
       "  <tbody>\n",
       "    <tr>\n",
       "      <th>0</th>\n",
       "      <td>2022-04-11</td>\n",
       "      <td>9:30 am- 10:30 am</td>\n",
       "      <td>1.0</td>\n",
       "      <td>1.0</td>\n",
       "      <td>0.0</td>\n",
       "      <td>0.0</td>\n",
       "      <td>0.0</td>\n",
       "      <td>Online</td>\n",
       "      <td>4</td>\n",
       "      <td>2022</td>\n",
       "      <td>11</td>\n",
       "      <td>100.0</td>\n",
       "      <td>100.0</td>\n",
       "      <td>0.0</td>\n",
       "    </tr>\n",
       "    <tr>\n",
       "      <th>1</th>\n",
       "      <td>2022-04-11</td>\n",
       "      <td>10:30 am- 11:30 am</td>\n",
       "      <td>1.0</td>\n",
       "      <td>1.0</td>\n",
       "      <td>0.0</td>\n",
       "      <td>0.0</td>\n",
       "      <td>0.0</td>\n",
       "      <td>Online</td>\n",
       "      <td>4</td>\n",
       "      <td>2022</td>\n",
       "      <td>11</td>\n",
       "      <td>100.0</td>\n",
       "      <td>100.0</td>\n",
       "      <td>0.0</td>\n",
       "    </tr>\n",
       "  </tbody>\n",
       "</table>\n",
       "</div>"
      ],
      "text/plain": [
       "        Date                Time  Jikky  Kayis  Sinny  Criji  Johnan  \\\n",
       "0 2022-04-11   9:30 am- 10:30 am    1.0    1.0    0.0    0.0     0.0   \n",
       "1 2022-04-11  10:30 am- 11:30 am    1.0    1.0    0.0    0.0     0.0   \n",
       "\n",
       "  Mode of class  Month  year  Day  Salary_1_jikky  Salary_1_Kayis  \\\n",
       "0        Online      4  2022   11           100.0           100.0   \n",
       "1        Online      4  2022   11           100.0           100.0   \n",
       "\n",
       "   Salary_1_Criji  \n",
       "0             0.0  \n",
       "1             0.0  "
      ]
     },
     "execution_count": 261,
     "metadata": {},
     "output_type": "execute_result"
    }
   ],
   "source": [
    "PS['Salary_1_Criji']=(PS['Criji']*100)\n",
    "PS.head(2)\n",
    "     "
   ]
  },
  {
   "cell_type": "code",
   "execution_count": 262,
   "id": "019f5b11",
   "metadata": {},
   "outputs": [
    {
     "data": {
      "text/html": [
       "<div>\n",
       "<style scoped>\n",
       "    .dataframe tbody tr th:only-of-type {\n",
       "        vertical-align: middle;\n",
       "    }\n",
       "\n",
       "    .dataframe tbody tr th {\n",
       "        vertical-align: top;\n",
       "    }\n",
       "\n",
       "    .dataframe thead th {\n",
       "        text-align: right;\n",
       "    }\n",
       "</style>\n",
       "<table border=\"1\" class=\"dataframe\">\n",
       "  <thead>\n",
       "    <tr style=\"text-align: right;\">\n",
       "      <th></th>\n",
       "      <th>Date</th>\n",
       "      <th>Time</th>\n",
       "      <th>Jikky</th>\n",
       "      <th>Kayis</th>\n",
       "      <th>Sinny</th>\n",
       "      <th>Criji</th>\n",
       "      <th>Johnan</th>\n",
       "      <th>Mode of class</th>\n",
       "      <th>Month</th>\n",
       "      <th>year</th>\n",
       "      <th>Day</th>\n",
       "      <th>Salary_1_jikky</th>\n",
       "      <th>Salary_1_Kayis</th>\n",
       "      <th>Salary_1_Criji</th>\n",
       "      <th>Salary_1_Johnan</th>\n",
       "    </tr>\n",
       "  </thead>\n",
       "  <tbody>\n",
       "    <tr>\n",
       "      <th>0</th>\n",
       "      <td>2022-04-11</td>\n",
       "      <td>9:30 am- 10:30 am</td>\n",
       "      <td>1.0</td>\n",
       "      <td>1.0</td>\n",
       "      <td>0.0</td>\n",
       "      <td>0.0</td>\n",
       "      <td>0.0</td>\n",
       "      <td>Online</td>\n",
       "      <td>4</td>\n",
       "      <td>2022</td>\n",
       "      <td>11</td>\n",
       "      <td>100.0</td>\n",
       "      <td>100.0</td>\n",
       "      <td>0.0</td>\n",
       "      <td>0.0</td>\n",
       "    </tr>\n",
       "    <tr>\n",
       "      <th>1</th>\n",
       "      <td>2022-04-11</td>\n",
       "      <td>10:30 am- 11:30 am</td>\n",
       "      <td>1.0</td>\n",
       "      <td>1.0</td>\n",
       "      <td>0.0</td>\n",
       "      <td>0.0</td>\n",
       "      <td>0.0</td>\n",
       "      <td>Online</td>\n",
       "      <td>4</td>\n",
       "      <td>2022</td>\n",
       "      <td>11</td>\n",
       "      <td>100.0</td>\n",
       "      <td>100.0</td>\n",
       "      <td>0.0</td>\n",
       "      <td>0.0</td>\n",
       "    </tr>\n",
       "  </tbody>\n",
       "</table>\n",
       "</div>"
      ],
      "text/plain": [
       "        Date                Time  Jikky  Kayis  Sinny  Criji  Johnan  \\\n",
       "0 2022-04-11   9:30 am- 10:30 am    1.0    1.0    0.0    0.0     0.0   \n",
       "1 2022-04-11  10:30 am- 11:30 am    1.0    1.0    0.0    0.0     0.0   \n",
       "\n",
       "  Mode of class  Month  year  Day  Salary_1_jikky  Salary_1_Kayis  \\\n",
       "0        Online      4  2022   11           100.0           100.0   \n",
       "1        Online      4  2022   11           100.0           100.0   \n",
       "\n",
       "   Salary_1_Criji  Salary_1_Johnan  \n",
       "0             0.0              0.0  \n",
       "1             0.0              0.0  "
      ]
     },
     "execution_count": 262,
     "metadata": {},
     "output_type": "execute_result"
    }
   ],
   "source": [
    "PS['Salary_1_Johnan']=(PS['Johnan']*100)\n",
    "PS.head(2)"
   ]
  },
  {
   "cell_type": "markdown",
   "id": "4ca9809f",
   "metadata": {},
   "source": [
    "### If the the payment for one hour is 150 means how much salary did they got in each month"
   ]
  },
  {
   "cell_type": "code",
   "execution_count": 263,
   "id": "739906d7",
   "metadata": {},
   "outputs": [
    {
     "data": {
      "text/html": [
       "<div>\n",
       "<style scoped>\n",
       "    .dataframe tbody tr th:only-of-type {\n",
       "        vertical-align: middle;\n",
       "    }\n",
       "\n",
       "    .dataframe tbody tr th {\n",
       "        vertical-align: top;\n",
       "    }\n",
       "\n",
       "    .dataframe thead th {\n",
       "        text-align: right;\n",
       "    }\n",
       "</style>\n",
       "<table border=\"1\" class=\"dataframe\">\n",
       "  <thead>\n",
       "    <tr style=\"text-align: right;\">\n",
       "      <th></th>\n",
       "      <th>Date</th>\n",
       "      <th>Time</th>\n",
       "      <th>Jikky</th>\n",
       "      <th>Kayis</th>\n",
       "      <th>Sinny</th>\n",
       "      <th>Criji</th>\n",
       "      <th>Johnan</th>\n",
       "      <th>Mode of class</th>\n",
       "      <th>Month</th>\n",
       "      <th>year</th>\n",
       "      <th>Day</th>\n",
       "      <th>Salary_1_jikky</th>\n",
       "      <th>Salary_1_Kayis</th>\n",
       "      <th>Salary_1_Criji</th>\n",
       "      <th>Salary_1_Johnan</th>\n",
       "      <th>Salary_2_jikky</th>\n",
       "    </tr>\n",
       "  </thead>\n",
       "  <tbody>\n",
       "    <tr>\n",
       "      <th>0</th>\n",
       "      <td>2022-04-11</td>\n",
       "      <td>9:30 am- 10:30 am</td>\n",
       "      <td>1.0</td>\n",
       "      <td>1.0</td>\n",
       "      <td>0.0</td>\n",
       "      <td>0.0</td>\n",
       "      <td>0.0</td>\n",
       "      <td>Online</td>\n",
       "      <td>4</td>\n",
       "      <td>2022</td>\n",
       "      <td>11</td>\n",
       "      <td>100.0</td>\n",
       "      <td>100.0</td>\n",
       "      <td>0.0</td>\n",
       "      <td>0.0</td>\n",
       "      <td>150.0</td>\n",
       "    </tr>\n",
       "    <tr>\n",
       "      <th>1</th>\n",
       "      <td>2022-04-11</td>\n",
       "      <td>10:30 am- 11:30 am</td>\n",
       "      <td>1.0</td>\n",
       "      <td>1.0</td>\n",
       "      <td>0.0</td>\n",
       "      <td>0.0</td>\n",
       "      <td>0.0</td>\n",
       "      <td>Online</td>\n",
       "      <td>4</td>\n",
       "      <td>2022</td>\n",
       "      <td>11</td>\n",
       "      <td>100.0</td>\n",
       "      <td>100.0</td>\n",
       "      <td>0.0</td>\n",
       "      <td>0.0</td>\n",
       "      <td>150.0</td>\n",
       "    </tr>\n",
       "  </tbody>\n",
       "</table>\n",
       "</div>"
      ],
      "text/plain": [
       "        Date                Time  Jikky  Kayis  Sinny  Criji  Johnan  \\\n",
       "0 2022-04-11   9:30 am- 10:30 am    1.0    1.0    0.0    0.0     0.0   \n",
       "1 2022-04-11  10:30 am- 11:30 am    1.0    1.0    0.0    0.0     0.0   \n",
       "\n",
       "  Mode of class  Month  year  Day  Salary_1_jikky  Salary_1_Kayis  \\\n",
       "0        Online      4  2022   11           100.0           100.0   \n",
       "1        Online      4  2022   11           100.0           100.0   \n",
       "\n",
       "   Salary_1_Criji  Salary_1_Johnan  Salary_2_jikky  \n",
       "0             0.0              0.0           150.0  \n",
       "1             0.0              0.0           150.0  "
      ]
     },
     "execution_count": 263,
     "metadata": {},
     "output_type": "execute_result"
    }
   ],
   "source": [
    "PS['Salary_2_jikky']=(PS['Jikky']*150)\n",
    "PS.head(2)\n",
    "     "
   ]
  },
  {
   "cell_type": "code",
   "execution_count": 264,
   "id": "78d7db6c",
   "metadata": {},
   "outputs": [
    {
     "data": {
      "text/html": [
       "<div>\n",
       "<style scoped>\n",
       "    .dataframe tbody tr th:only-of-type {\n",
       "        vertical-align: middle;\n",
       "    }\n",
       "\n",
       "    .dataframe tbody tr th {\n",
       "        vertical-align: top;\n",
       "    }\n",
       "\n",
       "    .dataframe thead th {\n",
       "        text-align: right;\n",
       "    }\n",
       "</style>\n",
       "<table border=\"1\" class=\"dataframe\">\n",
       "  <thead>\n",
       "    <tr style=\"text-align: right;\">\n",
       "      <th></th>\n",
       "      <th>Date</th>\n",
       "      <th>Time</th>\n",
       "      <th>Jikky</th>\n",
       "      <th>Kayis</th>\n",
       "      <th>Sinny</th>\n",
       "      <th>Criji</th>\n",
       "      <th>Johnan</th>\n",
       "      <th>Mode of class</th>\n",
       "      <th>Month</th>\n",
       "      <th>year</th>\n",
       "      <th>Day</th>\n",
       "      <th>Salary_1_jikky</th>\n",
       "      <th>Salary_1_Kayis</th>\n",
       "      <th>Salary_1_Criji</th>\n",
       "      <th>Salary_1_Johnan</th>\n",
       "      <th>Salary_2_jikky</th>\n",
       "      <th>Salary_2_Kayis</th>\n",
       "    </tr>\n",
       "  </thead>\n",
       "  <tbody>\n",
       "    <tr>\n",
       "      <th>0</th>\n",
       "      <td>2022-04-11</td>\n",
       "      <td>9:30 am- 10:30 am</td>\n",
       "      <td>1.0</td>\n",
       "      <td>1.0</td>\n",
       "      <td>0.0</td>\n",
       "      <td>0.0</td>\n",
       "      <td>0.0</td>\n",
       "      <td>Online</td>\n",
       "      <td>4</td>\n",
       "      <td>2022</td>\n",
       "      <td>11</td>\n",
       "      <td>100.0</td>\n",
       "      <td>100.0</td>\n",
       "      <td>0.0</td>\n",
       "      <td>0.0</td>\n",
       "      <td>150.0</td>\n",
       "      <td>150.0</td>\n",
       "    </tr>\n",
       "    <tr>\n",
       "      <th>1</th>\n",
       "      <td>2022-04-11</td>\n",
       "      <td>10:30 am- 11:30 am</td>\n",
       "      <td>1.0</td>\n",
       "      <td>1.0</td>\n",
       "      <td>0.0</td>\n",
       "      <td>0.0</td>\n",
       "      <td>0.0</td>\n",
       "      <td>Online</td>\n",
       "      <td>4</td>\n",
       "      <td>2022</td>\n",
       "      <td>11</td>\n",
       "      <td>100.0</td>\n",
       "      <td>100.0</td>\n",
       "      <td>0.0</td>\n",
       "      <td>0.0</td>\n",
       "      <td>150.0</td>\n",
       "      <td>150.0</td>\n",
       "    </tr>\n",
       "  </tbody>\n",
       "</table>\n",
       "</div>"
      ],
      "text/plain": [
       "        Date                Time  Jikky  Kayis  Sinny  Criji  Johnan  \\\n",
       "0 2022-04-11   9:30 am- 10:30 am    1.0    1.0    0.0    0.0     0.0   \n",
       "1 2022-04-11  10:30 am- 11:30 am    1.0    1.0    0.0    0.0     0.0   \n",
       "\n",
       "  Mode of class  Month  year  Day  Salary_1_jikky  Salary_1_Kayis  \\\n",
       "0        Online      4  2022   11           100.0           100.0   \n",
       "1        Online      4  2022   11           100.0           100.0   \n",
       "\n",
       "   Salary_1_Criji  Salary_1_Johnan  Salary_2_jikky  Salary_2_Kayis  \n",
       "0             0.0              0.0           150.0           150.0  \n",
       "1             0.0              0.0           150.0           150.0  "
      ]
     },
     "execution_count": 264,
     "metadata": {},
     "output_type": "execute_result"
    }
   ],
   "source": [
    "PS['Salary_2_Kayis']=(PS['Kayis']*150)\n",
    "PS.head(2)"
   ]
  },
  {
   "cell_type": "code",
   "execution_count": 265,
   "id": "659a4e5f",
   "metadata": {},
   "outputs": [
    {
     "data": {
      "text/html": [
       "<div>\n",
       "<style scoped>\n",
       "    .dataframe tbody tr th:only-of-type {\n",
       "        vertical-align: middle;\n",
       "    }\n",
       "\n",
       "    .dataframe tbody tr th {\n",
       "        vertical-align: top;\n",
       "    }\n",
       "\n",
       "    .dataframe thead th {\n",
       "        text-align: right;\n",
       "    }\n",
       "</style>\n",
       "<table border=\"1\" class=\"dataframe\">\n",
       "  <thead>\n",
       "    <tr style=\"text-align: right;\">\n",
       "      <th></th>\n",
       "      <th>Date</th>\n",
       "      <th>Time</th>\n",
       "      <th>Jikky</th>\n",
       "      <th>Kayis</th>\n",
       "      <th>Sinny</th>\n",
       "      <th>Criji</th>\n",
       "      <th>Johnan</th>\n",
       "      <th>Mode of class</th>\n",
       "      <th>Month</th>\n",
       "      <th>year</th>\n",
       "      <th>Day</th>\n",
       "      <th>Salary_1_jikky</th>\n",
       "      <th>Salary_1_Kayis</th>\n",
       "      <th>Salary_1_Criji</th>\n",
       "      <th>Salary_1_Johnan</th>\n",
       "      <th>Salary_2_jikky</th>\n",
       "      <th>Salary_2_Kayis</th>\n",
       "      <th>Salary_2_Sinny</th>\n",
       "    </tr>\n",
       "  </thead>\n",
       "  <tbody>\n",
       "    <tr>\n",
       "      <th>0</th>\n",
       "      <td>2022-04-11</td>\n",
       "      <td>9:30 am- 10:30 am</td>\n",
       "      <td>1.0</td>\n",
       "      <td>1.0</td>\n",
       "      <td>0.0</td>\n",
       "      <td>0.0</td>\n",
       "      <td>0.0</td>\n",
       "      <td>Online</td>\n",
       "      <td>4</td>\n",
       "      <td>2022</td>\n",
       "      <td>11</td>\n",
       "      <td>100.0</td>\n",
       "      <td>100.0</td>\n",
       "      <td>0.0</td>\n",
       "      <td>0.0</td>\n",
       "      <td>150.0</td>\n",
       "      <td>150.0</td>\n",
       "      <td>0.0</td>\n",
       "    </tr>\n",
       "    <tr>\n",
       "      <th>1</th>\n",
       "      <td>2022-04-11</td>\n",
       "      <td>10:30 am- 11:30 am</td>\n",
       "      <td>1.0</td>\n",
       "      <td>1.0</td>\n",
       "      <td>0.0</td>\n",
       "      <td>0.0</td>\n",
       "      <td>0.0</td>\n",
       "      <td>Online</td>\n",
       "      <td>4</td>\n",
       "      <td>2022</td>\n",
       "      <td>11</td>\n",
       "      <td>100.0</td>\n",
       "      <td>100.0</td>\n",
       "      <td>0.0</td>\n",
       "      <td>0.0</td>\n",
       "      <td>150.0</td>\n",
       "      <td>150.0</td>\n",
       "      <td>0.0</td>\n",
       "    </tr>\n",
       "  </tbody>\n",
       "</table>\n",
       "</div>"
      ],
      "text/plain": [
       "        Date                Time  Jikky  Kayis  Sinny  Criji  Johnan  \\\n",
       "0 2022-04-11   9:30 am- 10:30 am    1.0    1.0    0.0    0.0     0.0   \n",
       "1 2022-04-11  10:30 am- 11:30 am    1.0    1.0    0.0    0.0     0.0   \n",
       "\n",
       "  Mode of class  Month  year  Day  Salary_1_jikky  Salary_1_Kayis  \\\n",
       "0        Online      4  2022   11           100.0           100.0   \n",
       "1        Online      4  2022   11           100.0           100.0   \n",
       "\n",
       "   Salary_1_Criji  Salary_1_Johnan  Salary_2_jikky  Salary_2_Kayis  \\\n",
       "0             0.0              0.0           150.0           150.0   \n",
       "1             0.0              0.0           150.0           150.0   \n",
       "\n",
       "   Salary_2_Sinny  \n",
       "0             0.0  \n",
       "1             0.0  "
      ]
     },
     "execution_count": 265,
     "metadata": {},
     "output_type": "execute_result"
    }
   ],
   "source": [
    "PS['Salary_2_Sinny']=(PS['Sinny']*150)\n",
    "PS.head(2)"
   ]
  },
  {
   "cell_type": "code",
   "execution_count": 266,
   "id": "d31acb57",
   "metadata": {},
   "outputs": [
    {
     "data": {
      "text/html": [
       "<div>\n",
       "<style scoped>\n",
       "    .dataframe tbody tr th:only-of-type {\n",
       "        vertical-align: middle;\n",
       "    }\n",
       "\n",
       "    .dataframe tbody tr th {\n",
       "        vertical-align: top;\n",
       "    }\n",
       "\n",
       "    .dataframe thead th {\n",
       "        text-align: right;\n",
       "    }\n",
       "</style>\n",
       "<table border=\"1\" class=\"dataframe\">\n",
       "  <thead>\n",
       "    <tr style=\"text-align: right;\">\n",
       "      <th></th>\n",
       "      <th>Date</th>\n",
       "      <th>Time</th>\n",
       "      <th>Jikky</th>\n",
       "      <th>Kayis</th>\n",
       "      <th>Sinny</th>\n",
       "      <th>Criji</th>\n",
       "      <th>Johnan</th>\n",
       "      <th>Mode of class</th>\n",
       "      <th>Month</th>\n",
       "      <th>year</th>\n",
       "      <th>Day</th>\n",
       "      <th>Salary_1_jikky</th>\n",
       "      <th>Salary_1_Kayis</th>\n",
       "      <th>Salary_1_Criji</th>\n",
       "      <th>Salary_1_Johnan</th>\n",
       "      <th>Salary_2_jikky</th>\n",
       "      <th>Salary_2_Kayis</th>\n",
       "      <th>Salary_2_Sinny</th>\n",
       "      <th>Salary_2_Criji</th>\n",
       "    </tr>\n",
       "  </thead>\n",
       "  <tbody>\n",
       "    <tr>\n",
       "      <th>0</th>\n",
       "      <td>2022-04-11</td>\n",
       "      <td>9:30 am- 10:30 am</td>\n",
       "      <td>1.0</td>\n",
       "      <td>1.0</td>\n",
       "      <td>0.0</td>\n",
       "      <td>0.0</td>\n",
       "      <td>0.0</td>\n",
       "      <td>Online</td>\n",
       "      <td>4</td>\n",
       "      <td>2022</td>\n",
       "      <td>11</td>\n",
       "      <td>100.0</td>\n",
       "      <td>100.0</td>\n",
       "      <td>0.0</td>\n",
       "      <td>0.0</td>\n",
       "      <td>150.0</td>\n",
       "      <td>150.0</td>\n",
       "      <td>0.0</td>\n",
       "      <td>0.0</td>\n",
       "    </tr>\n",
       "    <tr>\n",
       "      <th>1</th>\n",
       "      <td>2022-04-11</td>\n",
       "      <td>10:30 am- 11:30 am</td>\n",
       "      <td>1.0</td>\n",
       "      <td>1.0</td>\n",
       "      <td>0.0</td>\n",
       "      <td>0.0</td>\n",
       "      <td>0.0</td>\n",
       "      <td>Online</td>\n",
       "      <td>4</td>\n",
       "      <td>2022</td>\n",
       "      <td>11</td>\n",
       "      <td>100.0</td>\n",
       "      <td>100.0</td>\n",
       "      <td>0.0</td>\n",
       "      <td>0.0</td>\n",
       "      <td>150.0</td>\n",
       "      <td>150.0</td>\n",
       "      <td>0.0</td>\n",
       "      <td>0.0</td>\n",
       "    </tr>\n",
       "  </tbody>\n",
       "</table>\n",
       "</div>"
      ],
      "text/plain": [
       "        Date                Time  Jikky  Kayis  Sinny  Criji  Johnan  \\\n",
       "0 2022-04-11   9:30 am- 10:30 am    1.0    1.0    0.0    0.0     0.0   \n",
       "1 2022-04-11  10:30 am- 11:30 am    1.0    1.0    0.0    0.0     0.0   \n",
       "\n",
       "  Mode of class  Month  year  Day  Salary_1_jikky  Salary_1_Kayis  \\\n",
       "0        Online      4  2022   11           100.0           100.0   \n",
       "1        Online      4  2022   11           100.0           100.0   \n",
       "\n",
       "   Salary_1_Criji  Salary_1_Johnan  Salary_2_jikky  Salary_2_Kayis  \\\n",
       "0             0.0              0.0           150.0           150.0   \n",
       "1             0.0              0.0           150.0           150.0   \n",
       "\n",
       "   Salary_2_Sinny  Salary_2_Criji  \n",
       "0             0.0             0.0  \n",
       "1             0.0             0.0  "
      ]
     },
     "execution_count": 266,
     "metadata": {},
     "output_type": "execute_result"
    }
   ],
   "source": [
    "PS['Salary_2_Criji']=(PS['Criji']*150)\n",
    "PS.head(2)"
   ]
  },
  {
   "cell_type": "code",
   "execution_count": 267,
   "id": "1ccba83c",
   "metadata": {},
   "outputs": [
    {
     "data": {
      "text/html": [
       "<div>\n",
       "<style scoped>\n",
       "    .dataframe tbody tr th:only-of-type {\n",
       "        vertical-align: middle;\n",
       "    }\n",
       "\n",
       "    .dataframe tbody tr th {\n",
       "        vertical-align: top;\n",
       "    }\n",
       "\n",
       "    .dataframe thead th {\n",
       "        text-align: right;\n",
       "    }\n",
       "</style>\n",
       "<table border=\"1\" class=\"dataframe\">\n",
       "  <thead>\n",
       "    <tr style=\"text-align: right;\">\n",
       "      <th></th>\n",
       "      <th>Date</th>\n",
       "      <th>Time</th>\n",
       "      <th>Jikky</th>\n",
       "      <th>Kayis</th>\n",
       "      <th>Sinny</th>\n",
       "      <th>Criji</th>\n",
       "      <th>Johnan</th>\n",
       "      <th>Mode of class</th>\n",
       "      <th>Month</th>\n",
       "      <th>year</th>\n",
       "      <th>Day</th>\n",
       "      <th>Salary_1_jikky</th>\n",
       "      <th>Salary_1_Kayis</th>\n",
       "      <th>Salary_1_Criji</th>\n",
       "      <th>Salary_1_Johnan</th>\n",
       "      <th>Salary_2_jikky</th>\n",
       "      <th>Salary_2_Kayis</th>\n",
       "      <th>Salary_2_Sinny</th>\n",
       "      <th>Salary_2_Criji</th>\n",
       "      <th>Salary_2_Johnan</th>\n",
       "    </tr>\n",
       "  </thead>\n",
       "  <tbody>\n",
       "    <tr>\n",
       "      <th>0</th>\n",
       "      <td>2022-04-11</td>\n",
       "      <td>9:30 am- 10:30 am</td>\n",
       "      <td>1.0</td>\n",
       "      <td>1.0</td>\n",
       "      <td>0.0</td>\n",
       "      <td>0.0</td>\n",
       "      <td>0.0</td>\n",
       "      <td>Online</td>\n",
       "      <td>4</td>\n",
       "      <td>2022</td>\n",
       "      <td>11</td>\n",
       "      <td>100.0</td>\n",
       "      <td>100.0</td>\n",
       "      <td>0.0</td>\n",
       "      <td>0.0</td>\n",
       "      <td>150.0</td>\n",
       "      <td>150.0</td>\n",
       "      <td>0.0</td>\n",
       "      <td>0.0</td>\n",
       "      <td>0.0</td>\n",
       "    </tr>\n",
       "    <tr>\n",
       "      <th>1</th>\n",
       "      <td>2022-04-11</td>\n",
       "      <td>10:30 am- 11:30 am</td>\n",
       "      <td>1.0</td>\n",
       "      <td>1.0</td>\n",
       "      <td>0.0</td>\n",
       "      <td>0.0</td>\n",
       "      <td>0.0</td>\n",
       "      <td>Online</td>\n",
       "      <td>4</td>\n",
       "      <td>2022</td>\n",
       "      <td>11</td>\n",
       "      <td>100.0</td>\n",
       "      <td>100.0</td>\n",
       "      <td>0.0</td>\n",
       "      <td>0.0</td>\n",
       "      <td>150.0</td>\n",
       "      <td>150.0</td>\n",
       "      <td>0.0</td>\n",
       "      <td>0.0</td>\n",
       "      <td>0.0</td>\n",
       "    </tr>\n",
       "  </tbody>\n",
       "</table>\n",
       "</div>"
      ],
      "text/plain": [
       "        Date                Time  Jikky  Kayis  Sinny  Criji  Johnan  \\\n",
       "0 2022-04-11   9:30 am- 10:30 am    1.0    1.0    0.0    0.0     0.0   \n",
       "1 2022-04-11  10:30 am- 11:30 am    1.0    1.0    0.0    0.0     0.0   \n",
       "\n",
       "  Mode of class  Month  year  Day  Salary_1_jikky  Salary_1_Kayis  \\\n",
       "0        Online      4  2022   11           100.0           100.0   \n",
       "1        Online      4  2022   11           100.0           100.0   \n",
       "\n",
       "   Salary_1_Criji  Salary_1_Johnan  Salary_2_jikky  Salary_2_Kayis  \\\n",
       "0             0.0              0.0           150.0           150.0   \n",
       "1             0.0              0.0           150.0           150.0   \n",
       "\n",
       "   Salary_2_Sinny  Salary_2_Criji  Salary_2_Johnan  \n",
       "0             0.0             0.0              0.0  \n",
       "1             0.0             0.0              0.0  "
      ]
     },
     "execution_count": 267,
     "metadata": {},
     "output_type": "execute_result"
    }
   ],
   "source": [
    "PS['Salary_2_Johnan']=(PS['Johnan']*150)\n",
    "PS.head(2)"
   ]
  },
  {
   "cell_type": "markdown",
   "id": "be2edb1c",
   "metadata": {},
   "source": [
    "### Find by which mode of class, most of the time class has taken in month June"
   ]
  },
  {
   "cell_type": "code",
   "execution_count": 268,
   "id": "131a8bab",
   "metadata": {},
   "outputs": [
    {
     "data": {
      "text/html": [
       "<div>\n",
       "<style scoped>\n",
       "    .dataframe tbody tr th:only-of-type {\n",
       "        vertical-align: middle;\n",
       "    }\n",
       "\n",
       "    .dataframe tbody tr th {\n",
       "        vertical-align: top;\n",
       "    }\n",
       "\n",
       "    .dataframe thead th {\n",
       "        text-align: right;\n",
       "    }\n",
       "</style>\n",
       "<table border=\"1\" class=\"dataframe\">\n",
       "  <thead>\n",
       "    <tr style=\"text-align: right;\">\n",
       "      <th>Mode of class</th>\n",
       "      <th>Online</th>\n",
       "      <th>Physical</th>\n",
       "    </tr>\n",
       "    <tr>\n",
       "      <th>Month</th>\n",
       "      <th></th>\n",
       "      <th></th>\n",
       "    </tr>\n",
       "  </thead>\n",
       "  <tbody>\n",
       "    <tr>\n",
       "      <th>4</th>\n",
       "      <td>25</td>\n",
       "      <td>0</td>\n",
       "    </tr>\n",
       "    <tr>\n",
       "      <th>5</th>\n",
       "      <td>24</td>\n",
       "      <td>5</td>\n",
       "    </tr>\n",
       "    <tr>\n",
       "      <th>6</th>\n",
       "      <td>31</td>\n",
       "      <td>6</td>\n",
       "    </tr>\n",
       "  </tbody>\n",
       "</table>\n",
       "</div>"
      ],
      "text/plain": [
       "Mode of class  Online  Physical\n",
       "Month                          \n",
       "4                  25         0\n",
       "5                  24         5\n",
       "6                  31         6"
      ]
     },
     "execution_count": 268,
     "metadata": {},
     "output_type": "execute_result"
    }
   ],
   "source": [
    "dh=pd.crosstab(PS['Month'],PS['Mode of class'])\n",
    "dh"
   ]
  },
  {
   "cell_type": "code",
   "execution_count": 269,
   "id": "656030f8",
   "metadata": {},
   "outputs": [
    {
     "data": {
      "text/html": [
       "<div>\n",
       "<style scoped>\n",
       "    .dataframe tbody tr th:only-of-type {\n",
       "        vertical-align: middle;\n",
       "    }\n",
       "\n",
       "    .dataframe tbody tr th {\n",
       "        vertical-align: top;\n",
       "    }\n",
       "\n",
       "    .dataframe thead th {\n",
       "        text-align: right;\n",
       "    }\n",
       "</style>\n",
       "<table border=\"1\" class=\"dataframe\">\n",
       "  <thead>\n",
       "    <tr style=\"text-align: right;\">\n",
       "      <th>Mode of class</th>\n",
       "      <th>Online</th>\n",
       "      <th>Physical</th>\n",
       "    </tr>\n",
       "  </thead>\n",
       "  <tbody>\n",
       "    <tr>\n",
       "      <th>0</th>\n",
       "      <td>24</td>\n",
       "      <td>0</td>\n",
       "    </tr>\n",
       "    <tr>\n",
       "      <th>1</th>\n",
       "      <td>25</td>\n",
       "      <td>5</td>\n",
       "    </tr>\n",
       "    <tr>\n",
       "      <th>2</th>\n",
       "      <td>31</td>\n",
       "      <td>6</td>\n",
       "    </tr>\n",
       "  </tbody>\n",
       "</table>\n",
       "</div>"
      ],
      "text/plain": [
       "Mode of class  Online  Physical\n",
       "0                  24         0\n",
       "1                  25         5\n",
       "2                  31         6"
      ]
     },
     "execution_count": 269,
     "metadata": {},
     "output_type": "execute_result"
    }
   ],
   "source": [
    "dh.mode()\n",
    "     "
   ]
  },
  {
   "cell_type": "code",
   "execution_count": 270,
   "id": "402969f8",
   "metadata": {},
   "outputs": [
    {
     "data": {
      "text/plain": [
       "Index(['Date', 'Time', 'Jikky', 'Kayis', 'Sinny', 'Criji', 'Johnan',\n",
       "       'Mode of class', 'Month', 'year', 'Day', 'Salary_1_jikky',\n",
       "       'Salary_1_Kayis', 'Salary_1_Criji', 'Salary_1_Johnan', 'Salary_2_jikky',\n",
       "       'Salary_2_Kayis', 'Salary_2_Sinny', 'Salary_2_Criji',\n",
       "       'Salary_2_Johnan'],\n",
       "      dtype='object')"
      ]
     },
     "execution_count": 270,
     "metadata": {},
     "output_type": "execute_result"
    }
   ],
   "source": [
    "PS.columns"
   ]
  },
  {
   "cell_type": "markdown",
   "id": "23f5c00e",
   "metadata": {},
   "source": [
    "### Create a dataframe using the data you got with salary of each month of each mentors"
   ]
  },
  {
   "cell_type": "code",
   "execution_count": 271,
   "id": "f381971d",
   "metadata": {},
   "outputs": [
    {
     "data": {
      "text/plain": [
       "Salary_1_jikky     7120.0\n",
       "Salary_1_Kayis     2960.0\n",
       "Salary_2_Sinny     8175.0\n",
       "Salary_2_Criji     6450.0\n",
       "Salary_1_Johnan    2300.0\n",
       "dtype: float64"
      ]
     },
     "execution_count": 271,
     "metadata": {},
     "output_type": "execute_result"
    }
   ],
   "source": [
    "salary1=PS[['Salary_1_jikky','Salary_1_Kayis','Salary_2_Sinny','Salary_2_Criji','Salary_1_Johnan']].sum()\n",
    "salary1"
   ]
  },
  {
   "cell_type": "code",
   "execution_count": 272,
   "id": "862e28f5",
   "metadata": {},
   "outputs": [
    {
     "data": {
      "text/html": [
       "<div>\n",
       "<style scoped>\n",
       "    .dataframe tbody tr th:only-of-type {\n",
       "        vertical-align: middle;\n",
       "    }\n",
       "\n",
       "    .dataframe tbody tr th {\n",
       "        vertical-align: top;\n",
       "    }\n",
       "\n",
       "    .dataframe thead th {\n",
       "        text-align: right;\n",
       "    }\n",
       "</style>\n",
       "<table border=\"1\" class=\"dataframe\">\n",
       "  <thead>\n",
       "    <tr style=\"text-align: right;\">\n",
       "      <th></th>\n",
       "      <th>Salary_1_jikky</th>\n",
       "      <th>Salary_1_Kayis</th>\n",
       "      <th>Salary_2_Sinny</th>\n",
       "      <th>Salary_2_Criji</th>\n",
       "      <th>Salary_1_Johnan</th>\n",
       "    </tr>\n",
       "    <tr>\n",
       "      <th>Month</th>\n",
       "      <th></th>\n",
       "      <th></th>\n",
       "      <th></th>\n",
       "      <th></th>\n",
       "      <th></th>\n",
       "    </tr>\n",
       "  </thead>\n",
       "  <tbody>\n",
       "    <tr>\n",
       "      <th>4</th>\n",
       "      <td>1150.0</td>\n",
       "      <td>1450.0</td>\n",
       "      <td>1425.0</td>\n",
       "      <td>150.0</td>\n",
       "      <td>0.0</td>\n",
       "    </tr>\n",
       "    <tr>\n",
       "      <th>5</th>\n",
       "      <td>2270.0</td>\n",
       "      <td>1510.0</td>\n",
       "      <td>3300.0</td>\n",
       "      <td>3150.0</td>\n",
       "      <td>2300.0</td>\n",
       "    </tr>\n",
       "    <tr>\n",
       "      <th>6</th>\n",
       "      <td>3700.0</td>\n",
       "      <td>0.0</td>\n",
       "      <td>3450.0</td>\n",
       "      <td>3150.0</td>\n",
       "      <td>0.0</td>\n",
       "    </tr>\n",
       "  </tbody>\n",
       "</table>\n",
       "</div>"
      ],
      "text/plain": [
       "       Salary_1_jikky  Salary_1_Kayis  Salary_2_Sinny  Salary_2_Criji  \\\n",
       "Month                                                                   \n",
       "4              1150.0          1450.0          1425.0           150.0   \n",
       "5              2270.0          1510.0          3300.0          3150.0   \n",
       "6              3700.0             0.0          3450.0          3150.0   \n",
       "\n",
       "       Salary_1_Johnan  \n",
       "Month                   \n",
       "4                  0.0  \n",
       "5               2300.0  \n",
       "6                  0.0  "
      ]
     },
     "execution_count": 272,
     "metadata": {},
     "output_type": "execute_result"
    }
   ],
   "source": [
    "salary1 = PS.groupby('Month')[['Salary_1_jikky','Salary_1_Kayis','Salary_2_Sinny','Salary_2_Criji','Salary_1_Johnan']].sum()\n",
    "salary1"
   ]
  },
  {
   "cell_type": "markdown",
   "id": "a8c2f302",
   "metadata": {},
   "source": [
    "if per hour they get 100 means;\n",
    "\n",
    "Kayis earned the most salary in April\n",
    "\n",
    "Johnan earned a higher salary in May\n",
    "\n",
    "Jikky earned the most salary in June"
   ]
  },
  {
   "cell_type": "code",
   "execution_count": 274,
   "id": "b597405c",
   "metadata": {},
   "outputs": [
    {
     "data": {
      "text/plain": [
       "Salary_2_jikky     10680.0\n",
       "Salary_2_Kayis      4440.0\n",
       "Salary_2_Sinny      8175.0\n",
       "Salary_2_Criji      6450.0\n",
       "Salary_2_Johnan     3450.0\n",
       "dtype: float64"
      ]
     },
     "execution_count": 274,
     "metadata": {},
     "output_type": "execute_result"
    }
   ],
   "source": [
    "#if they get 150 rs in per hour\n",
    "\n",
    "PS[['Salary_2_jikky','Salary_2_Kayis','Salary_2_Sinny','Salary_2_Criji','Salary_2_Johnan']].sum()\n"
   ]
  },
  {
   "cell_type": "code",
   "execution_count": 276,
   "id": "d7793cfc",
   "metadata": {},
   "outputs": [
    {
     "data": {
      "text/html": [
       "<div>\n",
       "<style scoped>\n",
       "    .dataframe tbody tr th:only-of-type {\n",
       "        vertical-align: middle;\n",
       "    }\n",
       "\n",
       "    .dataframe tbody tr th {\n",
       "        vertical-align: top;\n",
       "    }\n",
       "\n",
       "    .dataframe thead th {\n",
       "        text-align: right;\n",
       "    }\n",
       "</style>\n",
       "<table border=\"1\" class=\"dataframe\">\n",
       "  <thead>\n",
       "    <tr style=\"text-align: right;\">\n",
       "      <th></th>\n",
       "      <th>Salary_2_jikky</th>\n",
       "      <th>Salary_2_Kayis</th>\n",
       "      <th>Salary_2_Sinny</th>\n",
       "      <th>Salary_2_Criji</th>\n",
       "      <th>Salary_2_Johnan</th>\n",
       "    </tr>\n",
       "    <tr>\n",
       "      <th>Month</th>\n",
       "      <th></th>\n",
       "      <th></th>\n",
       "      <th></th>\n",
       "      <th></th>\n",
       "      <th></th>\n",
       "    </tr>\n",
       "  </thead>\n",
       "  <tbody>\n",
       "    <tr>\n",
       "      <th>4</th>\n",
       "      <td>1725.0</td>\n",
       "      <td>2175.0</td>\n",
       "      <td>1425.0</td>\n",
       "      <td>150.0</td>\n",
       "      <td>0.0</td>\n",
       "    </tr>\n",
       "    <tr>\n",
       "      <th>5</th>\n",
       "      <td>3405.0</td>\n",
       "      <td>2265.0</td>\n",
       "      <td>3300.0</td>\n",
       "      <td>3150.0</td>\n",
       "      <td>3450.0</td>\n",
       "    </tr>\n",
       "    <tr>\n",
       "      <th>6</th>\n",
       "      <td>5550.0</td>\n",
       "      <td>0.0</td>\n",
       "      <td>3450.0</td>\n",
       "      <td>3150.0</td>\n",
       "      <td>0.0</td>\n",
       "    </tr>\n",
       "  </tbody>\n",
       "</table>\n",
       "</div>"
      ],
      "text/plain": [
       "       Salary_2_jikky  Salary_2_Kayis  Salary_2_Sinny  Salary_2_Criji  \\\n",
       "Month                                                                   \n",
       "4              1725.0          2175.0          1425.0           150.0   \n",
       "5              3405.0          2265.0          3300.0          3150.0   \n",
       "6              5550.0             0.0          3450.0          3150.0   \n",
       "\n",
       "       Salary_2_Johnan  \n",
       "Month                   \n",
       "4                  0.0  \n",
       "5               3450.0  \n",
       "6                  0.0  "
      ]
     },
     "execution_count": 276,
     "metadata": {},
     "output_type": "execute_result"
    }
   ],
   "source": [
    "salary2 =PS.groupby('Month')[['Salary_2_jikky','Salary_2_Kayis','Salary_2_Sinny','Salary_2_Criji','Salary_2_Johnan']].sum()\n",
    "salary2"
   ]
  },
  {
   "cell_type": "markdown",
   "id": "7b63d7ab",
   "metadata": {},
   "source": [
    "if they earn 150 in per hour means;\n",
    "\n",
    "Kayis earned the most salary in April\n",
    "\n",
    "Johnan earned a higher salary in May\n",
    "\n",
    "Jikky earned the most salary in June"
   ]
  },
  {
   "cell_type": "markdown",
   "id": "6868cb70",
   "metadata": {},
   "source": [
    "# Conclusion"
   ]
  },
  {
   "cell_type": "markdown",
   "id": "b4f02ecc",
   "metadata": {},
   "source": [
    "91 rows and 8 columns contained in this table.\n",
    "\n",
    "Fill null is cleaned that it replaced 0 from nan\n",
    "\n",
    "The date split into month, day and year as they added in each column.\n",
    "\n",
    "Jikky took more class at the total of 71.2\n",
    "\n",
    "The mentors have taken online class than physical.\n",
    "\n",
    "Jikky mostly took the online class\n",
    "\n",
    "Sinny mostly took the physical class\n",
    "\n",
    "Kayis has took more hours of working in April, Kayis earned the most salary in April\n",
    "\n",
    "Johnan has took more hours of working in May, Johnan earned a higher salary in May\n",
    "\n",
    "Jikky has mostly took more hours of working in June, Jikky earned the most salary in June\n",
    "\n",
    "Jikky is working more time.\n",
    "\n",
    "More physical classes had taken in June.\n",
    "\n",
    "The mentors mostly took the class from 9.30am to 10.30am in April\n",
    "\n",
    "The mentors mostly took the class from 9.30am to 11.30am in May.\n",
    "\n",
    "The mentors mostly took the class from 2.30pm to 4.30pm in June"
   ]
  }
 ],
 "metadata": {
  "kernelspec": {
   "display_name": "Python 3 (ipykernel)",
   "language": "python",
   "name": "python3"
  },
  "language_info": {
   "codemirror_mode": {
    "name": "ipython",
    "version": 3
   },
   "file_extension": ".py",
   "mimetype": "text/x-python",
   "name": "python",
   "nbconvert_exporter": "python",
   "pygments_lexer": "ipython3",
   "version": "3.10.9"
  }
 },
 "nbformat": 4,
 "nbformat_minor": 5
}
