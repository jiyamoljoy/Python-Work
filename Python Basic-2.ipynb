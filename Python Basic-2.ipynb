{
 "cells": [
  {
   "cell_type": "markdown",
   "id": "d8cb2b7f",
   "metadata": {},
   "source": [
    "# 1st python Program"
   ]
  },
  {
   "cell_type": "markdown",
   "id": "b9d0ca62",
   "metadata": {},
   "source": [
    "# python Variables"
   ]
  },
  {
   "cell_type": "markdown",
   "id": "5144f8d4",
   "metadata": {},
   "source": [
    "Variables declaration"
   ]
  },
  {
   "cell_type": "code",
   "execution_count": 2,
   "id": "9dcce42e",
   "metadata": {},
   "outputs": [
    {
     "data": {
      "text/plain": [
       "5"
      ]
     },
     "execution_count": 2,
     "metadata": {},
     "output_type": "execute_result"
    }
   ],
   "source": [
    "#Variables is declaration as the vlue 5 is assigmed it.\n",
    "X=5\n",
    "X"
   ]
  },
  {
   "cell_type": "code",
   "execution_count": 3,
   "id": "346f550d",
   "metadata": {},
   "outputs": [
    {
     "data": {
      "text/plain": [
       "100"
      ]
     },
     "execution_count": 3,
     "metadata": {},
     "output_type": "execute_result"
    }
   ],
   "source": [
    "Xyz=100\n",
    "Xyz"
   ]
  },
  {
   "cell_type": "markdown",
   "id": "9c9b9bcc",
   "metadata": {},
   "source": [
    "# Data Types in Python"
   ]
  },
  {
   "cell_type": "raw",
   "id": "ec2df8e5",
   "metadata": {},
   "source": [
    "1.Integers\n",
    "2.float\n",
    "3.Complex Numbers\n",
    "4.Boolean"
   ]
  },
  {
   "cell_type": "code",
   "execution_count": 4,
   "id": "01e37bdd",
   "metadata": {},
   "outputs": [
    {
     "data": {
      "text/plain": [
       "int"
      ]
     },
     "execution_count": 4,
     "metadata": {},
     "output_type": "execute_result"
    }
   ],
   "source": [
    "# 1.Integers = are used to represent whole number values.\n",
    "X=1000\n",
    "b=1000\n",
    "\n",
    "type(X)\n",
    "type(b)"
   ]
  },
  {
   "cell_type": "code",
   "execution_count": 6,
   "id": "d618c0bf",
   "metadata": {},
   "outputs": [
    {
     "data": {
      "text/plain": [
       "float"
      ]
     },
     "execution_count": 6,
     "metadata": {},
     "output_type": "execute_result"
    }
   ],
   "source": [
    "# 2.float = data type is uesd to represent decomal point values.\n",
    "\n",
    "X=100.10\n",
    "y=13.13\n",
    "\n",
    "type(X)"
   ]
  },
  {
   "cell_type": "code",
   "execution_count": 8,
   "id": "92c97d52",
   "metadata": {},
   "outputs": [
    {
     "data": {
      "text/plain": [
       "complex"
      ]
     },
     "execution_count": 8,
     "metadata": {},
     "output_type": "execute_result"
    }
   ],
   "source": [
    "# 3.Complex Numbers = are used to represent imaginary values.\n",
    "z=12+4j\n",
    "\n",
    "type(z)"
   ]
  },
  {
   "cell_type": "code",
   "execution_count": 10,
   "id": "0c11491a",
   "metadata": {},
   "outputs": [
    {
     "data": {
      "text/plain": [
       "complex"
      ]
     },
     "execution_count": 10,
     "metadata": {},
     "output_type": "execute_result"
    }
   ],
   "source": [
    "C=3+6j\n",
    "type(C)"
   ]
  },
  {
   "cell_type": "code",
   "execution_count": 11,
   "id": "7c6d5b42",
   "metadata": {},
   "outputs": [],
   "source": [
    "# 4.Boolean = is uesd to categotical output . since the outptut of boolean is either true or flase"
   ]
  },
  {
   "cell_type": "code",
   "execution_count": 12,
   "id": "51e910ed",
   "metadata": {},
   "outputs": [],
   "source": [
    "Boo= 9>7\n",
    "# Boo is the boolean variable"
   ]
  },
  {
   "cell_type": "code",
   "execution_count": 13,
   "id": "8558b2ed",
   "metadata": {},
   "outputs": [
    {
     "data": {
      "text/plain": [
       "bool"
      ]
     },
     "execution_count": 13,
     "metadata": {},
     "output_type": "execute_result"
    }
   ],
   "source": [
    "type(Boo)\n",
    "#the output will be bool"
   ]
  },
  {
   "cell_type": "code",
   "execution_count": 14,
   "id": "6710c933",
   "metadata": {},
   "outputs": [
    {
     "name": "stdout",
     "output_type": "stream",
     "text": [
      "True\n"
     ]
    }
   ],
   "source": [
    "print(Boo)\n",
    "#this will print true."
   ]
  },
  {
   "cell_type": "code",
   "execution_count": 18,
   "id": "888c027c",
   "metadata": {},
   "outputs": [
    {
     "name": "stdout",
     "output_type": "stream",
     "text": [
      "False\n"
     ]
    }
   ],
   "source": [
    "l=20<10\n",
    "print(l)"
   ]
  }
 ],
 "metadata": {
  "kernelspec": {
   "display_name": "Python 3 (ipykernel)",
   "language": "python",
   "name": "python3"
  },
  "language_info": {
   "codemirror_mode": {
    "name": "ipython",
    "version": 3
   },
   "file_extension": ".py",
   "mimetype": "text/x-python",
   "name": "python",
   "nbconvert_exporter": "python",
   "pygments_lexer": "ipython3",
   "version": "3.10.9"
  }
 },
 "nbformat": 4,
 "nbformat_minor": 5
}
