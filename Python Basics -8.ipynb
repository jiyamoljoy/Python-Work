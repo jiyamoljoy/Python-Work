{
 "cells": [
  {
   "cell_type": "markdown",
   "id": "53236ce1",
   "metadata": {},
   "source": [
    "## Python Indentation"
   ]
  },
  {
   "cell_type": "code",
   "execution_count": 1,
   "id": "70871255",
   "metadata": {},
   "outputs": [
    {
     "name": "stdout",
     "output_type": "stream",
     "text": [
      "Seven is greater than three!\n"
     ]
    }
   ],
   "source": [
    "#Python Indentation\n",
    "#if we give if statement, before printing the we should give space before next code\n",
    "\n",
    "if 7 > 3:\n",
    "  print(\"Seven is greater than three!\")"
   ]
  },
  {
   "cell_type": "code",
   "execution_count": 2,
   "id": "4ebaf3a3",
   "metadata": {},
   "outputs": [
    {
     "name": "stdout",
     "output_type": "stream",
     "text": [
      "Three is greater than one!\n",
      "Seven is greater than Five!\n"
     ]
    }
   ],
   "source": [
    "if 3 > 1:\n",
    " print(\"Three is greater than one!\") \n",
    "if 7 > 5:\n",
    "        print(\"Seven is greater than Five!\") \n"
   ]
  },
  {
   "cell_type": "markdown",
   "id": "7a49d528",
   "metadata": {},
   "source": [
    "## Python Variable assigning"
   ]
  },
  {
   "cell_type": "code",
   "execution_count": 3,
   "id": "7af81881",
   "metadata": {},
   "outputs": [
    {
     "name": "stdout",
     "output_type": "stream",
     "text": [
      "7\n",
      "Hello\n"
     ]
    }
   ],
   "source": [
    "#Variables in Python\n",
    "x = 7\n",
    "y = \"Hello\"\n",
    "print(x)\n",
    "print(y)"
   ]
  },
  {
   "cell_type": "markdown",
   "id": "2b3afc50",
   "metadata": {},
   "source": [
    "## Python Comments"
   ]
  },
  {
   "cell_type": "code",
   "execution_count": 4,
   "id": "6724e2be",
   "metadata": {},
   "outputs": [
    {
     "data": {
      "text/plain": [
       "'\\nThis is a comment\\nwritten in\\nmore than just one line\\n'"
      ]
     },
     "execution_count": 4,
     "metadata": {},
     "output_type": "execute_result"
    }
   ],
   "source": [
    "#comments in python\n",
    "#It is a comment. \n",
    "\"\"\"\n",
    "This is a comment\n",
    "written in\n",
    "more than just one line\n",
    "\"\"\"\n"
   ]
  },
  {
   "cell_type": "markdown",
   "id": "5ccb1803",
   "metadata": {},
   "source": [
    "## Creating python variables"
   ]
  },
  {
   "cell_type": "code",
   "execution_count": 5,
   "id": "d8edccde",
   "metadata": {},
   "outputs": [
    {
     "name": "stdout",
     "output_type": "stream",
     "text": [
      "3\n",
      "Johny\n"
     ]
    }
   ],
   "source": [
    "#Creating variables\n",
    "x=3\n",
    "y=\"Johny\"\n",
    "\n",
    "print(x)\n",
    "print(y)\n",
    "\n",
    "     "
   ]
  },
  {
   "cell_type": "code",
   "execution_count": 6,
   "id": "dfb78370",
   "metadata": {},
   "outputs": [
    {
     "name": "stdout",
     "output_type": "stream",
     "text": [
      "Jitt\n"
     ]
    }
   ],
   "source": [
    "x = 321       # x is of type int\n",
    "x = \"Jitt\" # x is now of type str\n",
    "print(x)\n"
   ]
  },
  {
   "cell_type": "markdown",
   "id": "7e7a99c9",
   "metadata": {},
   "source": [
    "## Python Casting"
   ]
  },
  {
   "cell_type": "code",
   "execution_count": 7,
   "id": "ed0f50b6",
   "metadata": {},
   "outputs": [
    {
     "name": "stdout",
     "output_type": "stream",
     "text": [
      "12\n",
      "12\n",
      "12.0\n"
     ]
    }
   ],
   "source": [
    "#Casting\n",
    "\n",
    "x = str(12)    # x will be '12'\n",
    "y = int(12)    # y will be 12\n",
    "z = float(12)  # z will be 12.0\n",
    "\n",
    "print(x)\n",
    "print(y)\n",
    "print(z)"
   ]
  },
  {
   "cell_type": "markdown",
   "id": "96fbf0b2",
   "metadata": {},
   "source": [
    "## Getting data type"
   ]
  },
  {
   "cell_type": "code",
   "execution_count": 8,
   "id": "21f39964",
   "metadata": {},
   "outputs": [
    {
     "name": "stdout",
     "output_type": "stream",
     "text": [
      "<class 'int'>\n",
      "<class 'str'>\n"
     ]
    }
   ],
   "source": [
    "#get the type\n",
    "x = 3\n",
    "y = \"Yash\"\n",
    "print(type(x))\n",
    "print(type(y))"
   ]
  },
  {
   "cell_type": "markdown",
   "id": "4a3724e3",
   "metadata": {},
   "source": [
    "## We can use single or double quotes"
   ]
  },
  {
   "cell_type": "code",
   "execution_count": 9,
   "id": "f32ed55f",
   "metadata": {},
   "outputs": [
    {
     "name": "stdout",
     "output_type": "stream",
     "text": [
      "Johny\n",
      "Johny\n"
     ]
    }
   ],
   "source": [
    "#Single or Double Quotes?\n",
    "\n",
    "x = \"Johny\"\n",
    "print(x)\n",
    "# is the same as\n",
    "x = 'Johny'\n",
    "\n",
    "print(x)\n"
   ]
  },
  {
   "cell_type": "markdown",
   "id": "b1f06609",
   "metadata": {},
   "source": [
    "## Case sensitive"
   ]
  },
  {
   "cell_type": "code",
   "execution_count": 10,
   "id": "2574fdd2",
   "metadata": {},
   "outputs": [
    {
     "name": "stdout",
     "output_type": "stream",
     "text": [
      "3\n",
      "Yash\n"
     ]
    }
   ],
   "source": [
    "#Case-Sensitive\n",
    "\n",
    "a = 3\n",
    "A = \"Yash\"\n",
    "#A will not overwrite a\n",
    "\n",
    "print(a)\n",
    "print(A)\n",
    "\n",
    "     "
   ]
  },
  {
   "cell_type": "markdown",
   "id": "b8060e5e",
   "metadata": {},
   "source": [
    "## Variable names should be"
   ]
  },
  {
   "cell_type": "code",
   "execution_count": 11,
   "id": "23eaef8d",
   "metadata": {},
   "outputs": [
    {
     "name": "stdout",
     "output_type": "stream",
     "text": [
      "John\n",
      "John\n",
      "John\n"
     ]
    }
   ],
   "source": [
    "## **Python - Variable Names**\n",
    "\n",
    "#Legal variable names:\n",
    "\n",
    "myvar = \"John\"\n",
    "my_var = \"John\"\n",
    "_my_var = \"John\"\n",
    "myVar = \"John\"\n",
    "MYVAR = \"John\"\n",
    "myvar2 = \"John\"\n",
    "\n",
    "print(myvar)\n",
    "print(my_var)\n",
    "print(_my_var)\n",
    "     "
   ]
  },
  {
   "cell_type": "code",
   "execution_count": 12,
   "id": "ee6d9e0d",
   "metadata": {},
   "outputs": [
    {
     "data": {
      "text/plain": [
       "'\\nmyvar = \"John\"\\nmy-var = \"John\"\\nmy var = \"John\"\\n'"
      ]
     },
     "execution_count": 12,
     "metadata": {},
     "output_type": "execute_result"
    }
   ],
   "source": [
    "#Illegal variable names:\n",
    "\"\"\"\n",
    "myvar = \"John\"\n",
    "my-var = \"John\"\n",
    "my var = \"John\"\n",
    "\"\"\""
   ]
  },
  {
   "cell_type": "markdown",
   "id": "fc3785c0",
   "metadata": {},
   "source": [
    "## Many values to multiple variable"
   ]
  },
  {
   "cell_type": "code",
   "execution_count": 13,
   "id": "48c5d9e1",
   "metadata": {},
   "outputs": [
    {
     "name": "stdout",
     "output_type": "stream",
     "text": [
      "accounting\n",
      "bank\n",
      "chemistry\n"
     ]
    }
   ],
   "source": [
    "#Many Values to Multiple Variables\n",
    "\n",
    "a, b, c = \"accounting\", \"bank\", \"chemistry\"\n",
    "print(a)\n",
    "print(b)\n",
    "print(c)\n"
   ]
  },
  {
   "cell_type": "markdown",
   "id": "81bc809d",
   "metadata": {},
   "source": [
    "## One Value to Multiple Variables"
   ]
  },
  {
   "cell_type": "code",
   "execution_count": 14,
   "id": "8dccb542",
   "metadata": {},
   "outputs": [
    {
     "name": "stdout",
     "output_type": "stream",
     "text": [
      "Data Analysis\n",
      "Data Analysis\n",
      "Data Analysis\n"
     ]
    }
   ],
   "source": [
    "#One Value to Multiple Variables\n",
    "a = b = c = \"Data Analysis\"\n",
    "print(a)\n",
    "print(b)\n",
    "print(c)\n",
    "     "
   ]
  },
  {
   "cell_type": "markdown",
   "id": "6c29578b",
   "metadata": {},
   "source": [
    "## Unpack a Collection"
   ]
  },
  {
   "cell_type": "code",
   "execution_count": 15,
   "id": "743296c7",
   "metadata": {},
   "outputs": [
    {
     "name": "stdout",
     "output_type": "stream",
     "text": [
      "Accounting\n",
      "Chemistry\n",
      "Data analysis\n"
     ]
    }
   ],
   "source": [
    "#Unpack a Collection\n",
    "courses = [\"Accounting\", \"Chemistry\", \"Data analysis\"]\n",
    "a, b, c = courses\n",
    "print(a)\n",
    "print(b)\n",
    "print(c)"
   ]
  },
  {
   "cell_type": "markdown",
   "id": "163afe7d",
   "metadata": {},
   "source": [
    "## Variables output"
   ]
  },
  {
   "cell_type": "code",
   "execution_count": 16,
   "id": "73f13b94",
   "metadata": {},
   "outputs": [
    {
     "name": "stdout",
     "output_type": "stream",
     "text": [
      "The course of python is so excellent\n"
     ]
    }
   ],
   "source": [
    "#Output Variables\n",
    "p = \"The course of python is so excellent\"\n",
    "print(p)"
   ]
  },
  {
   "cell_type": "code",
   "execution_count": 17,
   "id": "8b318587",
   "metadata": {},
   "outputs": [
    {
     "name": "stdout",
     "output_type": "stream",
     "text": [
      "This course is awesome\n"
     ]
    }
   ],
   "source": [
    "x = \"This course\"\n",
    "y = \"is\"\n",
    "z = \"awesome\"\n",
    "print(x, y, z)"
   ]
  },
  {
   "cell_type": "code",
   "execution_count": 18,
   "id": "c07aa355",
   "metadata": {},
   "outputs": [
    {
     "name": "stdout",
     "output_type": "stream",
     "text": [
      "22\n"
     ]
    }
   ],
   "source": [
    "x = 7\n",
    "y = 15\n",
    "print(x + y)\n",
    "     "
   ]
  },
  {
   "cell_type": "markdown",
   "id": "fed9846e",
   "metadata": {},
   "source": [
    "x = 5\n",
    "y = \"John\"\n",
    "print(x + y)\n",
    "\n",
    "#this result show as error"
   ]
  },
  {
   "cell_type": "code",
   "execution_count": 20,
   "id": "13255bc2",
   "metadata": {},
   "outputs": [
    {
     "name": "stdout",
     "output_type": "stream",
     "text": [
      "5 Paul\n"
     ]
    }
   ],
   "source": [
    "x = 5\n",
    "y = \"Paul\"\n",
    "print(x, y)\n",
    "     "
   ]
  },
  {
   "cell_type": "markdown",
   "id": "d2804540",
   "metadata": {},
   "source": [
    "## Global Variables"
   ]
  },
  {
   "cell_type": "code",
   "execution_count": 21,
   "id": "66baf6a3",
   "metadata": {},
   "outputs": [
    {
     "name": "stdout",
     "output_type": "stream",
     "text": [
      "Python is Exciting\n"
     ]
    }
   ],
   "source": [
    "#Global Variables\n",
    "x = \"Exciting\"\n",
    "\n",
    "def myfunc():\n",
    "  print(\"Python is \" + x)\n",
    "\n",
    "myfunc()"
   ]
  },
  {
   "cell_type": "code",
   "execution_count": 22,
   "id": "871b3778",
   "metadata": {},
   "outputs": [
    {
     "name": "stdout",
     "output_type": "stream",
     "text": [
      "Python is fantastic\n",
      "Python is excellent\n"
     ]
    }
   ],
   "source": [
    "x = \"excellent\"\n",
    "\n",
    "def myfunc():\n",
    "  x = \"fantastic\"\n",
    "  print(\"Python is \" + x)\n",
    "\n",
    "myfunc()\n",
    "\n",
    "print(\"Python is \" + x)\n",
    "     "
   ]
  },
  {
   "cell_type": "code",
   "execution_count": 23,
   "id": "9f917cc0",
   "metadata": {},
   "outputs": [
    {
     "name": "stdout",
     "output_type": "stream",
     "text": [
      "Python is fantastic\n"
     ]
    }
   ],
   "source": [
    "#The global Keyword\n",
    "def myfunc():\n",
    "  global x\n",
    "  x = \"fantastic\"\n",
    "\n",
    "myfunc()\n",
    "\n",
    "print(\"Python is \" + x)\n",
    "     "
   ]
  },
  {
   "cell_type": "code",
   "execution_count": 24,
   "id": "499fd173",
   "metadata": {},
   "outputs": [
    {
     "name": "stdout",
     "output_type": "stream",
     "text": [
      "Python is fantastic\n"
     ]
    }
   ],
   "source": [
    "x = \"awesome\"\n",
    "\n",
    "def myfunc():\n",
    "  global x\n",
    "  x = \"fantastic\"\n",
    "\n",
    "myfunc()\n",
    "\n",
    "print(\"Python is \" + x)"
   ]
  }
 ],
 "metadata": {
  "kernelspec": {
   "display_name": "Python 3 (ipykernel)",
   "language": "python",
   "name": "python3"
  },
  "language_info": {
   "codemirror_mode": {
    "name": "ipython",
    "version": 3
   },
   "file_extension": ".py",
   "mimetype": "text/x-python",
   "name": "python",
   "nbconvert_exporter": "python",
   "pygments_lexer": "ipython3",
   "version": "3.10.9"
  }
 },
 "nbformat": 4,
 "nbformat_minor": 5
}
