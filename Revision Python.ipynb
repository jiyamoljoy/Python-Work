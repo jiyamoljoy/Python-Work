{
 "cells": [
  {
   "cell_type": "code",
   "execution_count": 1,
   "id": "1df205f7",
   "metadata": {},
   "outputs": [
    {
     "data": {
      "text/html": [
       "<div>\n",
       "<style scoped>\n",
       "    .dataframe tbody tr th:only-of-type {\n",
       "        vertical-align: middle;\n",
       "    }\n",
       "\n",
       "    .dataframe tbody tr th {\n",
       "        vertical-align: top;\n",
       "    }\n",
       "\n",
       "    .dataframe thead th {\n",
       "        text-align: right;\n",
       "    }\n",
       "</style>\n",
       "<table border=\"1\" class=\"dataframe\">\n",
       "  <thead>\n",
       "    <tr style=\"text-align: right;\">\n",
       "      <th></th>\n",
       "      <th>Name of products</th>\n",
       "      <th>Model</th>\n",
       "      <th>colour</th>\n",
       "      <th>date</th>\n",
       "      <th>price</th>\n",
       "    </tr>\n",
       "  </thead>\n",
       "  <tbody>\n",
       "    <tr>\n",
       "      <th>0</th>\n",
       "      <td>LG</td>\n",
       "      <td>i5</td>\n",
       "      <td>black</td>\n",
       "      <td>2020-06-01 00:00:00</td>\n",
       "      <td>66100</td>\n",
       "    </tr>\n",
       "    <tr>\n",
       "      <th>1</th>\n",
       "      <td>DELL</td>\n",
       "      <td>i3</td>\n",
       "      <td>black</td>\n",
       "      <td>01/23/2020</td>\n",
       "      <td>37500</td>\n",
       "    </tr>\n",
       "    <tr>\n",
       "      <th>2</th>\n",
       "      <td>DELL</td>\n",
       "      <td>i5</td>\n",
       "      <td>black</td>\n",
       "      <td>2020-09-02 00:00:00</td>\n",
       "      <td>86800</td>\n",
       "    </tr>\n",
       "    <tr>\n",
       "      <th>3</th>\n",
       "      <td>LG</td>\n",
       "      <td>i7</td>\n",
       "      <td>black</td>\n",
       "      <td>2020-09-03 00:00:00</td>\n",
       "      <td>90500</td>\n",
       "    </tr>\n",
       "    <tr>\n",
       "      <th>4</th>\n",
       "      <td>HP</td>\n",
       "      <td>i7</td>\n",
       "      <td>silver</td>\n",
       "      <td>2020-09-04 00:00:00</td>\n",
       "      <td>99200</td>\n",
       "    </tr>\n",
       "  </tbody>\n",
       "</table>\n",
       "</div>"
      ],
      "text/plain": [
       "  Name of products Model  colour                 date  price\n",
       "0               LG    i5   black  2020-06-01 00:00:00  66100\n",
       "1             DELL    i3   black           01/23/2020  37500\n",
       "2             DELL    i5   black  2020-09-02 00:00:00  86800\n",
       "3               LG    i7   black  2020-09-03 00:00:00  90500\n",
       "4               HP    i7  silver  2020-09-04 00:00:00  99200"
      ]
     },
     "execution_count": 1,
     "metadata": {},
     "output_type": "execute_result"
    }
   ],
   "source": [
    "import pandas as pd\n",
    "data=pd.read_excel('Lap Data.xlsx')\n",
    "data.head()"
   ]
  },
  {
   "cell_type": "code",
   "execution_count": 2,
   "id": "0198e472",
   "metadata": {},
   "outputs": [
    {
     "data": {
      "text/html": [
       "<div>\n",
       "<style scoped>\n",
       "    .dataframe tbody tr th:only-of-type {\n",
       "        vertical-align: middle;\n",
       "    }\n",
       "\n",
       "    .dataframe tbody tr th {\n",
       "        vertical-align: top;\n",
       "    }\n",
       "\n",
       "    .dataframe thead th {\n",
       "        text-align: right;\n",
       "    }\n",
       "</style>\n",
       "<table border=\"1\" class=\"dataframe\">\n",
       "  <thead>\n",
       "    <tr style=\"text-align: right;\">\n",
       "      <th></th>\n",
       "      <th>Name of products</th>\n",
       "      <th>Model</th>\n",
       "      <th>colour</th>\n",
       "      <th>date</th>\n",
       "      <th>price</th>\n",
       "    </tr>\n",
       "  </thead>\n",
       "  <tbody>\n",
       "    <tr>\n",
       "      <th>17</th>\n",
       "      <td>HP</td>\n",
       "      <td>i7</td>\n",
       "      <td>silver</td>\n",
       "      <td>2020-09-17 00:00:00</td>\n",
       "      <td>83200</td>\n",
       "    </tr>\n",
       "    <tr>\n",
       "      <th>18</th>\n",
       "      <td>HP</td>\n",
       "      <td>i3</td>\n",
       "      <td>black</td>\n",
       "      <td>2020-09-18 00:00:00</td>\n",
       "      <td>32200</td>\n",
       "    </tr>\n",
       "    <tr>\n",
       "      <th>19</th>\n",
       "      <td>HP</td>\n",
       "      <td>i5</td>\n",
       "      <td>black</td>\n",
       "      <td>2020-09-19 00:00:00</td>\n",
       "      <td>62600</td>\n",
       "    </tr>\n",
       "    <tr>\n",
       "      <th>20</th>\n",
       "      <td>LG</td>\n",
       "      <td>i5</td>\n",
       "      <td>black</td>\n",
       "      <td>2020-09-20 00:00:00</td>\n",
       "      <td>52300</td>\n",
       "    </tr>\n",
       "    <tr>\n",
       "      <th>21</th>\n",
       "      <td>DELL</td>\n",
       "      <td>i7</td>\n",
       "      <td>black</td>\n",
       "      <td>2020-09-21 00:00:00</td>\n",
       "      <td>88200</td>\n",
       "    </tr>\n",
       "  </tbody>\n",
       "</table>\n",
       "</div>"
      ],
      "text/plain": [
       "   Name of products Model  colour                 date  price\n",
       "17               HP    i7  silver  2020-09-17 00:00:00  83200\n",
       "18               HP    i3   black  2020-09-18 00:00:00  32200\n",
       "19               HP    i5   black  2020-09-19 00:00:00  62600\n",
       "20               LG    i5   black  2020-09-20 00:00:00  52300\n",
       "21             DELL    i7   black  2020-09-21 00:00:00  88200"
      ]
     },
     "execution_count": 2,
     "metadata": {},
     "output_type": "execute_result"
    }
   ],
   "source": [
    "data.tail()"
   ]
  },
  {
   "cell_type": "code",
   "execution_count": 47,
   "id": "2cf4c4d5",
   "metadata": {},
   "outputs": [
    {
     "data": {
      "text/plain": [
       "Name of products    0\n",
       "Model               0\n",
       "colour              0\n",
       "date                0\n",
       "price               0\n",
       "dtype: int64"
      ]
     },
     "execution_count": 47,
     "metadata": {},
     "output_type": "execute_result"
    }
   ],
   "source": [
    "data.isna().sum()"
   ]
  },
  {
   "cell_type": "code",
   "execution_count": 5,
   "id": "11e4301f",
   "metadata": {},
   "outputs": [
    {
     "name": "stdout",
     "output_type": "stream",
     "text": [
      "<class 'pandas.core.frame.DataFrame'>\n",
      "RangeIndex: 22 entries, 0 to 21\n",
      "Data columns (total 5 columns):\n",
      " #   Column            Non-Null Count  Dtype \n",
      "---  ------            --------------  ----- \n",
      " 0   Name of products  22 non-null     object\n",
      " 1   Model             22 non-null     object\n",
      " 2   colour            22 non-null     object\n",
      " 3   date              22 non-null     object\n",
      " 4   price             22 non-null     int64 \n",
      "dtypes: int64(1), object(4)\n",
      "memory usage: 1008.0+ bytes\n"
     ]
    }
   ],
   "source": [
    "data.info()"
   ]
  },
  {
   "cell_type": "code",
   "execution_count": 10,
   "id": "861695b2",
   "metadata": {},
   "outputs": [
    {
     "data": {
      "text/plain": [
       "1424740"
      ]
     },
     "execution_count": 10,
     "metadata": {},
     "output_type": "execute_result"
    }
   ],
   "source": [
    "#find tolalprice\n",
    "\n",
    "x=data['price'].sum()\n",
    "x"
   ]
  },
  {
   "cell_type": "code",
   "execution_count": 11,
   "id": "bb3f3fbf",
   "metadata": {},
   "outputs": [
    {
     "data": {
      "text/plain": [
       "64760.90909090909"
      ]
     },
     "execution_count": 11,
     "metadata": {},
     "output_type": "execute_result"
    }
   ],
   "source": [
    "#find average price\n",
    "x=data['price'].mean()\n",
    "x"
   ]
  },
  {
   "cell_type": "code",
   "execution_count": 12,
   "id": "c363f5e2",
   "metadata": {},
   "outputs": [
    {
     "data": {
      "text/plain": [
       "99200"
      ]
     },
     "execution_count": 12,
     "metadata": {},
     "output_type": "execute_result"
    }
   ],
   "source": [
    "#find maximum price\n",
    "x=data['price'].max()\n",
    "x"
   ]
  },
  {
   "cell_type": "code",
   "execution_count": 13,
   "id": "da1e2288",
   "metadata": {},
   "outputs": [
    {
     "data": {
      "text/plain": [
       "32200"
      ]
     },
     "execution_count": 13,
     "metadata": {},
     "output_type": "execute_result"
    }
   ],
   "source": [
    "#find minimum price\n",
    "x=data['price'].min()\n",
    "x"
   ]
  },
  {
   "cell_type": "code",
   "execution_count": 100,
   "id": "3ccaa1d7",
   "metadata": {},
   "outputs": [
    {
     "data": {
      "text/html": [
       "<div>\n",
       "<style scoped>\n",
       "    .dataframe tbody tr th:only-of-type {\n",
       "        vertical-align: middle;\n",
       "    }\n",
       "\n",
       "    .dataframe tbody tr th {\n",
       "        vertical-align: top;\n",
       "    }\n",
       "\n",
       "    .dataframe thead th {\n",
       "        text-align: right;\n",
       "    }\n",
       "</style>\n",
       "<table border=\"1\" class=\"dataframe\">\n",
       "  <thead>\n",
       "    <tr style=\"text-align: right;\">\n",
       "      <th></th>\n",
       "      <th>Name of products</th>\n",
       "      <th>Model</th>\n",
       "      <th>price</th>\n",
       "      <th>date</th>\n",
       "    </tr>\n",
       "  </thead>\n",
       "  <tbody>\n",
       "    <tr>\n",
       "      <th>19</th>\n",
       "      <td>HP</td>\n",
       "      <td>i5</td>\n",
       "      <td>62600</td>\n",
       "      <td>2020-09-19 00:00:00</td>\n",
       "    </tr>\n",
       "    <tr>\n",
       "      <th>20</th>\n",
       "      <td>LG</td>\n",
       "      <td>i5</td>\n",
       "      <td>52300</td>\n",
       "      <td>2020-09-20 00:00:00</td>\n",
       "    </tr>\n",
       "    <tr>\n",
       "      <th>21</th>\n",
       "      <td>DELL</td>\n",
       "      <td>i7</td>\n",
       "      <td>88200</td>\n",
       "      <td>2020-09-21 00:00:00</td>\n",
       "    </tr>\n",
       "  </tbody>\n",
       "</table>\n",
       "</div>"
      ],
      "text/plain": [
       "   Name of products Model  price                 date\n",
       "19               HP    i5  62600  2020-09-19 00:00:00\n",
       "20               LG    i5  52300  2020-09-20 00:00:00\n",
       "21             DELL    i7  88200  2020-09-21 00:00:00"
      ]
     },
     "execution_count": 100,
     "metadata": {},
     "output_type": "execute_result"
    }
   ],
   "source": [
    "#name of products, model , price, date\n",
    "data[['Name of products','Model','price','date']].tail(3)"
   ]
  },
  {
   "cell_type": "code",
   "execution_count": 15,
   "id": "f6f95680",
   "metadata": {},
   "outputs": [
    {
     "name": "stderr",
     "output_type": "stream",
     "text": [
      "C:\\Users\\jiyam\\AppData\\Local\\Temp\\ipykernel_14304\\2193226932.py:2: FutureWarning: The default value of numeric_only in DataFrameGroupBy.sum is deprecated. In a future version, numeric_only will default to False. Either specify numeric_only or select only columns which should be valid for the function.\n",
      "  data.groupby('Model').sum()['price']\n"
     ]
    },
    {
     "data": {
      "text/plain": [
       "Model\n",
       "i3    145600\n",
       "i5    756800\n",
       "i7    522340\n",
       "Name: price, dtype: int64"
      ]
     },
     "execution_count": 15,
     "metadata": {},
     "output_type": "execute_result"
    }
   ],
   "source": [
    "#find total price wise model\n",
    "data.groupby('Model').sum()['price']"
   ]
  },
  {
   "cell_type": "code",
   "execution_count": 38,
   "id": "888f5057",
   "metadata": {},
   "outputs": [
    {
     "name": "stderr",
     "output_type": "stream",
     "text": [
      "C:\\Users\\jiyam\\AppData\\Local\\Temp\\ipykernel_14304\\3391797490.py:1: FutureWarning: The default value of numeric_only in DataFrameGroupBy.sum is deprecated. In a future version, numeric_only will default to False. Either specify numeric_only or select only columns which should be valid for the function.\n",
      "  data.groupby('Name of products').sum()['price']\n"
     ]
    },
    {
     "data": {
      "text/plain": [
       "Name of products\n",
       "ACER     55200\n",
       "ASUS    162140\n",
       "DELL    378300\n",
       "HP      542600\n",
       "LG      286500\n",
       "Name: price, dtype: int64"
      ]
     },
     "execution_count": 38,
     "metadata": {},
     "output_type": "execute_result"
    }
   ],
   "source": [
    "#find total price wise name of products\n",
    "data.groupby('Name of products').sum()['price']\n"
   ]
  },
  {
   "cell_type": "code",
   "execution_count": 96,
   "id": "43e73824",
   "metadata": {},
   "outputs": [
    {
     "data": {
      "text/plain": [
       "Model  Name of products  date               \n",
       "i3     ASUS              2020-09-06 00:00:00    1\n",
       "       DELL              2020-09-11 00:00:00    1\n",
       "       HP                2020-09-18 00:00:00    1\n",
       "       DELL              01/23/2020             1\n",
       "i5     LG                2020-09-20 00:00:00    1\n",
       "                         2020-06-01 00:00:00    1\n",
       "       HP                2020-09-19 00:00:00    1\n",
       "                         2020-09-14 00:00:00    1\n",
       "                         2020-09-13 00:00:00    1\n",
       "                         2020-09-12 00:00:00    1\n",
       "                         2020-09-09 00:00:00    1\n",
       "       DELL              2020-09-08 00:00:00    1\n",
       "                         2020-09-05 00:00:00    1\n",
       "                         2020-09-02 00:00:00    1\n",
       "       ASUS              2020-09-15 00:00:00    1\n",
       "       ACER              2020-09-07 00:00:00    1\n",
       "i7     LG                2020-09-03 00:00:00    1\n",
       "       HP                2020-09-17 00:00:00    1\n",
       "                         2020-09-04 00:00:00    1\n",
       "       DELL              2020-09-21 00:00:00    1\n",
       "       ASUS              2020-09-16 00:00:00    1\n",
       "       LG                2020-09-10 00:00:00    1\n",
       "dtype: int64"
      ]
     },
     "execution_count": 96,
     "metadata": {},
     "output_type": "execute_result"
    }
   ],
   "source": [
    "#find model wise name of products\n",
    "data.groupby('Model')[['Name of products','date']].value_counts()"
   ]
  },
  {
   "cell_type": "code",
   "execution_count": 46,
   "id": "340a7e9e",
   "metadata": {},
   "outputs": [
    {
     "data": {
      "text/html": [
       "<div>\n",
       "<style scoped>\n",
       "    .dataframe tbody tr th:only-of-type {\n",
       "        vertical-align: middle;\n",
       "    }\n",
       "\n",
       "    .dataframe tbody tr th {\n",
       "        vertical-align: top;\n",
       "    }\n",
       "\n",
       "    .dataframe thead th {\n",
       "        text-align: right;\n",
       "    }\n",
       "</style>\n",
       "<table border=\"1\" class=\"dataframe\">\n",
       "  <thead>\n",
       "    <tr style=\"text-align: right;\">\n",
       "      <th></th>\n",
       "      <th>price</th>\n",
       "    </tr>\n",
       "  </thead>\n",
       "  <tbody>\n",
       "    <tr>\n",
       "      <th>count</th>\n",
       "      <td>22.000000</td>\n",
       "    </tr>\n",
       "    <tr>\n",
       "      <th>mean</th>\n",
       "      <td>64760.909091</td>\n",
       "    </tr>\n",
       "    <tr>\n",
       "      <th>std</th>\n",
       "      <td>19724.389039</td>\n",
       "    </tr>\n",
       "    <tr>\n",
       "      <th>min</th>\n",
       "      <td>32200.000000</td>\n",
       "    </tr>\n",
       "    <tr>\n",
       "      <th>25%</th>\n",
       "      <td>49750.000000</td>\n",
       "    </tr>\n",
       "    <tr>\n",
       "      <th>50%</th>\n",
       "      <td>65750.000000</td>\n",
       "    </tr>\n",
       "    <tr>\n",
       "      <th>75%</th>\n",
       "      <td>81800.000000</td>\n",
       "    </tr>\n",
       "    <tr>\n",
       "      <th>max</th>\n",
       "      <td>99200.000000</td>\n",
       "    </tr>\n",
       "  </tbody>\n",
       "</table>\n",
       "</div>"
      ],
      "text/plain": [
       "              price\n",
       "count     22.000000\n",
       "mean   64760.909091\n",
       "std    19724.389039\n",
       "min    32200.000000\n",
       "25%    49750.000000\n",
       "50%    65750.000000\n",
       "75%    81800.000000\n",
       "max    99200.000000"
      ]
     },
     "execution_count": 46,
     "metadata": {},
     "output_type": "execute_result"
    }
   ],
   "source": [
    "data.describe()"
   ]
  },
  {
   "cell_type": "code",
   "execution_count": 97,
   "id": "4f7298be",
   "metadata": {},
   "outputs": [
    {
     "data": {
      "text/plain": [
       "<Axes: xlabel='date'>"
      ]
     },
     "execution_count": 97,
     "metadata": {},
     "output_type": "execute_result"
    },
    {
     "data": {
      "image/png": "[encoded data removed]",
      "text/plain": [
       "<Figure size 640x480 with 1 Axes>"
      ]
     },
     "metadata": {},
     "output_type": "display_data"
    }
   ],
   "source": [
    "# for line\n",
    "data.groupby('date').count()['Name of products']\n",
    "data.plot(x='date',kind='line')\n"
   ]
  },
  {
   "cell_type": "code",
   "execution_count": 56,
   "id": "d9b740cc",
   "metadata": {},
   "outputs": [
    {
     "data": {
      "image/png": "[encoded data removed]",
      "text/plain": [
       "<Figure size 640x480 with 1 Axes>"
      ]
     },
     "metadata": {},
     "output_type": "display_data"
    }
   ],
   "source": [
    "# for horizontal bar:\n",
    "data['Name of products'].value_counts().plot(kind='bar');"
   ]
  },
  {
   "cell_type": "code",
   "execution_count": 61,
   "id": "6c4a95bd",
   "metadata": {},
   "outputs": [
    {
     "data": {
      "image/png": "[encoded data removed]",
      "text/plain": [
       "<Figure size 640x480 with 1 Axes>"
      ]
     },
     "metadata": {},
     "output_type": "display_data"
    }
   ],
   "source": [
    "# for vertical barth:\n",
    "data['colour'].value_counts().plot(kind='barh');"
   ]
  },
  {
   "cell_type": "code",
   "execution_count": 63,
   "id": "d4f858ce",
   "metadata": {},
   "outputs": [
    {
     "data": {
      "image/png": "[encoded data removed]",
      "text/plain": [
       "<Figure size 640x480 with 1 Axes>"
      ]
     },
     "metadata": {},
     "output_type": "display_data"
    }
   ],
   "source": [
    "#for pie\n",
    "data['Model'].value_counts().plot(kind=\"pie\");"
   ]
  },
  {
   "cell_type": "code",
   "execution_count": 73,
   "id": "b106c5ee",
   "metadata": {},
   "outputs": [
    {
     "name": "stderr",
     "output_type": "stream",
     "text": [
      "C:\\Users\\jiyam\\AppData\\Local\\Temp\\ipykernel_14304\\693707980.py:2: FutureWarning: The default value of numeric_only in DataFrameGroupBy.mean is deprecated. In a future version, numeric_only will default to False. Either specify numeric_only or select only columns which should be valid for the function.\n",
      "  data.groupby('Name of products').mean()['price']\n"
     ]
    },
    {
     "data": {
      "text/plain": [
       "Name of products\n",
       "ACER    55200.000000\n",
       "ASUS    54046.666667\n",
       "DELL    63050.000000\n",
       "HP      67825.000000\n",
       "LG      71625.000000\n",
       "Name: price, dtype: float64"
      ]
     },
     "execution_count": 73,
     "metadata": {},
     "output_type": "execute_result"
    }
   ],
   "source": [
    "#find average price wise name of products\n",
    "data.groupby('Name of products').mean()['price']\n"
   ]
  },
  {
   "cell_type": "code",
   "execution_count": 74,
   "id": "21c2dd60",
   "metadata": {},
   "outputs": [
    {
     "name": "stderr",
     "output_type": "stream",
     "text": [
      "C:\\Users\\jiyam\\AppData\\Local\\Temp\\ipykernel_14304\\2109567385.py:2: FutureWarning: Dropping invalid columns in DataFrameGroupBy.max is deprecated. In a future version, a TypeError will be raised. Before calling .max, select only columns which should be valid for the function.\n",
      "  data.groupby('Name of products').max()['price']\n"
     ]
    },
    {
     "data": {
      "text/plain": [
       "Name of products\n",
       "ACER    55200\n",
       "ASUS    83640\n",
       "DELL    88200\n",
       "HP      99200\n",
       "LG      90500\n",
       "Name: price, dtype: int64"
      ]
     },
     "execution_count": 74,
     "metadata": {},
     "output_type": "execute_result"
    }
   ],
   "source": [
    "#find max price wise name of products\n",
    "data.groupby('Name of products').max()['price']\n"
   ]
  },
  {
   "cell_type": "code",
   "execution_count": 75,
   "id": "d0c4206e",
   "metadata": {},
   "outputs": [
    {
     "name": "stderr",
     "output_type": "stream",
     "text": [
      "C:\\Users\\jiyam\\AppData\\Local\\Temp\\ipykernel_14304\\2653149200.py:2: FutureWarning: Dropping invalid columns in DataFrameGroupBy.min is deprecated. In a future version, a TypeError will be raised. Before calling .min, select only columns which should be valid for the function.\n",
      "  data.groupby('Name of products').min()['price']\n"
     ]
    },
    {
     "data": {
      "text/plain": [
       "Name of products\n",
       "ACER    55200\n",
       "ASUS    36000\n",
       "DELL    37500\n",
       "HP      32200\n",
       "LG      52300\n",
       "Name: price, dtype: int64"
      ]
     },
     "execution_count": 75,
     "metadata": {},
     "output_type": "execute_result"
    }
   ],
   "source": [
    "#find min price wise name of products\n",
    "data.groupby('Name of products').min()['price']\n"
   ]
  },
  {
   "cell_type": "code",
   "execution_count": 101,
   "id": "c81de730",
   "metadata": {
    "scrolled": true
   },
   "outputs": [
    {
     "data": {
      "text/plain": [
       "Name of products\n",
       "ACER    1\n",
       "ASUS    3\n",
       "DELL    6\n",
       "HP      8\n",
       "LG      4\n",
       "Name: colour, dtype: int64"
      ]
     },
     "execution_count": 101,
     "metadata": {},
     "output_type": "execute_result"
    }
   ],
   "source": [
    "#find colour wise name of products\n",
    "data.groupby('Name of products').count()['colour']\n"
   ]
  },
  {
   "cell_type": "code",
   "execution_count": null,
   "id": "79e7c6a5",
   "metadata": {},
   "outputs": [],
   "source": []
  }
 ],
 "metadata": {
  "kernelspec": {
   "display_name": "Python 3 (ipykernel)",
   "language": "python",
   "name": "python3"
  },
  "language_info": {
   "codemirror_mode": {
    "name": "ipython",
    "version": 3
   },
   "file_extension": ".py",
   "mimetype": "text/x-python",
   "name": "python",
   "nbconvert_exporter": "python",
   "pygments_lexer": "ipython3",
   "version": "3.10.9"
  }
 },
 "nbformat": 4,
 "nbformat_minor": 5
}
