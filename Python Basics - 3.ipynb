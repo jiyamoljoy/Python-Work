{
 "cells": [
  {
   "cell_type": "markdown",
   "id": "c7780f19",
   "metadata": {},
   "source": [
    "# String"
   ]
  },
  {
   "cell_type": "code",
   "execution_count": 1,
   "id": "1fd590f7",
   "metadata": {},
   "outputs": [
    {
     "data": {
      "text/plain": [
       "'EzyMentor'"
      ]
     },
     "execution_count": 1,
     "metadata": {},
     "output_type": "execute_result"
    }
   ],
   "source": [
    "#String in python are used to represent unicode character value. a single charachter is also considered as a string.\n",
    "#We denote or declare the string values inside single quotes or double quotes.\n",
    "#To acess the blaues in string, we use the indexes ans square brackets.\n",
    "String= 'EzyMentor'\n",
    "String"
   ]
  },
  {
   "cell_type": "code",
   "execution_count": 2,
   "id": "4fb6080c",
   "metadata": {},
   "outputs": [
    {
     "data": {
      "text/plain": [
       "'e'"
      ]
     },
     "execution_count": 2,
     "metadata": {},
     "output_type": "execute_result"
    }
   ],
   "source": [
    "# to input for strings\n",
    "String[4]\n",
    "\n"
   ]
  },
  {
   "cell_type": "code",
   "execution_count": 3,
   "id": "1d00d365",
   "metadata": {},
   "outputs": [
    {
     "data": {
      "text/plain": [
       "'E'"
      ]
     },
     "execution_count": 3,
     "metadata": {},
     "output_type": "execute_result"
    }
   ],
   "source": [
    "String[0]\n",
    "\n"
   ]
  },
  {
   "cell_type": "code",
   "execution_count": 4,
   "id": "2ce366b3",
   "metadata": {},
   "outputs": [
    {
     "data": {
      "text/plain": [
       "'r'"
      ]
     },
     "execution_count": 4,
     "metadata": {},
     "output_type": "execute_result"
    }
   ],
   "source": [
    "String[8]"
   ]
  },
  {
   "cell_type": "code",
   "execution_count": 1,
   "id": "318365c8",
   "metadata": {},
   "outputs": [
    {
     "name": "stdout",
     "output_type": "stream",
     "text": [
      "EzyMentor is Eazy\n"
     ]
    }
   ],
   "source": [
    "#to Input for srings\n",
    "X=input()\n"
   ]
  },
  {
   "cell_type": "code",
   "execution_count": 2,
   "id": "916bd130",
   "metadata": {},
   "outputs": [
    {
     "name": "stdout",
     "output_type": "stream",
     "text": [
      "Hi all my Viewers\n"
     ]
    }
   ],
   "source": [
    "Z=input()"
   ]
  },
  {
   "cell_type": "markdown",
   "id": "00ea785c",
   "metadata": {},
   "source": [
    "# Basic Operations using String"
   ]
  },
  {
   "cell_type": "code",
   "execution_count": 4,
   "id": "b053e5e9",
   "metadata": {},
   "outputs": [
    {
     "data": {
      "text/plain": [
       "'HAI FROM EZYMENTOR'"
      ]
     },
     "execution_count": 4,
     "metadata": {},
     "output_type": "execute_result"
    }
   ],
   "source": [
    "String = 'Hai From EzyMentor'\n",
    "#will make the letters to upppercase\n",
    "String.upper()"
   ]
  },
  {
   "cell_type": "code",
   "execution_count": 5,
   "id": "dbc57b02",
   "metadata": {},
   "outputs": [
    {
     "data": {
      "text/plain": [
       "'hai from ezymentor'"
      ]
     },
     "execution_count": 5,
     "metadata": {},
     "output_type": "execute_result"
    }
   ],
   "source": [
    "#Will make the letters to lowercase\n",
    "String.lower()"
   ]
  },
  {
   "cell_type": "code",
   "execution_count": 7,
   "id": "0c6a9197",
   "metadata": {},
   "outputs": [
    {
     "data": {
      "text/plain": [
       "'i From EzyMent'"
      ]
     },
     "execution_count": 7,
     "metadata": {},
     "output_type": "execute_result"
    }
   ],
   "source": [
    "#Willreturn the strings starting at index 2 unti the index 16.\n",
    "String[2:16]"
   ]
  },
  {
   "cell_type": "code",
   "execution_count": 8,
   "id": "15bddcc8",
   "metadata": {},
   "outputs": [
    {
     "data": {
      "text/plain": [
       "'From EzyMentor'"
      ]
     },
     "execution_count": 8,
     "metadata": {},
     "output_type": "execute_result"
    }
   ],
   "source": [
    "String[4:18]"
   ]
  }
 ],
 "metadata": {
  "kernelspec": {
   "display_name": "Python 3 (ipykernel)",
   "language": "python",
   "name": "python3"
  },
  "language_info": {
   "codemirror_mode": {
    "name": "ipython",
    "version": 3
   },
   "file_extension": ".py",
   "mimetype": "text/x-python",
   "name": "python",
   "nbconvert_exporter": "python",
   "pygments_lexer": "ipython3",
   "version": "3.10.9"
  }
 },
 "nbformat": 4,
 "nbformat_minor": 5
}
