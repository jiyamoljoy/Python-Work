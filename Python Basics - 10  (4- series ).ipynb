{
 "cells": [
  {
   "cell_type": "markdown",
   "id": "6d0292ee",
   "metadata": {},
   "source": [
    "## To Divide 2 numbers"
   ]
  },
  {
   "cell_type": "raw",
   "id": "32a4c803",
   "metadata": {},
   "source": [
    "1st assign data into string\n",
    "input a number"
   ]
  },
  {
   "cell_type": "code",
   "execution_count": 1,
   "id": "8092ad10",
   "metadata": {},
   "outputs": [
    {
     "data": {
      "text/plain": [
       "5.0"
      ]
     },
     "execution_count": 1,
     "metadata": {},
     "output_type": "execute_result"
    }
   ],
   "source": [
    "a=2\n",
    "b=10\n",
    "c=b/a\n",
    "c"
   ]
  },
  {
   "cell_type": "markdown",
   "id": "4c9bfb46",
   "metadata": {},
   "source": [
    "# or"
   ]
  },
  {
   "cell_type": "code",
   "execution_count": 2,
   "id": "3a9ac256",
   "metadata": {},
   "outputs": [
    {
     "name": "stdout",
     "output_type": "stream",
     "text": [
      "first number:10\n"
     ]
    }
   ],
   "source": [
    "num1=input('first number:')"
   ]
  },
  {
   "cell_type": "code",
   "execution_count": 3,
   "id": "70cb89cc",
   "metadata": {},
   "outputs": [
    {
     "name": "stdout",
     "output_type": "stream",
     "text": [
      "\n",
      "Second number:2\n"
     ]
    }
   ],
   "source": [
    "#back slash is given to come to next line\n",
    "num2=input('\\nSecond number:')"
   ]
  },
  {
   "cell_type": "code",
   "execution_count": 4,
   "id": "4f536c30",
   "metadata": {},
   "outputs": [
    {
     "data": {
      "text/plain": [
       "5.0"
      ]
     },
     "execution_count": 4,
     "metadata": {},
     "output_type": "execute_result"
    }
   ],
   "source": [
    "#string converting to float\n",
    "div=float(num1)/float(num2)\n",
    "div\n",
    "    "
   ]
  },
  {
   "cell_type": "code",
   "execution_count": 5,
   "id": "c5a528d5",
   "metadata": {},
   "outputs": [
    {
     "name": "stdout",
     "output_type": "stream",
     "text": [
      "the divided value of 10 and 2 is 5.0\n"
     ]
    }
   ],
   "source": [
    "#to convert float into string format we give .format\n",
    "#here inside the curly brackets we give the index numbers of each code\n",
    "\n",
    "print('the divided value of {0} and {1} is {2}' .format(num1,num2,div))"
   ]
  }
 ],
 "metadata": {
  "kernelspec": {
   "display_name": "Python 3 (ipykernel)",
   "language": "python",
   "name": "python3"
  },
  "language_info": {
   "codemirror_mode": {
    "name": "ipython",
    "version": 3
   },
   "file_extension": ".py",
   "mimetype": "text/x-python",
   "name": "python",
   "nbconvert_exporter": "python",
   "pygments_lexer": "ipython3",
   "version": "3.10.9"
  }
 },
 "nbformat": 4,
 "nbformat_minor": 5
}
