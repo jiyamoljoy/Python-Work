{
 "cells": [
  {
   "cell_type": "code",
   "execution_count": 163,
   "id": "6bad92f0",
   "metadata": {},
   "outputs": [
    {
     "data": {
      "text/html": [
       "<div>\n",
       "<style scoped>\n",
       "    .dataframe tbody tr th:only-of-type {\n",
       "        vertical-align: middle;\n",
       "    }\n",
       "\n",
       "    .dataframe tbody tr th {\n",
       "        vertical-align: top;\n",
       "    }\n",
       "\n",
       "    .dataframe thead th {\n",
       "        text-align: right;\n",
       "    }\n",
       "</style>\n",
       "<table border=\"1\" class=\"dataframe\">\n",
       "  <thead>\n",
       "    <tr style=\"text-align: right;\">\n",
       "      <th></th>\n",
       "      <th>Employee Name</th>\n",
       "      <th>Department</th>\n",
       "      <th>Salary</th>\n",
       "      <th>Age</th>\n",
       "      <th>Gender</th>\n",
       "      <th>Date of Join</th>\n",
       "    </tr>\n",
       "  </thead>\n",
       "  <tbody>\n",
       "    <tr>\n",
       "      <th>0</th>\n",
       "      <td>Wilson  K Adinolfi</td>\n",
       "      <td>Production</td>\n",
       "      <td>62506</td>\n",
       "      <td>49</td>\n",
       "      <td>Male</td>\n",
       "      <td>07-05-2011</td>\n",
       "    </tr>\n",
       "    <tr>\n",
       "      <th>1</th>\n",
       "      <td>Karthikeyan Ait Sidi</td>\n",
       "      <td>IT/IS</td>\n",
       "      <td>104437</td>\n",
       "      <td>55</td>\n",
       "      <td>Male</td>\n",
       "      <td>30-03-2015</td>\n",
       "    </tr>\n",
       "    <tr>\n",
       "      <th>2</th>\n",
       "      <td>Sarah Akinkuolie</td>\n",
       "      <td>Production</td>\n",
       "      <td>64955</td>\n",
       "      <td>49</td>\n",
       "      <td>Female</td>\n",
       "      <td>07-05-2011</td>\n",
       "    </tr>\n",
       "    <tr>\n",
       "      <th>3</th>\n",
       "      <td>Trina Alagbe</td>\n",
       "      <td>Production</td>\n",
       "      <td>64991</td>\n",
       "      <td>49</td>\n",
       "      <td>Female</td>\n",
       "      <td>01-07-2008</td>\n",
       "    </tr>\n",
       "    <tr>\n",
       "      <th>4</th>\n",
       "      <td>Carol Anderson</td>\n",
       "      <td>Production</td>\n",
       "      <td>50825</td>\n",
       "      <td>31</td>\n",
       "      <td>Female</td>\n",
       "      <td>07-11-2011</td>\n",
       "    </tr>\n",
       "  </tbody>\n",
       "</table>\n",
       "</div>"
      ],
      "text/plain": [
       "          Employee Name         Department  Salary  Age  Gender Date of Join\n",
       "0    Wilson  K Adinolfi  Production          62506   49   Male    07-05-2011\n",
       "1  Karthikeyan Ait Sidi              IT/IS  104437   55   Male    30-03-2015\n",
       "2      Sarah Akinkuolie  Production          64955   49  Female   07-05-2011\n",
       "3          Trina Alagbe  Production          64991   49  Female   01-07-2008\n",
       "4        Carol Anderson  Production          50825   31  Female   07-11-2011"
      ]
     },
     "execution_count": 163,
     "metadata": {},
     "output_type": "execute_result"
    }
   ],
   "source": [
    "import numpy as np\n",
    "import pandas as pd\n",
    "HR=pd.read_excel('Human resource (1).xlsx')\n",
    "HR.head()"
   ]
  },
  {
   "cell_type": "code",
   "execution_count": 164,
   "id": "5676c7b2",
   "metadata": {},
   "outputs": [
    {
     "data": {
      "text/html": [
       "<div>\n",
       "<style scoped>\n",
       "    .dataframe tbody tr th:only-of-type {\n",
       "        vertical-align: middle;\n",
       "    }\n",
       "\n",
       "    .dataframe tbody tr th {\n",
       "        vertical-align: top;\n",
       "    }\n",
       "\n",
       "    .dataframe thead th {\n",
       "        text-align: right;\n",
       "    }\n",
       "</style>\n",
       "<table border=\"1\" class=\"dataframe\">\n",
       "  <thead>\n",
       "    <tr style=\"text-align: right;\">\n",
       "      <th></th>\n",
       "      <th>Employee Name</th>\n",
       "      <th>Department</th>\n",
       "      <th>Salary</th>\n",
       "      <th>Age</th>\n",
       "      <th>Gender</th>\n",
       "      <th>Date of Join</th>\n",
       "    </tr>\n",
       "  </thead>\n",
       "  <tbody>\n",
       "    <tr>\n",
       "      <th>306</th>\n",
       "      <td>Jason Woodson</td>\n",
       "      <td>Production</td>\n",
       "      <td>65893</td>\n",
       "      <td>39</td>\n",
       "      <td>Male</td>\n",
       "      <td>07-07-2014</td>\n",
       "    </tr>\n",
       "    <tr>\n",
       "      <th>307</th>\n",
       "      <td>Catherine Ybarra</td>\n",
       "      <td>Production</td>\n",
       "      <td>48513</td>\n",
       "      <td>35</td>\n",
       "      <td>Female</td>\n",
       "      <td>09-02-2008</td>\n",
       "    </tr>\n",
       "    <tr>\n",
       "      <th>308</th>\n",
       "      <td>Jennifer Zamora</td>\n",
       "      <td>IT/IS</td>\n",
       "      <td>220450</td>\n",
       "      <td>42</td>\n",
       "      <td>Female</td>\n",
       "      <td>04-10-2010</td>\n",
       "    </tr>\n",
       "    <tr>\n",
       "      <th>309</th>\n",
       "      <td>Julia Zhou</td>\n",
       "      <td>IT/IS</td>\n",
       "      <td>89292</td>\n",
       "      <td>42</td>\n",
       "      <td>Female</td>\n",
       "      <td>30-03-2015</td>\n",
       "    </tr>\n",
       "    <tr>\n",
       "      <th>310</th>\n",
       "      <td>Colleen Zima</td>\n",
       "      <td>Production</td>\n",
       "      <td>45046</td>\n",
       "      <td>58</td>\n",
       "      <td>Female</td>\n",
       "      <td>29-09-2014</td>\n",
       "    </tr>\n",
       "  </tbody>\n",
       "</table>\n",
       "</div>"
      ],
      "text/plain": [
       "        Employee Name         Department  Salary  Age  Gender Date of Join\n",
       "306     Jason Woodson  Production          65893   39   Male    07-07-2014\n",
       "307  Catherine Ybarra  Production          48513   35  Female   09-02-2008\n",
       "308   Jennifer Zamora              IT/IS  220450   42  Female   04-10-2010\n",
       "309        Julia Zhou              IT/IS   89292   42  Female   30-03-2015\n",
       "310      Colleen Zima  Production          45046   58  Female   29-09-2014"
      ]
     },
     "execution_count": 164,
     "metadata": {},
     "output_type": "execute_result"
    }
   ],
   "source": [
    "HR.tail()"
   ]
  },
  {
   "cell_type": "markdown",
   "id": "8b357ddf",
   "metadata": {},
   "source": [
    "### Find the Total Salary"
   ]
  },
  {
   "cell_type": "code",
   "execution_count": 165,
   "id": "09856cd8",
   "metadata": {},
   "outputs": [
    {
     "data": {
      "text/plain": [
       "21465433"
      ]
     },
     "execution_count": 165,
     "metadata": {},
     "output_type": "execute_result"
    }
   ],
   "source": [
    "x=HR['Salary'].sum()\n",
    "x"
   ]
  },
  {
   "cell_type": "markdown",
   "id": "3639999e",
   "metadata": {},
   "source": [
    "### Find the average salary given in the company"
   ]
  },
  {
   "cell_type": "code",
   "execution_count": 166,
   "id": "92e7cd89",
   "metadata": {},
   "outputs": [
    {
     "data": {
      "text/plain": [
       "69020.6848874598"
      ]
     },
     "execution_count": 166,
     "metadata": {},
     "output_type": "execute_result"
    }
   ],
   "source": [
    "x=HR['Salary'].mean()\n",
    "x"
   ]
  },
  {
   "cell_type": "markdown",
   "id": "a0266a5a",
   "metadata": {},
   "source": [
    "### Find the Maximum salary"
   ]
  },
  {
   "cell_type": "code",
   "execution_count": 167,
   "id": "b85b97cf",
   "metadata": {},
   "outputs": [
    {
     "data": {
      "text/plain": [
       "250000"
      ]
     },
     "execution_count": 167,
     "metadata": {},
     "output_type": "execute_result"
    }
   ],
   "source": [
    "x=HR['Salary'].max()\n",
    "x"
   ]
  },
  {
   "cell_type": "markdown",
   "id": "46420029",
   "metadata": {},
   "source": [
    "### Find the minimum Salary\n"
   ]
  },
  {
   "cell_type": "code",
   "execution_count": 168,
   "id": "f1bb1373",
   "metadata": {},
   "outputs": [
    {
     "data": {
      "text/plain": [
       "45046"
      ]
     },
     "execution_count": 168,
     "metadata": {},
     "output_type": "execute_result"
    }
   ],
   "source": [
    "x=HR['Salary'].min()\n",
    "x"
   ]
  },
  {
   "cell_type": "markdown",
   "id": "8fcca7a9",
   "metadata": {},
   "source": [
    "### Find the range of salary"
   ]
  },
  {
   "cell_type": "code",
   "execution_count": 169,
   "id": "a185ec94",
   "metadata": {},
   "outputs": [
    {
     "data": {
      "text/plain": [
       "204954"
      ]
     },
     "execution_count": 169,
     "metadata": {},
     "output_type": "execute_result"
    }
   ],
   "source": [
    "# max-min\n",
    "250000-45046"
   ]
  },
  {
   "cell_type": "markdown",
   "id": "bb970b88",
   "metadata": {},
   "source": [
    "### Find the descriptive Statistics for the variable Salary and identify the Varience"
   ]
  },
  {
   "cell_type": "code",
   "execution_count": 170,
   "id": "0f53a777",
   "metadata": {},
   "outputs": [
    {
     "name": "stderr",
     "output_type": "stream",
     "text": [
      "C:\\Users\\jiyam\\AppData\\Local\\Temp\\ipykernel_22824\\3661666742.py:1: FutureWarning: The default value of numeric_only in DataFrame.var is deprecated. In a future version, it will default to False. In addition, specifying 'numeric_only=None' is deprecated. Select only valid columns or specify the value of numeric_only to silence this warning.\n",
      "  HR.var()\n"
     ]
    },
    {
     "data": {
      "text/plain": [
       "Salary    6.328564e+08\n",
       "Age       1.163185e+02\n",
       "dtype: float64"
      ]
     },
     "execution_count": 170,
     "metadata": {},
     "output_type": "execute_result"
    }
   ],
   "source": [
    "HR.var()\n"
   ]
  },
  {
   "cell_type": "code",
   "execution_count": 171,
   "id": "9f8af7d4",
   "metadata": {},
   "outputs": [
    {
     "data": {
      "text/plain": [
       "632856381.6100614"
      ]
     },
     "execution_count": 171,
     "metadata": {},
     "output_type": "execute_result"
    }
   ],
   "source": [
    "# identify the varience\n",
    "x=HR['Salary'].var()\n",
    "x"
   ]
  },
  {
   "cell_type": "markdown",
   "id": "24b033ed",
   "metadata": {},
   "source": [
    "### Find the average age of employees"
   ]
  },
  {
   "cell_type": "code",
   "execution_count": 172,
   "id": "6d64fcfe",
   "metadata": {},
   "outputs": [
    {
     "data": {
      "text/plain": [
       "42.02893890675241"
      ]
     },
     "execution_count": 172,
     "metadata": {},
     "output_type": "execute_result"
    }
   ],
   "source": [
    "x=HR['Age'].mean()\n",
    "x"
   ]
  },
  {
   "cell_type": "markdown",
   "id": "b342159a",
   "metadata": {},
   "source": [
    "### Find the minimum age of employees "
   ]
  },
  {
   "cell_type": "code",
   "execution_count": 173,
   "id": "d6d2a3a3",
   "metadata": {},
   "outputs": [
    {
     "data": {
      "text/plain": [
       "24"
      ]
     },
     "execution_count": 173,
     "metadata": {},
     "output_type": "execute_result"
    }
   ],
   "source": [
    "x=HR['Age'].min()\n",
    "x"
   ]
  },
  {
   "cell_type": "markdown",
   "id": "fdc7121d",
   "metadata": {},
   "source": [
    "### Find the maximum age of employees"
   ]
  },
  {
   "cell_type": "code",
   "execution_count": 174,
   "id": "48f47195",
   "metadata": {},
   "outputs": [
    {
     "data": {
      "text/plain": [
       "60"
      ]
     },
     "execution_count": 174,
     "metadata": {},
     "output_type": "execute_result"
    }
   ],
   "source": [
    "x=HR['Age'].max()\n",
    "x"
   ]
  },
  {
   "cell_type": "markdown",
   "id": "02e37aaa",
   "metadata": {},
   "source": [
    "### Find the descriptive Statistics for the variable Age and identify the Quartiles "
   ]
  },
  {
   "cell_type": "code",
   "execution_count": 175,
   "id": "e20f3ea3",
   "metadata": {},
   "outputs": [
    {
     "name": "stderr",
     "output_type": "stream",
     "text": [
      "C:\\Users\\jiyam\\AppData\\Local\\Temp\\ipykernel_22824\\2858134881.py:2: FutureWarning: The default value of numeric_only in DataFrame.quantile is deprecated. In a future version, it will default to False. Select only valid columns or specify the value of numeric_only to silence this warning.\n",
      "  x=HR.quantile()\n"
     ]
    },
    {
     "data": {
      "text/plain": [
       "Salary    62810.0\n",
       "Age          42.0\n",
       "Name: 0.5, dtype: float64"
      ]
     },
     "execution_count": 175,
     "metadata": {},
     "output_type": "execute_result"
    }
   ],
   "source": [
    "# 01\n",
    "x=HR.quantile()\n",
    "x"
   ]
  },
  {
   "cell_type": "code",
   "execution_count": 176,
   "id": "0077c06a",
   "metadata": {
    "scrolled": true
   },
   "outputs": [
    {
     "data": {
      "text/html": [
       "<div>\n",
       "<style scoped>\n",
       "    .dataframe tbody tr th:only-of-type {\n",
       "        vertical-align: middle;\n",
       "    }\n",
       "\n",
       "    .dataframe tbody tr th {\n",
       "        vertical-align: top;\n",
       "    }\n",
       "\n",
       "    .dataframe thead th {\n",
       "        text-align: right;\n",
       "    }\n",
       "</style>\n",
       "<table border=\"1\" class=\"dataframe\">\n",
       "  <thead>\n",
       "    <tr style=\"text-align: right;\">\n",
       "      <th></th>\n",
       "      <th>Salary</th>\n",
       "      <th>Age</th>\n",
       "    </tr>\n",
       "  </thead>\n",
       "  <tbody>\n",
       "    <tr>\n",
       "      <th>count</th>\n",
       "      <td>311.000000</td>\n",
       "      <td>311.000000</td>\n",
       "    </tr>\n",
       "    <tr>\n",
       "      <th>mean</th>\n",
       "      <td>69020.684887</td>\n",
       "      <td>42.028939</td>\n",
       "    </tr>\n",
       "    <tr>\n",
       "      <th>std</th>\n",
       "      <td>25156.636930</td>\n",
       "      <td>10.785106</td>\n",
       "    </tr>\n",
       "    <tr>\n",
       "      <th>min</th>\n",
       "      <td>45046.000000</td>\n",
       "      <td>24.000000</td>\n",
       "    </tr>\n",
       "    <tr>\n",
       "      <th>25%</th>\n",
       "      <td>55501.500000</td>\n",
       "      <td>33.000000</td>\n",
       "    </tr>\n",
       "    <tr>\n",
       "      <th>50%</th>\n",
       "      <td>62810.000000</td>\n",
       "      <td>42.000000</td>\n",
       "    </tr>\n",
       "    <tr>\n",
       "      <th>75%</th>\n",
       "      <td>72036.000000</td>\n",
       "      <td>51.500000</td>\n",
       "    </tr>\n",
       "    <tr>\n",
       "      <th>max</th>\n",
       "      <td>250000.000000</td>\n",
       "      <td>60.000000</td>\n",
       "    </tr>\n",
       "  </tbody>\n",
       "</table>\n",
       "</div>"
      ],
      "text/plain": [
       "              Salary         Age\n",
       "count     311.000000  311.000000\n",
       "mean    69020.684887   42.028939\n",
       "std     25156.636930   10.785106\n",
       "min     45046.000000   24.000000\n",
       "25%     55501.500000   33.000000\n",
       "50%     62810.000000   42.000000\n",
       "75%     72036.000000   51.500000\n",
       "max    250000.000000   60.000000"
      ]
     },
     "execution_count": 176,
     "metadata": {},
     "output_type": "execute_result"
    }
   ],
   "source": [
    "HR. describe()"
   ]
  },
  {
   "cell_type": "code",
   "execution_count": 177,
   "id": "291c20e7",
   "metadata": {},
   "outputs": [
    {
     "data": {
      "text/plain": [
       "33.0"
      ]
     },
     "execution_count": 177,
     "metadata": {},
     "output_type": "execute_result"
    }
   ],
   "source": [
    "#desntify the quartile\n",
    "x=HR['Age'].quantile(0.25)\n",
    "x"
   ]
  },
  {
   "cell_type": "code",
   "execution_count": 178,
   "id": "41d8df2f",
   "metadata": {},
   "outputs": [
    {
     "data": {
      "text/plain": [
       "42.0"
      ]
     },
     "execution_count": 178,
     "metadata": {},
     "output_type": "execute_result"
    }
   ],
   "source": [
    "x=HR['Age'].quantile(0.50)\n",
    "x"
   ]
  },
  {
   "cell_type": "markdown",
   "id": "e649ede0",
   "metadata": {},
   "source": [
    "### Find the count of Gender"
   ]
  },
  {
   "cell_type": "code",
   "execution_count": 179,
   "id": "142520ba",
   "metadata": {},
   "outputs": [
    {
     "data": {
      "text/plain": [
       "Female    176\n",
       "Male      135\n",
       "Name: Gender, dtype: int64"
      ]
     },
     "execution_count": 179,
     "metadata": {},
     "output_type": "execute_result"
    }
   ],
   "source": [
    "HR['Gender'].value_counts()\n"
   ]
  },
  {
   "cell_type": "markdown",
   "id": "cfa914f8",
   "metadata": {},
   "source": [
    "### Find the Frequency of gender in a Bar Chart. modify the chart"
   ]
  },
  {
   "cell_type": "code",
   "execution_count": 180,
   "id": "d1bd7c84",
   "metadata": {},
   "outputs": [
    {
     "data": {
      "image/png": "[encoded data removed]",
      "text/plain": [
       "<Figure size 640x480 with 1 Axes>"
      ]
     },
     "metadata": {},
     "output_type": "display_data"
    }
   ],
   "source": [
    "x=HR['Gender'].value_counts(normalize =True).plot(kind='bar')\n"
   ]
  },
  {
   "cell_type": "markdown",
   "id": "28c9c2b9",
   "metadata": {},
   "source": [
    "### obtain the percentage value of number of male and female employees "
   ]
  },
  {
   "cell_type": "code",
   "execution_count": 181,
   "id": "cccde8ae",
   "metadata": {},
   "outputs": [
    {
     "data": {
      "text/plain": [
       "Female    0.565916\n",
       "Male      0.434084\n",
       "Name: Gender, dtype: float64"
      ]
     },
     "execution_count": 181,
     "metadata": {},
     "output_type": "execute_result"
    }
   ],
   "source": [
    "x=HR['Gender'].value_counts(normalize =True)\n",
    "x"
   ]
  },
  {
   "cell_type": "markdown",
   "id": "741ed0af",
   "metadata": {},
   "source": [
    "### obtain the percentage value of number of male and female employees in a pie chart. modify the chart"
   ]
  },
  {
   "cell_type": "code",
   "execution_count": 182,
   "id": "9d292a5d",
   "metadata": {},
   "outputs": [
    {
     "data": {
      "text/plain": [
       "<Axes: ylabel='Gender'>"
      ]
     },
     "execution_count": 182,
     "metadata": {},
     "output_type": "execute_result"
    },
    {
     "data": {
      "image/png": "[encoded data removed]",
      "text/plain": [
       "<Figure size 640x480 with 1 Axes>"
      ]
     },
     "metadata": {},
     "output_type": "display_data"
    }
   ],
   "source": [
    "x=HR['Gender'].value_counts(normalize =True).plot(kind='pie',autopct='1%.2f%%')\n",
    "x"
   ]
  },
  {
   "cell_type": "markdown",
   "id": "d6e2a288",
   "metadata": {},
   "source": [
    "### Find the average age of employees in each department"
   ]
  },
  {
   "cell_type": "code",
   "execution_count": 183,
   "id": "9afbfa77",
   "metadata": {},
   "outputs": [
    {
     "name": "stderr",
     "output_type": "stream",
     "text": [
      "C:\\Users\\jiyam\\AppData\\Local\\Temp\\ipykernel_22824\\2601118729.py:1: FutureWarning: The default value of numeric_only in DataFrameGroupBy.mean is deprecated. In a future version, numeric_only will default to False. Either specify numeric_only or select only columns which should be valid for the function.\n",
      "  x=HR.groupby('Department').mean()['Age']\n"
     ]
    },
    {
     "data": {
      "text/plain": [
       "Department\n",
       "Admin Offices           45.555556\n",
       "Executive Office        36.000000\n",
       "IT/IS                   42.360000\n",
       "Production              42.004785\n",
       "Sales                   41.516129\n",
       "Software Engineering    40.090909\n",
       "Name: Age, dtype: float64"
      ]
     },
     "execution_count": 183,
     "metadata": {},
     "output_type": "execute_result"
    }
   ],
   "source": [
    "x=HR.groupby('Department').mean()['Age']\n",
    "x"
   ]
  },
  {
   "cell_type": "markdown",
   "id": "f9b7bd7f",
   "metadata": {},
   "source": [
    "### Find the minimum age of employees in each department"
   ]
  },
  {
   "cell_type": "code",
   "execution_count": 184,
   "id": "ac84380c",
   "metadata": {},
   "outputs": [
    {
     "data": {
      "text/plain": [
       "Department\n",
       "Admin Offices           25\n",
       "Executive Office        36\n",
       "IT/IS                   24\n",
       "Production              24\n",
       "Sales                   25\n",
       "Software Engineering    25\n",
       "Name: Age, dtype: int64"
      ]
     },
     "execution_count": 184,
     "metadata": {},
     "output_type": "execute_result"
    }
   ],
   "source": [
    "x=HR.groupby('Department').min()['Age']\n",
    "x"
   ]
  },
  {
   "cell_type": "markdown",
   "id": "4cfd4498",
   "metadata": {},
   "source": [
    "### Find the maximum age of employees in each department"
   ]
  },
  {
   "cell_type": "code",
   "execution_count": 185,
   "id": "a0ccd3c6",
   "metadata": {},
   "outputs": [
    {
     "data": {
      "text/plain": [
       "Department\n",
       "Admin Offices           58\n",
       "Executive Office        36\n",
       "IT/IS                   60\n",
       "Production              60\n",
       "Sales                   59\n",
       "Software Engineering    56\n",
       "Name: Age, dtype: int64"
      ]
     },
     "execution_count": 185,
     "metadata": {},
     "output_type": "execute_result"
    }
   ],
   "source": [
    "x=HR.groupby('Department').max()['Age']\n",
    "x"
   ]
  },
  {
   "cell_type": "markdown",
   "id": "28ad5a41",
   "metadata": {},
   "source": [
    "### Find the Total Salary of each department"
   ]
  },
  {
   "cell_type": "code",
   "execution_count": 186,
   "id": "61831ebd",
   "metadata": {},
   "outputs": [
    {
     "name": "stderr",
     "output_type": "stream",
     "text": [
      "C:\\Users\\jiyam\\AppData\\Local\\Temp\\ipykernel_22824\\3963735662.py:1: FutureWarning: The default value of numeric_only in DataFrameGroupBy.sum is deprecated. In a future version, numeric_only will default to False. Either specify numeric_only or select only columns which should be valid for the function.\n",
      "  x=HR.groupby('Department').sum()['Salary']\n"
     ]
    },
    {
     "data": {
      "text/plain": [
       "Department\n",
       "Admin Offices             646127\n",
       "Executive Office          250000\n",
       "IT/IS                    4853232\n",
       "Production              12530291\n",
       "Sales                    2140899\n",
       "Software Engineering     1044884\n",
       "Name: Salary, dtype: int64"
      ]
     },
     "execution_count": 186,
     "metadata": {},
     "output_type": "execute_result"
    }
   ],
   "source": [
    "x=HR.groupby('Department').sum()['Salary']\n",
    "x"
   ]
  },
  {
   "cell_type": "markdown",
   "id": "1d72aa01",
   "metadata": {},
   "source": [
    "### Find the minimum salary of each department"
   ]
  },
  {
   "cell_type": "code",
   "execution_count": 187,
   "id": "f16f3ab9",
   "metadata": {},
   "outputs": [
    {
     "data": {
      "text/plain": [
       "Department\n",
       "Admin Offices            49920\n",
       "Executive Office        250000\n",
       "IT/IS                    50178\n",
       "Production               45046\n",
       "Sales                    55875\n",
       "Software Engineering     77692\n",
       "Name: Salary, dtype: int64"
      ]
     },
     "execution_count": 187,
     "metadata": {},
     "output_type": "execute_result"
    }
   ],
   "source": [
    "x=HR.groupby('Department').min()['Salary']\n",
    "x"
   ]
  },
  {
   "cell_type": "markdown",
   "id": "08e12cc3",
   "metadata": {},
   "source": [
    "### Find the maximum salary of each department"
   ]
  },
  {
   "cell_type": "code",
   "execution_count": 188,
   "id": "761745b1",
   "metadata": {},
   "outputs": [
    {
     "data": {
      "text/plain": [
       "Department\n",
       "Admin Offices           106367\n",
       "Executive Office        250000\n",
       "IT/IS                   220450\n",
       "Production              170500\n",
       "Sales                   180000\n",
       "Software Engineering    108987\n",
       "Name: Salary, dtype: int64"
      ]
     },
     "execution_count": 188,
     "metadata": {},
     "output_type": "execute_result"
    }
   ],
   "source": [
    "x=HR.groupby('Department').max()['Salary']\n",
    "x"
   ]
  },
  {
   "cell_type": "markdown",
   "id": "a1cdc6a6",
   "metadata": {},
   "source": [
    "### Find the average salary of each department using clustered column chart"
   ]
  },
  {
   "cell_type": "code",
   "execution_count": 189,
   "id": "e4681b61",
   "metadata": {},
   "outputs": [
    {
     "name": "stderr",
     "output_type": "stream",
     "text": [
      "C:\\Users\\jiyam\\AppData\\Local\\Temp\\ipykernel_22824\\3811466195.py:1: FutureWarning: The default value of numeric_only in DataFrameGroupBy.mean is deprecated. In a future version, numeric_only will default to False. Either specify numeric_only or select only columns which should be valid for the function.\n",
      "  x=HR.groupby('Department').mean()['Salary']\n"
     ]
    },
    {
     "data": {
      "text/plain": [
       "Department\n",
       "Admin Offices            71791.888889\n",
       "Executive Office        250000.000000\n",
       "IT/IS                    97064.640000\n",
       "Production               59953.545455\n",
       "Sales                    69061.258065\n",
       "Software Engineering     94989.454545\n",
       "Name: Salary, dtype: float64"
      ]
     },
     "execution_count": 189,
     "metadata": {},
     "output_type": "execute_result"
    }
   ],
   "source": [
    "x=HR.groupby('Department').mean()['Salary']\n",
    "x"
   ]
  },
  {
   "cell_type": "code",
   "execution_count": 190,
   "id": "fb0ebcf5",
   "metadata": {},
   "outputs": [
    {
     "data": {
      "text/plain": [
       "<Axes: xlabel='Department'>"
      ]
     },
     "execution_count": 190,
     "metadata": {},
     "output_type": "execute_result"
    },
    {
     "data": {
      "image/png": "[encoded data removed]",
      "text/plain": [
       "<Figure size 640x480 with 1 Axes>"
      ]
     },
     "metadata": {},
     "output_type": "display_data"
    }
   ],
   "source": [
    "x.plot(kind='bar')\n"
   ]
  },
  {
   "cell_type": "markdown",
   "id": "21b64137",
   "metadata": {},
   "source": [
    "### Find the employee count by department and gender using stacked bar chart"
   ]
  },
  {
   "cell_type": "code",
   "execution_count": 194,
   "id": "e99e93b5",
   "metadata": {},
   "outputs": [
    {
     "data": {
      "text/plain": [
       "<Axes: xlabel='Department'>"
      ]
     },
     "execution_count": 194,
     "metadata": {},
     "output_type": "execute_result"
    },
    {
     "data": {
      "image/png": "[encoded data removed]",
      "text/plain": [
       "<Figure size 640x480 with 1 Axes>"
      ]
     },
     "metadata": {},
     "output_type": "display_data"
    }
   ],
   "source": [
    "x=HR.groupby('Department').count()['Gender'].plot(kind='bar')\n",
    "x\n"
   ]
  },
  {
   "cell_type": "code",
   "execution_count": null,
   "id": "15d9e888",
   "metadata": {},
   "outputs": [],
   "source": []
  }
 ],
 "metadata": {
  "kernelspec": {
   "display_name": "Python 3 (ipykernel)",
   "language": "python",
   "name": "python3"
  },
  "language_info": {
   "codemirror_mode": {
    "name": "ipython",
    "version": 3
   },
   "file_extension": ".py",
   "mimetype": "text/x-python",
   "name": "python",
   "nbconvert_exporter": "python",
   "pygments_lexer": "ipython3",
   "version": "3.10.9"
  }
 },
 "nbformat": 4,
 "nbformat_minor": 5
}
