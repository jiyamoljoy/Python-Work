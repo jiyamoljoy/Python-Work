{
 "cells": [
  {
   "cell_type": "code",
   "execution_count": 76,
   "id": "6c366bb9",
   "metadata": {},
   "outputs": [
    {
     "data": {
      "text/html": [
       "<div>\n",
       "<style scoped>\n",
       "    .dataframe tbody tr th:only-of-type {\n",
       "        vertical-align: middle;\n",
       "    }\n",
       "\n",
       "    .dataframe tbody tr th {\n",
       "        vertical-align: top;\n",
       "    }\n",
       "\n",
       "    .dataframe thead th {\n",
       "        text-align: right;\n",
       "    }\n",
       "</style>\n",
       "<table border=\"1\" class=\"dataframe\">\n",
       "  <thead>\n",
       "    <tr style=\"text-align: right;\">\n",
       "      <th></th>\n",
       "      <th>Product Name</th>\n",
       "      <th>Category</th>\n",
       "      <th>Quantity</th>\n",
       "      <th>Price</th>\n",
       "      <th>Amount of Products</th>\n",
       "      <th>Supplier</th>\n",
       "      <th>Order Date</th>\n",
       "    </tr>\n",
       "  </thead>\n",
       "  <tbody>\n",
       "    <tr>\n",
       "      <th>0</th>\n",
       "      <td>Enermax Note Cards, Premium</td>\n",
       "      <td>Office Supplies</td>\n",
       "      <td>3</td>\n",
       "      <td>45</td>\n",
       "      <td>135</td>\n",
       "      <td>Kathy Robinson</td>\n",
       "      <td>2011-01-01</td>\n",
       "    </tr>\n",
       "    <tr>\n",
       "      <th>1</th>\n",
       "      <td>Dania Corner Shelving, Traditional</td>\n",
       "      <td>Furniture</td>\n",
       "      <td>7</td>\n",
       "      <td>854</td>\n",
       "      <td>5978</td>\n",
       "      <td>Eric Hatchett</td>\n",
       "      <td>2011-01-03</td>\n",
       "    </tr>\n",
       "    <tr>\n",
       "      <th>2</th>\n",
       "      <td>Binney &amp; Smith Sketch Pad, Easy-Erase</td>\n",
       "      <td>Office Supplies</td>\n",
       "      <td>3</td>\n",
       "      <td>140</td>\n",
       "      <td>420</td>\n",
       "      <td>Ashley Upright</td>\n",
       "      <td>2011-01-04</td>\n",
       "    </tr>\n",
       "    <tr>\n",
       "      <th>3</th>\n",
       "      <td>Boston Markers, Easy-Erase</td>\n",
       "      <td>Office Supplies</td>\n",
       "      <td>2</td>\n",
       "      <td>27</td>\n",
       "      <td>54</td>\n",
       "      <td>Christopher Francis</td>\n",
       "      <td>2011-01-04</td>\n",
       "    </tr>\n",
       "    <tr>\n",
       "      <th>4</th>\n",
       "      <td>Eldon Folders, Single Width</td>\n",
       "      <td>Office Supplies</td>\n",
       "      <td>2</td>\n",
       "      <td>17</td>\n",
       "      <td>34</td>\n",
       "      <td>Gregory Williams</td>\n",
       "      <td>2011-01-04</td>\n",
       "    </tr>\n",
       "  </tbody>\n",
       "</table>\n",
       "</div>"
      ],
      "text/plain": [
       "                            Product Name         Category  Quantity  Price  \\\n",
       "0            Enermax Note Cards, Premium  Office Supplies         3     45   \n",
       "1     Dania Corner Shelving, Traditional        Furniture         7    854   \n",
       "2  Binney & Smith Sketch Pad, Easy-Erase  Office Supplies         3    140   \n",
       "3             Boston Markers, Easy-Erase  Office Supplies         2     27   \n",
       "4            Eldon Folders, Single Width  Office Supplies         2     17   \n",
       "\n",
       "   Amount of Products             Supplier Order Date  \n",
       "0                 135       Kathy Robinson 2011-01-01  \n",
       "1                5978        Eric Hatchett 2011-01-03  \n",
       "2                 420       Ashley Upright 2011-01-04  \n",
       "3                  54  Christopher Francis 2011-01-04  \n",
       "4                  34     Gregory Williams 2011-01-04  "
      ]
     },
     "execution_count": 76,
     "metadata": {},
     "output_type": "execute_result"
    }
   ],
   "source": [
    "import numpy as np\n",
    "import pandas as pd\n",
    "data=pd.read_excel('Inventory (3).xlsx')\n",
    "data.head()\n"
   ]
  },
  {
   "cell_type": "code",
   "execution_count": 77,
   "id": "da4f9f80",
   "metadata": {},
   "outputs": [
    {
     "data": {
      "text/html": [
       "<div>\n",
       "<style scoped>\n",
       "    .dataframe tbody tr th:only-of-type {\n",
       "        vertical-align: middle;\n",
       "    }\n",
       "\n",
       "    .dataframe tbody tr th {\n",
       "        vertical-align: top;\n",
       "    }\n",
       "\n",
       "    .dataframe thead th {\n",
       "        text-align: right;\n",
       "    }\n",
       "</style>\n",
       "<table border=\"1\" class=\"dataframe\">\n",
       "  <thead>\n",
       "    <tr style=\"text-align: right;\">\n",
       "      <th></th>\n",
       "      <th>Product Name</th>\n",
       "      <th>Category</th>\n",
       "      <th>Quantity</th>\n",
       "      <th>Price</th>\n",
       "      <th>Amount of Products</th>\n",
       "      <th>Supplier</th>\n",
       "      <th>Order Date</th>\n",
       "    </tr>\n",
       "  </thead>\n",
       "  <tbody>\n",
       "    <tr>\n",
       "      <th>8042</th>\n",
       "      <td>Ikea Stackable Bookrack, Traditional</td>\n",
       "      <td>Furniture</td>\n",
       "      <td>2</td>\n",
       "      <td>245</td>\n",
       "      <td>490</td>\n",
       "      <td>Josephine Lee</td>\n",
       "      <td>2014-12-31</td>\n",
       "    </tr>\n",
       "    <tr>\n",
       "      <th>8043</th>\n",
       "      <td>BIC Pencil Sharpener, Fluorescent</td>\n",
       "      <td>Office Supplies</td>\n",
       "      <td>2</td>\n",
       "      <td>30</td>\n",
       "      <td>60</td>\n",
       "      <td>Geri Holston</td>\n",
       "      <td>2014-12-31</td>\n",
       "    </tr>\n",
       "    <tr>\n",
       "      <th>8044</th>\n",
       "      <td>Avery Binder Covers, Recycled</td>\n",
       "      <td>Office Supplies</td>\n",
       "      <td>4</td>\n",
       "      <td>23</td>\n",
       "      <td>92</td>\n",
       "      <td>Oscar Williams</td>\n",
       "      <td>2014-12-31</td>\n",
       "    </tr>\n",
       "    <tr>\n",
       "      <th>8045</th>\n",
       "      <td>StarTech Phone, Red</td>\n",
       "      <td>Technology</td>\n",
       "      <td>3</td>\n",
       "      <td>108</td>\n",
       "      <td>324</td>\n",
       "      <td>John Crenshaw</td>\n",
       "      <td>2014-12-31</td>\n",
       "    </tr>\n",
       "    <tr>\n",
       "      <th>8046</th>\n",
       "      <td>Motorola Audio Dock, VoIP</td>\n",
       "      <td>Technology</td>\n",
       "      <td>5</td>\n",
       "      <td>867</td>\n",
       "      <td>4335</td>\n",
       "      <td>Leonard Angelo</td>\n",
       "      <td>2014-12-31</td>\n",
       "    </tr>\n",
       "  </tbody>\n",
       "</table>\n",
       "</div>"
      ],
      "text/plain": [
       "                              Product Name         Category  Quantity  Price  \\\n",
       "8042  Ikea Stackable Bookrack, Traditional        Furniture         2    245   \n",
       "8043     BIC Pencil Sharpener, Fluorescent  Office Supplies         2     30   \n",
       "8044         Avery Binder Covers, Recycled  Office Supplies         4     23   \n",
       "8045                   StarTech Phone, Red       Technology         3    108   \n",
       "8046             Motorola Audio Dock, VoIP       Technology         5    867   \n",
       "\n",
       "      Amount of Products        Supplier Order Date  \n",
       "8042                 490   Josephine Lee 2014-12-31  \n",
       "8043                  60    Geri Holston 2014-12-31  \n",
       "8044                  92  Oscar Williams 2014-12-31  \n",
       "8045                 324   John Crenshaw 2014-12-31  \n",
       "8046                4335  Leonard Angelo 2014-12-31  "
      ]
     },
     "execution_count": 77,
     "metadata": {},
     "output_type": "execute_result"
    }
   ],
   "source": [
    "data.tail()"
   ]
  },
  {
   "cell_type": "markdown",
   "id": "ac1feb43",
   "metadata": {},
   "source": [
    "### Find the total stock"
   ]
  },
  {
   "cell_type": "code",
   "execution_count": 78,
   "id": "d74c5326",
   "metadata": {},
   "outputs": [
    {
     "data": {
      "text/plain": [
       "30354"
      ]
     },
     "execution_count": 78,
     "metadata": {},
     "output_type": "execute_result"
    }
   ],
   "source": [
    "z=data['Quantity'].sum()\n",
    "z"
   ]
  },
  {
   "cell_type": "markdown",
   "id": "8649c3cb",
   "metadata": {},
   "source": [
    "### Find the total amount of the stock"
   ]
  },
  {
   "cell_type": "code",
   "execution_count": 79,
   "id": "7f3c618c",
   "metadata": {},
   "outputs": [
    {
     "data": {
      "text/plain": [
       "8047"
      ]
     },
     "execution_count": 79,
     "metadata": {},
     "output_type": "execute_result"
    }
   ],
   "source": [
    "z=data['Quantity'].value_counts().sum()\n",
    "z"
   ]
  },
  {
   "cell_type": "markdown",
   "id": "5ffa89b9",
   "metadata": {},
   "source": [
    "### Find the number of Categories"
   ]
  },
  {
   "cell_type": "code",
   "execution_count": 80,
   "id": "3ec4cc39",
   "metadata": {},
   "outputs": [
    {
     "data": {
      "text/plain": [
       "8047"
      ]
     },
     "execution_count": 80,
     "metadata": {},
     "output_type": "execute_result"
    }
   ],
   "source": [
    "z=data['Category'].value_counts().sum()\n",
    "z"
   ]
  },
  {
   "cell_type": "markdown",
   "id": "c861d37f",
   "metadata": {},
   "source": [
    "### Find the number of products in each category"
   ]
  },
  {
   "cell_type": "code",
   "execution_count": 81,
   "id": "8e9da2a5",
   "metadata": {},
   "outputs": [
    {
     "data": {
      "text/plain": [
       "<Axes: >"
      ]
     },
     "execution_count": 81,
     "metadata": {},
     "output_type": "execute_result"
    },
    {
     "data": {
      "image/png": "[encoded data removed]",
      "text/plain": [
       "<Figure size 640x480 with 1 Axes>"
      ]
     },
     "metadata": {},
     "output_type": "display_data"
    }
   ],
   "source": [
    "data['Category'].value_counts().plot(kind='bar')"
   ]
  },
  {
   "cell_type": "markdown",
   "id": "360ebcec",
   "metadata": {},
   "source": [
    "### Find the number of Suppliers"
   ]
  },
  {
   "cell_type": "code",
   "execution_count": 82,
   "id": "e74d2291",
   "metadata": {},
   "outputs": [
    {
     "data": {
      "text/plain": [
       "8047"
      ]
     },
     "execution_count": 82,
     "metadata": {},
     "output_type": "execute_result"
    }
   ],
   "source": [
    "z=data['Supplier'].value_counts().sum()\n",
    "z"
   ]
  },
  {
   "cell_type": "markdown",
   "id": "abcd846f",
   "metadata": {},
   "source": [
    "### create a bar plot using the number of suppliers and modify the chart"
   ]
  },
  {
   "cell_type": "code",
   "execution_count": 83,
   "id": "03010830",
   "metadata": {},
   "outputs": [
    {
     "data": {
      "text/plain": [
       "Fredrick Kim         44\n",
       "Lora Mendez          40\n",
       "Jeremy Presley       39\n",
       "Joseph Dunn          38\n",
       "Manda Evans          38\n",
       "                     ..\n",
       "Angela Coffman        1\n",
       "Alvin Franks          1\n",
       "Amanda Terrell        1\n",
       "Alexandra Martino     1\n",
       "Andrea Montgomery     1\n",
       "Name: Supplier, Length: 416, dtype: int64"
      ]
     },
     "execution_count": 83,
     "metadata": {},
     "output_type": "execute_result"
    }
   ],
   "source": [
    "z=data['Supplier'].value_counts()\n",
    "z"
   ]
  },
  {
   "cell_type": "markdown",
   "id": "2c0dc0dc",
   "metadata": {},
   "source": [
    "### Create a Pie chart using the percentage values of number of categories"
   ]
  },
  {
   "cell_type": "code",
   "execution_count": 84,
   "id": "34f4d419",
   "metadata": {
    "scrolled": true
   },
   "outputs": [
    {
     "data": {
      "image/png": "[encoded data removed]",
      "text/plain": [
       "<Figure size 640x480 with 1 Axes>"
      ]
     },
     "metadata": {},
     "output_type": "display_data"
    }
   ],
   "source": [
    "# visualize the pie chart\n",
    "#it's show percentage values \n",
    "\n",
    "z=data['Category'].value_counts().plot(kind='pie',autopct='%1.2f%%')"
   ]
  },
  {
   "cell_type": "markdown",
   "id": "fcecd57e",
   "metadata": {},
   "source": [
    "### Create a list of suppliers and remove Guillermo Plant supplier from the list"
   ]
  },
  {
   "cell_type": "code",
   "execution_count": 85,
   "id": "aa0a439e",
   "metadata": {},
   "outputs": [
    {
     "data": {
      "text/plain": [
       "['Kathy Robinson',\n",
       " 'Eric Hatchett',\n",
       " 'Ashley Upright',\n",
       " 'Christopher Francis',\n",
       " 'Gregory Williams']"
      ]
     },
     "execution_count": 85,
     "metadata": {},
     "output_type": "execute_result"
    }
   ],
   "source": [
    "list= ['Kathy Robinson','Eric Hatchett','Ashley Upright','Christopher Francis','Gregory Williams']\n",
    "list"
   ]
  },
  {
   "cell_type": "markdown",
   "id": "e73bcdf5",
   "metadata": {},
   "source": [
    "### Identify which category of products are more sold "
   ]
  },
  {
   "cell_type": "code",
   "execution_count": 86,
   "id": "c79f07b9",
   "metadata": {},
   "outputs": [
    {
     "data": {
      "text/plain": [
       "5286"
      ]
     },
     "execution_count": 86,
     "metadata": {},
     "output_type": "execute_result"
    }
   ],
   "source": [
    "z=data['Category'].value_counts().max()\n",
    "z"
   ]
  },
  {
   "cell_type": "markdown",
   "id": "51d96989",
   "metadata": {},
   "source": [
    "### Identify which category of products are least sold"
   ]
  },
  {
   "cell_type": "code",
   "execution_count": 87,
   "id": "9b15cc39",
   "metadata": {},
   "outputs": [
    {
     "data": {
      "text/plain": [
       "1238"
      ]
     },
     "execution_count": 87,
     "metadata": {},
     "output_type": "execute_result"
    }
   ],
   "source": [
    "z=data['Category'].value_counts().min()\n",
    "z"
   ]
  },
  {
   "cell_type": "markdown",
   "id": "2d3a2ac0",
   "metadata": {},
   "source": [
    "### Identify which supplier has done more sales"
   ]
  },
  {
   "cell_type": "code",
   "execution_count": 90,
   "id": "b95bda4e",
   "metadata": {},
   "outputs": [
    {
     "data": {
      "text/plain": [
       "8047"
      ]
     },
     "execution_count": 90,
     "metadata": {},
     "output_type": "execute_result"
    }
   ],
   "source": [
    "z=data['Supplier'].value_counts().sum()\n",
    "z"
   ]
  }
 ],
 "metadata": {
  "kernelspec": {
   "display_name": "Python 3 (ipykernel)",
   "language": "python",
   "name": "python3"
  },
  "language_info": {
   "codemirror_mode": {
    "name": "ipython",
    "version": 3
   },
   "file_extension": ".py",
   "mimetype": "text/x-python",
   "name": "python",
   "nbconvert_exporter": "python",
   "pygments_lexer": "ipython3",
   "version": "3.10.9"
  }
 },
 "nbformat": 4,
 "nbformat_minor": 5
}
