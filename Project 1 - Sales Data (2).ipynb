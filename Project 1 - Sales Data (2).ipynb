{
 "cells": [
  {
   "cell_type": "code",
   "execution_count": 101,
   "id": "df74c097",
   "metadata": {},
   "outputs": [
    {
     "data": {
      "text/html": [
       "<div>\n",
       "<style scoped>\n",
       "    .dataframe tbody tr th:only-of-type {\n",
       "        vertical-align: middle;\n",
       "    }\n",
       "\n",
       "    .dataframe tbody tr th {\n",
       "        vertical-align: top;\n",
       "    }\n",
       "\n",
       "    .dataframe thead th {\n",
       "        text-align: right;\n",
       "    }\n",
       "</style>\n",
       "<table border=\"1\" class=\"dataframe\">\n",
       "  <thead>\n",
       "    <tr style=\"text-align: right;\">\n",
       "      <th></th>\n",
       "      <th>Invoice Number</th>\n",
       "      <th>Date</th>\n",
       "      <th>Time</th>\n",
       "      <th>Zone</th>\n",
       "      <th>Manager</th>\n",
       "      <th>Customer</th>\n",
       "      <th>Product</th>\n",
       "      <th>price</th>\n",
       "      <th>Units Sold</th>\n",
       "      <th>sales</th>\n",
       "    </tr>\n",
       "  </thead>\n",
       "  <tbody>\n",
       "    <tr>\n",
       "      <th>0</th>\n",
       "      <td>102234</td>\n",
       "      <td>2010-01-07</td>\n",
       "      <td>10:25:37.200000</td>\n",
       "      <td>East</td>\n",
       "      <td>Bruce</td>\n",
       "      <td>Polo</td>\n",
       "      <td>A001</td>\n",
       "      <td>485</td>\n",
       "      <td>42</td>\n",
       "      <td>20370</td>\n",
       "    </tr>\n",
       "    <tr>\n",
       "      <th>1</th>\n",
       "      <td>102235</td>\n",
       "      <td>2010-01-07</td>\n",
       "      <td>12:00:00</td>\n",
       "      <td>East</td>\n",
       "      <td>Jacob</td>\n",
       "      <td>EEE</td>\n",
       "      <td>B227</td>\n",
       "      <td>292</td>\n",
       "      <td>71</td>\n",
       "      <td>20732</td>\n",
       "    </tr>\n",
       "    <tr>\n",
       "      <th>2</th>\n",
       "      <td>102235</td>\n",
       "      <td>2010-01-07</td>\n",
       "      <td>14:19:12</td>\n",
       "      <td>East</td>\n",
       "      <td>Melvin</td>\n",
       "      <td>Marco</td>\n",
       "      <td>A009</td>\n",
       "      <td>544</td>\n",
       "      <td>87</td>\n",
       "      <td>47328</td>\n",
       "    </tr>\n",
       "    <tr>\n",
       "      <th>3</th>\n",
       "      <td>102236</td>\n",
       "      <td>2010-01-07</td>\n",
       "      <td>12:57:00</td>\n",
       "      <td>South</td>\n",
       "      <td>Alicia</td>\n",
       "      <td>EEE</td>\n",
       "      <td>D440</td>\n",
       "      <td>385</td>\n",
       "      <td>51</td>\n",
       "      <td>19635</td>\n",
       "    </tr>\n",
       "    <tr>\n",
       "      <th>4</th>\n",
       "      <td>102236</td>\n",
       "      <td>2010-01-07</td>\n",
       "      <td>14:51:36</td>\n",
       "      <td>East</td>\n",
       "      <td>Paul</td>\n",
       "      <td>Zee</td>\n",
       "      <td>WP6</td>\n",
       "      <td>173</td>\n",
       "      <td>69</td>\n",
       "      <td>11937</td>\n",
       "    </tr>\n",
       "  </tbody>\n",
       "</table>\n",
       "</div>"
      ],
      "text/plain": [
       "   Invoice Number       Date             Time   Zone Manager Customer  \\\n",
       "0          102234 2010-01-07  10:25:37.200000   East   Bruce     Polo   \n",
       "1          102235 2010-01-07         12:00:00   East   Jacob      EEE   \n",
       "2          102235 2010-01-07         14:19:12   East  Melvin    Marco   \n",
       "3          102236 2010-01-07         12:57:00  South  Alicia      EEE   \n",
       "4          102236 2010-01-07         14:51:36   East    Paul      Zee   \n",
       "\n",
       "  Product   price  Units Sold  sales  \n",
       "0     A001    485          42  20370  \n",
       "1     B227    292          71  20732  \n",
       "2     A009    544          87  47328  \n",
       "3     D440    385          51  19635  \n",
       "4      WP6    173          69  11937  "
      ]
     },
     "execution_count": 101,
     "metadata": {},
     "output_type": "execute_result"
    }
   ],
   "source": [
    "# sales data importing\n",
    "import numpy as np\n",
    "import pandas as pd\n",
    "sale=pd.read_excel('1 Sales Data (1).xlsx')\n",
    "sale.head()"
   ]
  },
  {
   "cell_type": "code",
   "execution_count": 102,
   "id": "8822582a",
   "metadata": {},
   "outputs": [
    {
     "data": {
      "text/html": [
       "<div>\n",
       "<style scoped>\n",
       "    .dataframe tbody tr th:only-of-type {\n",
       "        vertical-align: middle;\n",
       "    }\n",
       "\n",
       "    .dataframe tbody tr th {\n",
       "        vertical-align: top;\n",
       "    }\n",
       "\n",
       "    .dataframe thead th {\n",
       "        text-align: right;\n",
       "    }\n",
       "</style>\n",
       "<table border=\"1\" class=\"dataframe\">\n",
       "  <thead>\n",
       "    <tr style=\"text-align: right;\">\n",
       "      <th></th>\n",
       "      <th>Invoice Number</th>\n",
       "      <th>Date</th>\n",
       "      <th>Time</th>\n",
       "      <th>Zone</th>\n",
       "      <th>Manager</th>\n",
       "      <th>Customer</th>\n",
       "      <th>Product</th>\n",
       "      <th>price</th>\n",
       "      <th>Units Sold</th>\n",
       "      <th>sales</th>\n",
       "    </tr>\n",
       "  </thead>\n",
       "  <tbody>\n",
       "    <tr>\n",
       "      <th>26078</th>\n",
       "      <td>115273</td>\n",
       "      <td>2018-12-10</td>\n",
       "      <td>11:16:48</td>\n",
       "      <td>West</td>\n",
       "      <td>Melvin</td>\n",
       "      <td>ABC</td>\n",
       "      <td>B229</td>\n",
       "      <td>388</td>\n",
       "      <td>202</td>\n",
       "      <td>78376</td>\n",
       "    </tr>\n",
       "    <tr>\n",
       "      <th>26079</th>\n",
       "      <td>115274</td>\n",
       "      <td>2018-12-10</td>\n",
       "      <td>11:16:48</td>\n",
       "      <td>West</td>\n",
       "      <td>Melvin</td>\n",
       "      <td>ABC</td>\n",
       "      <td>B229</td>\n",
       "      <td>388</td>\n",
       "      <td>201</td>\n",
       "      <td>77988</td>\n",
       "    </tr>\n",
       "    <tr>\n",
       "      <th>26080</th>\n",
       "      <td>115273</td>\n",
       "      <td>2019-12-10</td>\n",
       "      <td>11:16:48</td>\n",
       "      <td>West</td>\n",
       "      <td>Melvin</td>\n",
       "      <td>ABC</td>\n",
       "      <td>B229</td>\n",
       "      <td>388</td>\n",
       "      <td>500</td>\n",
       "      <td>194000</td>\n",
       "    </tr>\n",
       "    <tr>\n",
       "      <th>26081</th>\n",
       "      <td>115273</td>\n",
       "      <td>2019-12-10</td>\n",
       "      <td>11:16:48</td>\n",
       "      <td>West</td>\n",
       "      <td>Melvin</td>\n",
       "      <td>ABC</td>\n",
       "      <td>B229</td>\n",
       "      <td>388</td>\n",
       "      <td>1000</td>\n",
       "      <td>388000</td>\n",
       "    </tr>\n",
       "    <tr>\n",
       "      <th>26082</th>\n",
       "      <td>115274</td>\n",
       "      <td>2019-12-10</td>\n",
       "      <td>11:16:48</td>\n",
       "      <td>West</td>\n",
       "      <td>Melvin</td>\n",
       "      <td>ABC</td>\n",
       "      <td>B229</td>\n",
       "      <td>388</td>\n",
       "      <td>1500</td>\n",
       "      <td>582000</td>\n",
       "    </tr>\n",
       "  </tbody>\n",
       "</table>\n",
       "</div>"
      ],
      "text/plain": [
       "       Invoice Number       Date      Time  Zone Manager Customer Product   \\\n",
       "26078          115273 2018-12-10  11:16:48  West  Melvin      ABC     B229   \n",
       "26079          115274 2018-12-10  11:16:48  West  Melvin      ABC     B229   \n",
       "26080          115273 2019-12-10  11:16:48  West  Melvin      ABC     B229   \n",
       "26081          115273 2019-12-10  11:16:48  West  Melvin      ABC     B229   \n",
       "26082          115274 2019-12-10  11:16:48  West  Melvin      ABC     B229   \n",
       "\n",
       "       price  Units Sold   sales  \n",
       "26078    388         202   78376  \n",
       "26079    388         201   77988  \n",
       "26080    388         500  194000  \n",
       "26081    388        1000  388000  \n",
       "26082    388        1500  582000  "
      ]
     },
     "execution_count": 102,
     "metadata": {},
     "output_type": "execute_result"
    }
   ],
   "source": [
    "sale.tail()"
   ]
  },
  {
   "cell_type": "markdown",
   "id": "bd171271",
   "metadata": {},
   "source": [
    "### Check is there any null values in the data. Yes/ No"
   ]
  },
  {
   "cell_type": "code",
   "execution_count": 103,
   "id": "5015d9a1",
   "metadata": {},
   "outputs": [
    {
     "data": {
      "text/plain": [
       "Invoice Number    False\n",
       "Date              False\n",
       "Time              False\n",
       "Zone              False\n",
       "Manager           False\n",
       "Customer          False\n",
       "Product           False\n",
       "price             False\n",
       "Units Sold        False\n",
       "sales             False\n",
       "dtype: bool"
      ]
     },
     "execution_count": 103,
     "metadata": {},
     "output_type": "execute_result"
    }
   ],
   "source": [
    "sale.isnull().any()"
   ]
  },
  {
   "cell_type": "markdown",
   "id": "1737b061",
   "metadata": {},
   "source": [
    "### Find total sales."
   ]
  },
  {
   "cell_type": "code",
   "execution_count": 104,
   "id": "b1fc3baf",
   "metadata": {},
   "outputs": [
    {
     "data": {
      "text/plain": [
       "1085806200"
      ]
     },
     "execution_count": 104,
     "metadata": {},
     "output_type": "execute_result"
    }
   ],
   "source": [
    "a=sale['sales'].sum()\n",
    "a"
   ]
  },
  {
   "cell_type": "markdown",
   "id": "16529cbd",
   "metadata": {},
   "source": [
    "### Find total number of products sold."
   ]
  },
  {
   "cell_type": "code",
   "execution_count": 105,
   "id": "c23ef54e",
   "metadata": {},
   "outputs": [
    {
     "data": {
      "text/plain": [
       "26083"
      ]
     },
     "execution_count": 105,
     "metadata": {},
     "output_type": "execute_result"
    }
   ],
   "source": [
    "b=sale['Product '].value_counts().sum()\n",
    "b"
   ]
  },
  {
   "cell_type": "markdown",
   "id": "658aebd7",
   "metadata": {},
   "source": [
    "### Find maximum Sales"
   ]
  },
  {
   "cell_type": "code",
   "execution_count": 106,
   "id": "e965fba9",
   "metadata": {},
   "outputs": [
    {
     "data": {
      "text/plain": [
       "582000"
      ]
     },
     "execution_count": 106,
     "metadata": {},
     "output_type": "execute_result"
    }
   ],
   "source": [
    "c=sale['sales'].max()\n",
    "c"
   ]
  },
  {
   "cell_type": "markdown",
   "id": "8fe4cd86",
   "metadata": {},
   "source": [
    "### Find Minimum Sales"
   ]
  },
  {
   "cell_type": "code",
   "execution_count": 107,
   "id": "1a91e3f7",
   "metadata": {},
   "outputs": [
    {
     "data": {
      "text/plain": [
       "865"
      ]
     },
     "execution_count": 107,
     "metadata": {},
     "output_type": "execute_result"
    }
   ],
   "source": [
    "d=sale['sales'].min()\n",
    "d"
   ]
  },
  {
   "cell_type": "markdown",
   "id": "e111443b",
   "metadata": {},
   "source": [
    "### Find the Average Sales"
   ]
  },
  {
   "cell_type": "code",
   "execution_count": 108,
   "id": "63655a53",
   "metadata": {},
   "outputs": [
    {
     "data": {
      "text/plain": [
       "41628.88471418165"
      ]
     },
     "execution_count": 108,
     "metadata": {},
     "output_type": "execute_result"
    }
   ],
   "source": [
    "e=sale['sales'].mean()\n",
    "e"
   ]
  },
  {
   "cell_type": "markdown",
   "id": "7b36e084",
   "metadata": {},
   "source": [
    "### Find the Range of Sales"
   ]
  },
  {
   "cell_type": "code",
   "execution_count": 109,
   "id": "067cf547",
   "metadata": {},
   "outputs": [
    {
     "data": {
      "text/plain": [
       "581135"
      ]
     },
     "execution_count": 109,
     "metadata": {},
     "output_type": "execute_result"
    }
   ],
   "source": [
    "# Range= max-min\n",
    "f=582000-865\n",
    "f"
   ]
  },
  {
   "cell_type": "markdown",
   "id": "890d1500",
   "metadata": {},
   "source": [
    "### Find the Standard Deviation of Sales"
   ]
  },
  {
   "cell_type": "code",
   "execution_count": 115,
   "id": "3fdb5bde",
   "metadata": {},
   "outputs": [
    {
     "name": "stdout",
     "output_type": "stream",
     "text": [
      "standard dev: Invoice Number                    3764.756508\n",
      "Date              941 days 06:39:14.174732496\n",
      "price                              117.085079\n",
      "Units Sold                           71.19162\n",
      "sales                             30413.15122\n",
      "dtype: object\n"
     ]
    },
    {
     "name": "stderr",
     "output_type": "stream",
     "text": [
      "C:\\Users\\jiyam\\anaconda3\\lib\\site-packages\\numpy\\core\\fromnumeric.py:3571: FutureWarning: The default value of numeric_only in DataFrame.std is deprecated. In a future version, it will default to False. In addition, specifying 'numeric_only=None' is deprecated. Select only valid columns or specify the value of numeric_only to silence this warning.\n",
      "  return std(axis=axis, dtype=dtype, out=out, ddof=ddof, **kwargs)\n"
     ]
    }
   ],
   "source": [
    "print(\"standard dev:\",np.std(sales))\n",
    "                        "
   ]
  },
  {
   "cell_type": "markdown",
   "id": "45f7c014",
   "metadata": {},
   "source": [
    "### Find Average Sales by each zone"
   ]
  },
  {
   "cell_type": "code",
   "execution_count": 14,
   "id": "54da46a5",
   "metadata": {},
   "outputs": [
    {
     "ename": "NameError",
     "evalue": "name 'sale' is not defined",
     "output_type": "error",
     "traceback": [
      "\u001b[1;31m---------------------------------------------------------------------------\u001b[0m",
      "\u001b[1;31mNameError\u001b[0m                                 Traceback (most recent call last)",
      "Cell \u001b[1;32mIn[14], line 1\u001b[0m\n\u001b[1;32m----> 1\u001b[0m \u001b[43msale\u001b[49m[\u001b[38;5;124m'\u001b[39m\u001b[38;5;124msales\u001b[39m\u001b[38;5;124m'\u001b[39m,\u001b[38;5;124m'\u001b[39m\u001b[38;5;124mZone\u001b[39m\u001b[38;5;124m'\u001b[39m]\u001b[38;5;241m.\u001b[39mmean()\n",
      "\u001b[1;31mNameError\u001b[0m: name 'sale' is not defined"
     ]
    }
   ],
   "source": [
    "sale['sales','Zone'].mean()\n"
   ]
  },
  {
   "cell_type": "markdown",
   "id": "e1f02d8b",
   "metadata": {},
   "source": [
    "### Find maximum sales by each zone"
   ]
  },
  {
   "cell_type": "code",
   "execution_count": 13,
   "id": "df1b0064",
   "metadata": {},
   "outputs": [
    {
     "ename": "NameError",
     "evalue": "name 'sale' is not defined",
     "output_type": "error",
     "traceback": [
      "\u001b[1;31m---------------------------------------------------------------------------\u001b[0m",
      "\u001b[1;31mNameError\u001b[0m                                 Traceback (most recent call last)",
      "Cell \u001b[1;32mIn[13], line 1\u001b[0m\n\u001b[1;32m----> 1\u001b[0m k\u001b[38;5;241m=\u001b[39m\u001b[43msale\u001b[49m[\u001b[38;5;124m'\u001b[39m\u001b[38;5;124msales\u001b[39m\u001b[38;5;124m'\u001b[39m]\u001b[38;5;241m.\u001b[39mmax()\n\u001b[0;32m      2\u001b[0m k\n",
      "\u001b[1;31mNameError\u001b[0m: name 'sale' is not defined"
     ]
    }
   ],
   "source": [
    "k=sale['sales'].max()\n",
    "k"
   ]
  },
  {
   "cell_type": "markdown",
   "id": "f2b0a252",
   "metadata": {},
   "source": [
    "### Find minimum sales by each zone"
   ]
  },
  {
   "cell_type": "code",
   "execution_count": null,
   "id": "c5d0e55e",
   "metadata": {},
   "outputs": [],
   "source": []
  },
  {
   "cell_type": "markdown",
   "id": "059456c1",
   "metadata": {},
   "source": [
    "### Give an Inference from the data"
   ]
  },
  {
   "cell_type": "code",
   "execution_count": null,
   "id": "a08e1190",
   "metadata": {},
   "outputs": [],
   "source": []
  }
 ],
 "metadata": {
  "kernelspec": {
   "display_name": "Python 3 (ipykernel)",
   "language": "python",
   "name": "python3"
  },
  "language_info": {
   "codemirror_mode": {
    "name": "ipython",
    "version": 3
   },
   "file_extension": ".py",
   "mimetype": "text/x-python",
   "name": "python",
   "nbconvert_exporter": "python",
   "pygments_lexer": "ipython3",
   "version": "3.10.9"
  }
 },
 "nbformat": 4,
 "nbformat_minor": 5
}
