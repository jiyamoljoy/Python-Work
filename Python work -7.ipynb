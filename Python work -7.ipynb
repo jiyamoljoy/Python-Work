{
 "cells": [
  {
   "cell_type": "markdown",
   "id": "17cf5265",
   "metadata": {},
   "source": [
    "# Dictionary"
   ]
  },
  {
   "cell_type": "code",
   "execution_count": 22,
   "id": "3a4df544",
   "metadata": {},
   "outputs": [
    {
     "data": {
      "text/plain": [
       "{'Name': 'jiyamol',\n",
       " 'Email': 'jiyaparackal00@gmail.com',\n",
       " 'phone number': '4800458000'}"
      ]
     },
     "execution_count": 22,
     "metadata": {},
     "output_type": "execute_result"
    }
   ],
   "source": [
    "# we created a dictionary now,with key : name,email,phone number\n",
    "# and values jiyamol,jiyaparackal00@gmail.com,4800458000\n",
    "\n",
    "dict1={\"Name\":\"jiyamol\",\"Email\" : \"jiyaparackal00@gmail.com\",\"phone number\" : \"4800458000\"}\n",
    "dict1"
   ]
  },
  {
   "cell_type": "code",
   "execution_count": 23,
   "id": "cc3bd0a1",
   "metadata": {},
   "outputs": [
    {
     "data": {
      "text/plain": [
       "'4800458000'"
      ]
     },
     "execution_count": 23,
     "metadata": {},
     "output_type": "execute_result"
    }
   ],
   "source": [
    "# Now to seperately call each key from the dictionary we can use the code\n",
    "a=dict1['phone number']\n",
    "a"
   ]
  },
  {
   "cell_type": "code",
   "execution_count": 24,
   "id": "9c51a15d",
   "metadata": {},
   "outputs": [
    {
     "name": "stdout",
     "output_type": "stream",
     "text": [
      "{'Name': 'catherine', 'Email': 'jiyaparackal00@gmail.com', 'phone number': '4800458000'}\n"
     ]
    }
   ],
   "source": [
    "# change value in the dictionary\n",
    "dict1[\"Name\"]= \"catherine\"\n",
    "print(dict1)"
   ]
  },
  {
   "cell_type": "code",
   "execution_count": 25,
   "id": "ae84e3b9",
   "metadata": {},
   "outputs": [
    {
     "name": "stdout",
     "output_type": "stream",
     "text": [
      "{'Name': 'catherine', 'Email': 'jiyaparackal00@gmail.com', 'phone number': '4800458000'}\n"
     ]
    }
   ],
   "source": [
    "dict1[\"Email\"]=\"jiyaparackal00@gmail.com\"\n",
    "print(dict1)"
   ]
  },
  {
   "cell_type": "code",
   "execution_count": 26,
   "id": "a0778b23",
   "metadata": {},
   "outputs": [
    {
     "name": "stdout",
     "output_type": "stream",
     "text": [
      "Name\n",
      "Email\n",
      "phone number\n"
     ]
    }
   ],
   "source": [
    "# To get key words headings\n",
    "for x in dict1:\n",
    "    print(x)"
   ]
  },
  {
   "cell_type": "code",
   "execution_count": 27,
   "id": "c438df9c",
   "metadata": {},
   "outputs": [
    {
     "name": "stdout",
     "output_type": "stream",
     "text": [
      "catherine\n",
      "jiyaparackal00@gmail.com\n",
      "4800458000\n"
     ]
    }
   ],
   "source": [
    "# To get value\n",
    "for x in dict1:\n",
    "    print(dict1[x])"
   ]
  },
  {
   "cell_type": "code",
   "execution_count": 28,
   "id": "95bdfac4",
   "metadata": {},
   "outputs": [
    {
     "name": "stdout",
     "output_type": "stream",
     "text": [
      "Name catherine\n",
      "Email jiyaparackal00@gmail.com\n",
      "phone number 4800458000\n"
     ]
    }
   ],
   "source": [
    "# To get both key and values\n",
    "for x,y in dict1.items():\n",
    "    print(x,y)"
   ]
  },
  {
   "cell_type": "code",
   "execution_count": 29,
   "id": "20d5bbcb",
   "metadata": {},
   "outputs": [
    {
     "name": "stdout",
     "output_type": "stream",
     "text": [
      "3\n"
     ]
    }
   ],
   "source": [
    "# To get the lenght of dicitionary\n",
    "print(len(dict1))"
   ]
  },
  {
   "cell_type": "code",
   "execution_count": 31,
   "id": "989c5d68",
   "metadata": {},
   "outputs": [
    {
     "name": "stdout",
     "output_type": "stream",
     "text": [
      "{'Name': 'catherine', 'Email': 'jiyaparackal00@gmail.com', 'phone number': '4800458000', 'Age': 21}\n"
     ]
    }
   ],
   "source": [
    "# To add some more key and values into dictionary\n",
    "dict1[\"Age\"]=21\n",
    "print(dict1)"
   ]
  },
  {
   "cell_type": "code",
   "execution_count": 32,
   "id": "94ea2685",
   "metadata": {},
   "outputs": [
    {
     "name": "stdout",
     "output_type": "stream",
     "text": [
      "4\n"
     ]
    }
   ],
   "source": [
    "print(len(dict1))"
   ]
  },
  {
   "cell_type": "code",
   "execution_count": 33,
   "id": "a0263dfe",
   "metadata": {},
   "outputs": [
    {
     "name": "stdout",
     "output_type": "stream",
     "text": [
      "{'Name': 'catherine', 'Email': 'jiyaparackal00@gmail.com', 'phone number': '4800458000', 'Age': 21, 'place': 'perumbavoor'}\n"
     ]
    }
   ],
   "source": [
    "dict1[\"place\"]=\"perumbavoor\"\n",
    "print(dict1)"
   ]
  },
  {
   "cell_type": "code",
   "execution_count": 34,
   "id": "9496ad28",
   "metadata": {},
   "outputs": [
    {
     "name": "stdout",
     "output_type": "stream",
     "text": [
      "5\n"
     ]
    }
   ],
   "source": [
    "print(len(dict1))"
   ]
  },
  {
   "cell_type": "code",
   "execution_count": 35,
   "id": "958869da",
   "metadata": {},
   "outputs": [
    {
     "data": {
      "text/plain": [
       "{'Name': 'catherine',\n",
       " 'phone number': '4800458000',\n",
       " 'Age': 21,\n",
       " 'place': 'perumbavoor'}"
      ]
     },
     "execution_count": 35,
     "metadata": {},
     "output_type": "execute_result"
    }
   ],
   "source": [
    "# To remove value\n",
    "dict1.pop(\"Email\")\n",
    "dict1"
   ]
  },
  {
   "cell_type": "code",
   "execution_count": 36,
   "id": "ee2331f0",
   "metadata": {},
   "outputs": [
    {
     "data": {
      "text/plain": [
       "{'Name': 'catherine', 'phone number': '4800458000', 'Age': 21}"
      ]
     },
     "execution_count": 36,
     "metadata": {},
     "output_type": "execute_result"
    }
   ],
   "source": [
    "# To delet from dictionary\n",
    "del dict1[\"place\"]\n",
    "dict1"
   ]
  },
  {
   "cell_type": "code",
   "execution_count": 37,
   "id": "5dfcbe63",
   "metadata": {},
   "outputs": [
    {
     "data": {
      "text/plain": [
       "{}"
      ]
     },
     "execution_count": 37,
     "metadata": {},
     "output_type": "execute_result"
    }
   ],
   "source": [
    "# To clear all the  values from dictionary\n",
    "dict1.clear()\n",
    "dict1"
   ]
  }
 ],
 "metadata": {
  "kernelspec": {
   "display_name": "Python 3 (ipykernel)",
   "language": "python",
   "name": "python3"
  },
  "language_info": {
   "codemirror_mode": {
    "name": "ipython",
    "version": 3
   },
   "file_extension": ".py",
   "mimetype": "text/x-python",
   "name": "python",
   "nbconvert_exporter": "python",
   "pygments_lexer": "ipython3",
   "version": "3.10.9"
  }
 },
 "nbformat": 4,
 "nbformat_minor": 5
}
